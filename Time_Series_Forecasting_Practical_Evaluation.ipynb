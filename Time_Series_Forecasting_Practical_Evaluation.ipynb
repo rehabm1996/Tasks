{
  "cells": [
    {
      "cell_type": "markdown",
      "metadata": {
        "id": "view-in-github",
        "colab_type": "text"
      },
      "source": [
        "<a href=\"https://colab.research.google.com/github/rehabm1996/Task/blob/main/Time_Series_Forecasting_Practical_Evaluation.ipynb\" target=\"_parent\"><img src=\"https://colab.research.google.com/assets/colab-badge.svg\" alt=\"Open In Colab\"/></a>"
      ]
    },
    {
      "cell_type": "markdown",
      "id": "3e2b26be",
      "metadata": {
        "id": "3e2b26be"
      },
      "source": [
        "# Time Series Forecasting Exam\n",
        "\n",
        "In this exam, you will work on a time series forecasting task. The goal is to go through the entire workflow from loading the data to evaluating the model and making predictions. Follow each step carefully. The dataset is stored in you can access it [here](https://www.kaggle.com/datasets/khaledzsa/traffic-dataset), the target is to predict `traffic_volume` column. There is also command to download the dataset below.\n",
        "\n",
        "## Dataset: Traffic Dataset\n",
        "\n",
        "### Dataset Overview:\n",
        "\n",
        "- **Name**: Traffic Dataset\n",
        "- **Description**: This dataset contains hourly data on the traffic volume for westbound I-94, a major interstate highway in the US that connects Minneapolis and St Paul, Minnesota. The data was collected by the Minnesota Department of Transportation (MnDOT) from 2012 to 2018 at a station roughly midway between the two cities.\n",
        "- **Time Period**: Starting from 18-11-2016\n",
        "- **Frequency**: Hourly observations\n",
        "\n",
        "### Features:\n",
        "\n",
        "1. **temp:** a numeric variable that shows the average temperature in kelvin.\n",
        "2. **rain_1h:** a numeric variable that shows the amount of rain in mm that occurred in the hour.\n",
        "3. **snow_1h:** a numeric variable that shows the amount of snow in mm that occurred in the hour.\n",
        "4. **clouds_all:** a numeric variable that shows the percentage of cloud cover.\n",
        "5. **weather_main:** a categorical variable that gives a short textual description of the current weather (such as Clear, Clouds, Rain, etc.).\n",
        "6. **weather_description:** a categorical variable that gives a longer textual description of the current weather (such as light rain, overcast clouds, etc.).\n",
        "7. **date_time:** a datetime variable that shows the hour of the data collected in local CST time.\n",
        "8. **traffic_volume:** a numeric variable that shows the hourly I-94 reported westbound traffic volume.\n",
        "\n",
        "#### Feel free to add or rearrange steps as you see fit to optimize your workflow. One additional note: the model's performance doesn't need to be 100% accurate. Instead, focus on achieving the best possible results while balancing performance and generalization."
      ]
    },
    {
      "cell_type": "markdown",
      "id": "9d58f5eb",
      "metadata": {
        "id": "9d58f5eb"
      },
      "source": [
        "## Load the Data\n",
        "\n",
        "Load the time series dataset into a pandas DataFrame.\n",
        "\n",
        "**Instructions:**\n",
        "- Use `pandas` to load your dataset.\n",
        "- Display the first few rows to understand its structure.\n",
        "- Make sure the datetime column is correctly parsed."
      ]
    },
    {
      "cell_type": "code",
      "source": [
        "import pandas as pd\n",
        "import matplotlib.pyplot as plt\n",
        "from statsmodels.tsa.seasonal import seasonal_decompose\n",
        "from sklearn.model_selection import train_test_split\n",
        "from sklearn.preprocessing import MinMaxScaler\n",
        "from tensorflow.keras.utils import timeseries_dataset_from_array\n",
        "from tensorflow.keras.layers import Dense , SimpleRNN ,GRU , LSTM ,Dropout\n",
        "from tensorflow.keras.models import Sequential\n",
        "from sklearn.metrics import mean_absolute_error , mean_squared_error , mean_absolute_percentage_error\n",
        "import numpy as np"
      ],
      "metadata": {
        "id": "5jMDd-fs5sWF"
      },
      "id": "5jMDd-fs5sWF",
      "execution_count": 315,
      "outputs": []
    },
    {
      "cell_type": "code",
      "source": [
        "# Here is a helping code that will download and unzip the dataset for you.\n",
        "# Once you download the dataset you may comment the code!\n",
        "!kaggle datasets download -d khaledzsa/traffic-dataset\n",
        "!unzip traffic-dataset.zip"
      ],
      "metadata": {
        "id": "tJG6da7n3tYZ",
        "colab": {
          "base_uri": "https://localhost:8080/"
        },
        "outputId": "1dee4433-89ff-4c35-ed0c-19f2d8cc0719"
      },
      "id": "tJG6da7n3tYZ",
      "execution_count": 1,
      "outputs": [
        {
          "output_type": "stream",
          "name": "stdout",
          "text": [
            "Dataset URL: https://www.kaggle.com/datasets/khaledzsa/traffic-dataset\n",
            "License(s): unknown\n",
            "Downloading traffic-dataset.zip to /content\n",
            "  0% 0.00/235k [00:00<?, ?B/s]\n",
            "100% 235k/235k [00:00<00:00, 38.6MB/s]\n",
            "Archive:  traffic-dataset.zip\n",
            "  inflating: Traffic Data.csv        \n"
          ]
        }
      ]
    },
    {
      "cell_type": "code",
      "execution_count": 67,
      "id": "aeb78ac1",
      "metadata": {
        "id": "aeb78ac1"
      },
      "outputs": [],
      "source": [
        "traffic = pd.read_csv('/content/Traffic Data.csv', parse_dates=['date_time'] , index_col='date_time')"
      ]
    },
    {
      "cell_type": "code",
      "source": [
        "traffic.head()"
      ],
      "metadata": {
        "colab": {
          "base_uri": "https://localhost:8080/",
          "height": 237
        },
        "id": "qWWtRqyF6Sej",
        "outputId": "f6457dd7-0bb8-4581-c3e0-2f63477be13c"
      },
      "id": "qWWtRqyF6Sej",
      "execution_count": 68,
      "outputs": [
        {
          "output_type": "execute_result",
          "data": {
            "text/plain": [
              "                     traffic_volume    temp  rain_1h  snow_1h  clouds_all  \\\n",
              "date_time                                                                   \n",
              "2017-08-27 01:00:00          1209.0  291.15      0.0      0.0          90   \n",
              "2018-09-06 23:00:00          1248.0  286.01      0.0      0.0           1   \n",
              "2017-08-25 18:00:00          4602.0  293.69      0.0      0.0          75   \n",
              "2017-11-09 22:00:00          2838.0  262.35      0.0      0.0           1   \n",
              "2017-11-09 15:00:00          5794.0  267.08      0.0      0.0           5   \n",
              "\n",
              "                    weather_main weather_description  \n",
              "date_time                                             \n",
              "2017-08-27 01:00:00         Mist                mist  \n",
              "2018-09-06 23:00:00        Clear        sky is clear  \n",
              "2017-08-25 18:00:00       Clouds       broken clouds  \n",
              "2017-11-09 22:00:00        Clear        sky is clear  \n",
              "2017-11-09 15:00:00        Clear        sky is clear  "
            ],
            "text/html": [
              "\n",
              "  <div id=\"df-07a8b056-3492-4cc4-b095-6b759e89e798\" class=\"colab-df-container\">\n",
              "    <div>\n",
              "<style scoped>\n",
              "    .dataframe tbody tr th:only-of-type {\n",
              "        vertical-align: middle;\n",
              "    }\n",
              "\n",
              "    .dataframe tbody tr th {\n",
              "        vertical-align: top;\n",
              "    }\n",
              "\n",
              "    .dataframe thead th {\n",
              "        text-align: right;\n",
              "    }\n",
              "</style>\n",
              "<table border=\"1\" class=\"dataframe\">\n",
              "  <thead>\n",
              "    <tr style=\"text-align: right;\">\n",
              "      <th></th>\n",
              "      <th>traffic_volume</th>\n",
              "      <th>temp</th>\n",
              "      <th>rain_1h</th>\n",
              "      <th>snow_1h</th>\n",
              "      <th>clouds_all</th>\n",
              "      <th>weather_main</th>\n",
              "      <th>weather_description</th>\n",
              "    </tr>\n",
              "    <tr>\n",
              "      <th>date_time</th>\n",
              "      <th></th>\n",
              "      <th></th>\n",
              "      <th></th>\n",
              "      <th></th>\n",
              "      <th></th>\n",
              "      <th></th>\n",
              "      <th></th>\n",
              "    </tr>\n",
              "  </thead>\n",
              "  <tbody>\n",
              "    <tr>\n",
              "      <th>2017-08-27 01:00:00</th>\n",
              "      <td>1209.0</td>\n",
              "      <td>291.15</td>\n",
              "      <td>0.0</td>\n",
              "      <td>0.0</td>\n",
              "      <td>90</td>\n",
              "      <td>Mist</td>\n",
              "      <td>mist</td>\n",
              "    </tr>\n",
              "    <tr>\n",
              "      <th>2018-09-06 23:00:00</th>\n",
              "      <td>1248.0</td>\n",
              "      <td>286.01</td>\n",
              "      <td>0.0</td>\n",
              "      <td>0.0</td>\n",
              "      <td>1</td>\n",
              "      <td>Clear</td>\n",
              "      <td>sky is clear</td>\n",
              "    </tr>\n",
              "    <tr>\n",
              "      <th>2017-08-25 18:00:00</th>\n",
              "      <td>4602.0</td>\n",
              "      <td>293.69</td>\n",
              "      <td>0.0</td>\n",
              "      <td>0.0</td>\n",
              "      <td>75</td>\n",
              "      <td>Clouds</td>\n",
              "      <td>broken clouds</td>\n",
              "    </tr>\n",
              "    <tr>\n",
              "      <th>2017-11-09 22:00:00</th>\n",
              "      <td>2838.0</td>\n",
              "      <td>262.35</td>\n",
              "      <td>0.0</td>\n",
              "      <td>0.0</td>\n",
              "      <td>1</td>\n",
              "      <td>Clear</td>\n",
              "      <td>sky is clear</td>\n",
              "    </tr>\n",
              "    <tr>\n",
              "      <th>2017-11-09 15:00:00</th>\n",
              "      <td>5794.0</td>\n",
              "      <td>267.08</td>\n",
              "      <td>0.0</td>\n",
              "      <td>0.0</td>\n",
              "      <td>5</td>\n",
              "      <td>Clear</td>\n",
              "      <td>sky is clear</td>\n",
              "    </tr>\n",
              "  </tbody>\n",
              "</table>\n",
              "</div>\n",
              "    <div class=\"colab-df-buttons\">\n",
              "\n",
              "  <div class=\"colab-df-container\">\n",
              "    <button class=\"colab-df-convert\" onclick=\"convertToInteractive('df-07a8b056-3492-4cc4-b095-6b759e89e798')\"\n",
              "            title=\"Convert this dataframe to an interactive table.\"\n",
              "            style=\"display:none;\">\n",
              "\n",
              "  <svg xmlns=\"http://www.w3.org/2000/svg\" height=\"24px\" viewBox=\"0 -960 960 960\">\n",
              "    <path d=\"M120-120v-720h720v720H120Zm60-500h600v-160H180v160Zm220 220h160v-160H400v160Zm0 220h160v-160H400v160ZM180-400h160v-160H180v160Zm440 0h160v-160H620v160ZM180-180h160v-160H180v160Zm440 0h160v-160H620v160Z\"/>\n",
              "  </svg>\n",
              "    </button>\n",
              "\n",
              "  <style>\n",
              "    .colab-df-container {\n",
              "      display:flex;\n",
              "      gap: 12px;\n",
              "    }\n",
              "\n",
              "    .colab-df-convert {\n",
              "      background-color: #E8F0FE;\n",
              "      border: none;\n",
              "      border-radius: 50%;\n",
              "      cursor: pointer;\n",
              "      display: none;\n",
              "      fill: #1967D2;\n",
              "      height: 32px;\n",
              "      padding: 0 0 0 0;\n",
              "      width: 32px;\n",
              "    }\n",
              "\n",
              "    .colab-df-convert:hover {\n",
              "      background-color: #E2EBFA;\n",
              "      box-shadow: 0px 1px 2px rgba(60, 64, 67, 0.3), 0px 1px 3px 1px rgba(60, 64, 67, 0.15);\n",
              "      fill: #174EA6;\n",
              "    }\n",
              "\n",
              "    .colab-df-buttons div {\n",
              "      margin-bottom: 4px;\n",
              "    }\n",
              "\n",
              "    [theme=dark] .colab-df-convert {\n",
              "      background-color: #3B4455;\n",
              "      fill: #D2E3FC;\n",
              "    }\n",
              "\n",
              "    [theme=dark] .colab-df-convert:hover {\n",
              "      background-color: #434B5C;\n",
              "      box-shadow: 0px 1px 3px 1px rgba(0, 0, 0, 0.15);\n",
              "      filter: drop-shadow(0px 1px 2px rgba(0, 0, 0, 0.3));\n",
              "      fill: #FFFFFF;\n",
              "    }\n",
              "  </style>\n",
              "\n",
              "    <script>\n",
              "      const buttonEl =\n",
              "        document.querySelector('#df-07a8b056-3492-4cc4-b095-6b759e89e798 button.colab-df-convert');\n",
              "      buttonEl.style.display =\n",
              "        google.colab.kernel.accessAllowed ? 'block' : 'none';\n",
              "\n",
              "      async function convertToInteractive(key) {\n",
              "        const element = document.querySelector('#df-07a8b056-3492-4cc4-b095-6b759e89e798');\n",
              "        const dataTable =\n",
              "          await google.colab.kernel.invokeFunction('convertToInteractive',\n",
              "                                                    [key], {});\n",
              "        if (!dataTable) return;\n",
              "\n",
              "        const docLinkHtml = 'Like what you see? Visit the ' +\n",
              "          '<a target=\"_blank\" href=https://colab.research.google.com/notebooks/data_table.ipynb>data table notebook</a>'\n",
              "          + ' to learn more about interactive tables.';\n",
              "        element.innerHTML = '';\n",
              "        dataTable['output_type'] = 'display_data';\n",
              "        await google.colab.output.renderOutput(dataTable, element);\n",
              "        const docLink = document.createElement('div');\n",
              "        docLink.innerHTML = docLinkHtml;\n",
              "        element.appendChild(docLink);\n",
              "      }\n",
              "    </script>\n",
              "  </div>\n",
              "\n",
              "\n",
              "<div id=\"df-99cd890c-8374-4b9c-9a67-667d98a6f3e7\">\n",
              "  <button class=\"colab-df-quickchart\" onclick=\"quickchart('df-99cd890c-8374-4b9c-9a67-667d98a6f3e7')\"\n",
              "            title=\"Suggest charts\"\n",
              "            style=\"display:none;\">\n",
              "\n",
              "<svg xmlns=\"http://www.w3.org/2000/svg\" height=\"24px\"viewBox=\"0 0 24 24\"\n",
              "     width=\"24px\">\n",
              "    <g>\n",
              "        <path d=\"M19 3H5c-1.1 0-2 .9-2 2v14c0 1.1.9 2 2 2h14c1.1 0 2-.9 2-2V5c0-1.1-.9-2-2-2zM9 17H7v-7h2v7zm4 0h-2V7h2v10zm4 0h-2v-4h2v4z\"/>\n",
              "    </g>\n",
              "</svg>\n",
              "  </button>\n",
              "\n",
              "<style>\n",
              "  .colab-df-quickchart {\n",
              "      --bg-color: #E8F0FE;\n",
              "      --fill-color: #1967D2;\n",
              "      --hover-bg-color: #E2EBFA;\n",
              "      --hover-fill-color: #174EA6;\n",
              "      --disabled-fill-color: #AAA;\n",
              "      --disabled-bg-color: #DDD;\n",
              "  }\n",
              "\n",
              "  [theme=dark] .colab-df-quickchart {\n",
              "      --bg-color: #3B4455;\n",
              "      --fill-color: #D2E3FC;\n",
              "      --hover-bg-color: #434B5C;\n",
              "      --hover-fill-color: #FFFFFF;\n",
              "      --disabled-bg-color: #3B4455;\n",
              "      --disabled-fill-color: #666;\n",
              "  }\n",
              "\n",
              "  .colab-df-quickchart {\n",
              "    background-color: var(--bg-color);\n",
              "    border: none;\n",
              "    border-radius: 50%;\n",
              "    cursor: pointer;\n",
              "    display: none;\n",
              "    fill: var(--fill-color);\n",
              "    height: 32px;\n",
              "    padding: 0;\n",
              "    width: 32px;\n",
              "  }\n",
              "\n",
              "  .colab-df-quickchart:hover {\n",
              "    background-color: var(--hover-bg-color);\n",
              "    box-shadow: 0 1px 2px rgba(60, 64, 67, 0.3), 0 1px 3px 1px rgba(60, 64, 67, 0.15);\n",
              "    fill: var(--button-hover-fill-color);\n",
              "  }\n",
              "\n",
              "  .colab-df-quickchart-complete:disabled,\n",
              "  .colab-df-quickchart-complete:disabled:hover {\n",
              "    background-color: var(--disabled-bg-color);\n",
              "    fill: var(--disabled-fill-color);\n",
              "    box-shadow: none;\n",
              "  }\n",
              "\n",
              "  .colab-df-spinner {\n",
              "    border: 2px solid var(--fill-color);\n",
              "    border-color: transparent;\n",
              "    border-bottom-color: var(--fill-color);\n",
              "    animation:\n",
              "      spin 1s steps(1) infinite;\n",
              "  }\n",
              "\n",
              "  @keyframes spin {\n",
              "    0% {\n",
              "      border-color: transparent;\n",
              "      border-bottom-color: var(--fill-color);\n",
              "      border-left-color: var(--fill-color);\n",
              "    }\n",
              "    20% {\n",
              "      border-color: transparent;\n",
              "      border-left-color: var(--fill-color);\n",
              "      border-top-color: var(--fill-color);\n",
              "    }\n",
              "    30% {\n",
              "      border-color: transparent;\n",
              "      border-left-color: var(--fill-color);\n",
              "      border-top-color: var(--fill-color);\n",
              "      border-right-color: var(--fill-color);\n",
              "    }\n",
              "    40% {\n",
              "      border-color: transparent;\n",
              "      border-right-color: var(--fill-color);\n",
              "      border-top-color: var(--fill-color);\n",
              "    }\n",
              "    60% {\n",
              "      border-color: transparent;\n",
              "      border-right-color: var(--fill-color);\n",
              "    }\n",
              "    80% {\n",
              "      border-color: transparent;\n",
              "      border-right-color: var(--fill-color);\n",
              "      border-bottom-color: var(--fill-color);\n",
              "    }\n",
              "    90% {\n",
              "      border-color: transparent;\n",
              "      border-bottom-color: var(--fill-color);\n",
              "    }\n",
              "  }\n",
              "</style>\n",
              "\n",
              "  <script>\n",
              "    async function quickchart(key) {\n",
              "      const quickchartButtonEl =\n",
              "        document.querySelector('#' + key + ' button');\n",
              "      quickchartButtonEl.disabled = true;  // To prevent multiple clicks.\n",
              "      quickchartButtonEl.classList.add('colab-df-spinner');\n",
              "      try {\n",
              "        const charts = await google.colab.kernel.invokeFunction(\n",
              "            'suggestCharts', [key], {});\n",
              "      } catch (error) {\n",
              "        console.error('Error during call to suggestCharts:', error);\n",
              "      }\n",
              "      quickchartButtonEl.classList.remove('colab-df-spinner');\n",
              "      quickchartButtonEl.classList.add('colab-df-quickchart-complete');\n",
              "    }\n",
              "    (() => {\n",
              "      let quickchartButtonEl =\n",
              "        document.querySelector('#df-99cd890c-8374-4b9c-9a67-667d98a6f3e7 button');\n",
              "      quickchartButtonEl.style.display =\n",
              "        google.colab.kernel.accessAllowed ? 'block' : 'none';\n",
              "    })();\n",
              "  </script>\n",
              "</div>\n",
              "\n",
              "    </div>\n",
              "  </div>\n"
            ],
            "application/vnd.google.colaboratory.intrinsic+json": {
              "type": "dataframe",
              "variable_name": "traffic",
              "summary": "{\n  \"name\": \"traffic\",\n  \"rows\": 20000,\n  \"fields\": [\n    {\n      \"column\": \"date_time\",\n      \"properties\": {\n        \"dtype\": \"date\",\n        \"min\": \"2016-11-18 15:00:00\",\n        \"max\": \"2018-09-30 23:00:00\",\n        \"num_unique_values\": 16269,\n        \"samples\": [\n          \"2016-12-24 10:00:00\",\n          \"2017-06-16 05:00:00\",\n          \"2017-09-16 20:00:00\"\n        ],\n        \"semantic_type\": \"\",\n        \"description\": \"\"\n      }\n    },\n    {\n      \"column\": \"traffic_volume\",\n      \"properties\": {\n        \"dtype\": \"number\",\n        \"std\": 1977.1713566381657,\n        \"min\": 113.0,\n        \"max\": 16781.0,\n        \"num_unique_values\": 5754,\n        \"samples\": [\n          2816.0,\n          6722.0,\n          3569.0\n        ],\n        \"semantic_type\": \"\",\n        \"description\": \"\"\n      }\n    },\n    {\n      \"column\": \"temp\",\n      \"properties\": {\n        \"dtype\": \"number\",\n        \"std\": 12.6612879499204,\n        \"min\": 243.39,\n        \"max\": 310.07,\n        \"num_unique_values\": 3901,\n        \"samples\": [\n          286.45,\n          262.46,\n          260.76\n        ],\n        \"semantic_type\": \"\",\n        \"description\": \"\"\n      }\n    },\n    {\n      \"column\": \"rain_1h\",\n      \"properties\": {\n        \"dtype\": \"number\",\n        \"std\": 0.39800673492769245,\n        \"min\": 0.0,\n        \"max\": 10.6,\n        \"num_unique_values\": 87,\n        \"samples\": [\n          5.62,\n          0.0,\n          0.76\n        ],\n        \"semantic_type\": \"\",\n        \"description\": \"\"\n      }\n    },\n    {\n      \"column\": \"snow_1h\",\n      \"properties\": {\n        \"dtype\": \"number\",\n        \"std\": 0.0,\n        \"min\": 0.0,\n        \"max\": 0.0,\n        \"num_unique_values\": 1,\n        \"samples\": [\n          0.0\n        ],\n        \"semantic_type\": \"\",\n        \"description\": \"\"\n      }\n    },\n    {\n      \"column\": \"clouds_all\",\n      \"properties\": {\n        \"dtype\": \"number\",\n        \"std\": 39,\n        \"min\": 0,\n        \"max\": 92,\n        \"num_unique_values\": 21,\n        \"samples\": [\n          90\n        ],\n        \"semantic_type\": \"\",\n        \"description\": \"\"\n      }\n    },\n    {\n      \"column\": \"weather_main\",\n      \"properties\": {\n        \"dtype\": \"category\",\n        \"num_unique_values\": 10,\n        \"samples\": [\n          \"Haze\"\n        ],\n        \"semantic_type\": \"\",\n        \"description\": \"\"\n      }\n    },\n    {\n      \"column\": \"weather_description\",\n      \"properties\": {\n        \"dtype\": \"category\",\n        \"num_unique_values\": 34,\n        \"samples\": [\n          \"heavy intensity rain\"\n        ],\n        \"semantic_type\": \"\",\n        \"description\": \"\"\n      }\n    }\n  ]\n}"
            }
          },
          "metadata": {},
          "execution_count": 68
        }
      ]
    },
    {
      "cell_type": "code",
      "source": [
        "traffic.isna().sum()"
      ],
      "metadata": {
        "colab": {
          "base_uri": "https://localhost:8080/",
          "height": 303
        },
        "id": "TBJZ_Ixn6X15",
        "outputId": "f3f21c98-38f3-464c-ba48-6f67c87138aa"
      },
      "id": "TBJZ_Ixn6X15",
      "execution_count": 69,
      "outputs": [
        {
          "output_type": "execute_result",
          "data": {
            "text/plain": [
              "traffic_volume         20\n",
              "temp                    0\n",
              "rain_1h                 0\n",
              "snow_1h                 0\n",
              "clouds_all              0\n",
              "weather_main            0\n",
              "weather_description     0\n",
              "dtype: int64"
            ],
            "text/html": [
              "<div>\n",
              "<style scoped>\n",
              "    .dataframe tbody tr th:only-of-type {\n",
              "        vertical-align: middle;\n",
              "    }\n",
              "\n",
              "    .dataframe tbody tr th {\n",
              "        vertical-align: top;\n",
              "    }\n",
              "\n",
              "    .dataframe thead th {\n",
              "        text-align: right;\n",
              "    }\n",
              "</style>\n",
              "<table border=\"1\" class=\"dataframe\">\n",
              "  <thead>\n",
              "    <tr style=\"text-align: right;\">\n",
              "      <th></th>\n",
              "      <th>0</th>\n",
              "    </tr>\n",
              "  </thead>\n",
              "  <tbody>\n",
              "    <tr>\n",
              "      <th>traffic_volume</th>\n",
              "      <td>20</td>\n",
              "    </tr>\n",
              "    <tr>\n",
              "      <th>temp</th>\n",
              "      <td>0</td>\n",
              "    </tr>\n",
              "    <tr>\n",
              "      <th>rain_1h</th>\n",
              "      <td>0</td>\n",
              "    </tr>\n",
              "    <tr>\n",
              "      <th>snow_1h</th>\n",
              "      <td>0</td>\n",
              "    </tr>\n",
              "    <tr>\n",
              "      <th>clouds_all</th>\n",
              "      <td>0</td>\n",
              "    </tr>\n",
              "    <tr>\n",
              "      <th>weather_main</th>\n",
              "      <td>0</td>\n",
              "    </tr>\n",
              "    <tr>\n",
              "      <th>weather_description</th>\n",
              "      <td>0</td>\n",
              "    </tr>\n",
              "  </tbody>\n",
              "</table>\n",
              "</div><br><label><b>dtype:</b> int64</label>"
            ]
          },
          "metadata": {},
          "execution_count": 69
        }
      ]
    },
    {
      "cell_type": "code",
      "source": [
        "traffic['traffic_volume'].unique()"
      ],
      "metadata": {
        "colab": {
          "base_uri": "https://localhost:8080/"
        },
        "id": "Ed35GXo76y83",
        "outputId": "6c490dcd-af18-4fbf-b613-2a42d2c13b46"
      },
      "id": "Ed35GXo76y83",
      "execution_count": 70,
      "outputs": [
        {
          "output_type": "execute_result",
          "data": {
            "text/plain": [
              "array([1209., 1248., 4602., ..., 6742., 1783., 1132.])"
            ]
          },
          "metadata": {},
          "execution_count": 70
        }
      ]
    },
    {
      "cell_type": "code",
      "source": [
        "traffic.sample(10)"
      ],
      "metadata": {
        "colab": {
          "base_uri": "https://localhost:8080/",
          "height": 394
        },
        "id": "T8-fttw-6_5Y",
        "outputId": "76fa97d9-0c97-4e61-fc23-84fba305d7ce"
      },
      "id": "T8-fttw-6_5Y",
      "execution_count": 71,
      "outputs": [
        {
          "output_type": "execute_result",
          "data": {
            "text/plain": [
              "                     traffic_volume    temp  rain_1h  snow_1h  clouds_all  \\\n",
              "date_time                                                                   \n",
              "2017-04-19 03:00:00           351.0  281.02     0.00      0.0          90   \n",
              "2017-06-02 09:00:00          4961.0  292.28     0.00      0.0           1   \n",
              "2018-02-14 03:00:00           348.0  266.22     0.00      0.0           1   \n",
              "2018-06-07 03:00:00           380.0  289.36     0.00      0.0           1   \n",
              "2018-02-25 07:00:00           947.0  265.58     0.00      0.0          90   \n",
              "2017-10-17 16:00:00          6700.0  295.61     0.00      0.0           1   \n",
              "2018-09-14 14:00:00          5231.0  301.26     0.00      0.0          75   \n",
              "2018-01-22 18:00:00          1086.0  270.72     0.00      0.0          90   \n",
              "2018-06-01 05:00:00          2965.0  290.82     0.00      0.0           1   \n",
              "2018-09-12 09:00:00          5551.0  293.20     2.79      0.0          90   \n",
              "\n",
              "                    weather_main weather_description  \n",
              "date_time                                             \n",
              "2017-04-19 03:00:00       Clouds     overcast clouds  \n",
              "2017-06-02 09:00:00        Clear        sky is clear  \n",
              "2018-02-14 03:00:00         Haze                haze  \n",
              "2018-06-07 03:00:00        Clear        sky is clear  \n",
              "2018-02-25 07:00:00       Clouds     overcast clouds  \n",
              "2017-10-17 16:00:00        Clear        sky is clear  \n",
              "2018-09-14 14:00:00       Clouds       broken clouds  \n",
              "2018-01-22 18:00:00         Snow          heavy snow  \n",
              "2018-06-01 05:00:00        Clear        sky is clear  \n",
              "2018-09-12 09:00:00         Rain       moderate rain  "
            ],
            "text/html": [
              "\n",
              "  <div id=\"df-99cac0d3-2324-4a71-a14b-cd2e1cef87b6\" class=\"colab-df-container\">\n",
              "    <div>\n",
              "<style scoped>\n",
              "    .dataframe tbody tr th:only-of-type {\n",
              "        vertical-align: middle;\n",
              "    }\n",
              "\n",
              "    .dataframe tbody tr th {\n",
              "        vertical-align: top;\n",
              "    }\n",
              "\n",
              "    .dataframe thead th {\n",
              "        text-align: right;\n",
              "    }\n",
              "</style>\n",
              "<table border=\"1\" class=\"dataframe\">\n",
              "  <thead>\n",
              "    <tr style=\"text-align: right;\">\n",
              "      <th></th>\n",
              "      <th>traffic_volume</th>\n",
              "      <th>temp</th>\n",
              "      <th>rain_1h</th>\n",
              "      <th>snow_1h</th>\n",
              "      <th>clouds_all</th>\n",
              "      <th>weather_main</th>\n",
              "      <th>weather_description</th>\n",
              "    </tr>\n",
              "    <tr>\n",
              "      <th>date_time</th>\n",
              "      <th></th>\n",
              "      <th></th>\n",
              "      <th></th>\n",
              "      <th></th>\n",
              "      <th></th>\n",
              "      <th></th>\n",
              "      <th></th>\n",
              "    </tr>\n",
              "  </thead>\n",
              "  <tbody>\n",
              "    <tr>\n",
              "      <th>2017-04-19 03:00:00</th>\n",
              "      <td>351.0</td>\n",
              "      <td>281.02</td>\n",
              "      <td>0.00</td>\n",
              "      <td>0.0</td>\n",
              "      <td>90</td>\n",
              "      <td>Clouds</td>\n",
              "      <td>overcast clouds</td>\n",
              "    </tr>\n",
              "    <tr>\n",
              "      <th>2017-06-02 09:00:00</th>\n",
              "      <td>4961.0</td>\n",
              "      <td>292.28</td>\n",
              "      <td>0.00</td>\n",
              "      <td>0.0</td>\n",
              "      <td>1</td>\n",
              "      <td>Clear</td>\n",
              "      <td>sky is clear</td>\n",
              "    </tr>\n",
              "    <tr>\n",
              "      <th>2018-02-14 03:00:00</th>\n",
              "      <td>348.0</td>\n",
              "      <td>266.22</td>\n",
              "      <td>0.00</td>\n",
              "      <td>0.0</td>\n",
              "      <td>1</td>\n",
              "      <td>Haze</td>\n",
              "      <td>haze</td>\n",
              "    </tr>\n",
              "    <tr>\n",
              "      <th>2018-06-07 03:00:00</th>\n",
              "      <td>380.0</td>\n",
              "      <td>289.36</td>\n",
              "      <td>0.00</td>\n",
              "      <td>0.0</td>\n",
              "      <td>1</td>\n",
              "      <td>Clear</td>\n",
              "      <td>sky is clear</td>\n",
              "    </tr>\n",
              "    <tr>\n",
              "      <th>2018-02-25 07:00:00</th>\n",
              "      <td>947.0</td>\n",
              "      <td>265.58</td>\n",
              "      <td>0.00</td>\n",
              "      <td>0.0</td>\n",
              "      <td>90</td>\n",
              "      <td>Clouds</td>\n",
              "      <td>overcast clouds</td>\n",
              "    </tr>\n",
              "    <tr>\n",
              "      <th>2017-10-17 16:00:00</th>\n",
              "      <td>6700.0</td>\n",
              "      <td>295.61</td>\n",
              "      <td>0.00</td>\n",
              "      <td>0.0</td>\n",
              "      <td>1</td>\n",
              "      <td>Clear</td>\n",
              "      <td>sky is clear</td>\n",
              "    </tr>\n",
              "    <tr>\n",
              "      <th>2018-09-14 14:00:00</th>\n",
              "      <td>5231.0</td>\n",
              "      <td>301.26</td>\n",
              "      <td>0.00</td>\n",
              "      <td>0.0</td>\n",
              "      <td>75</td>\n",
              "      <td>Clouds</td>\n",
              "      <td>broken clouds</td>\n",
              "    </tr>\n",
              "    <tr>\n",
              "      <th>2018-01-22 18:00:00</th>\n",
              "      <td>1086.0</td>\n",
              "      <td>270.72</td>\n",
              "      <td>0.00</td>\n",
              "      <td>0.0</td>\n",
              "      <td>90</td>\n",
              "      <td>Snow</td>\n",
              "      <td>heavy snow</td>\n",
              "    </tr>\n",
              "    <tr>\n",
              "      <th>2018-06-01 05:00:00</th>\n",
              "      <td>2965.0</td>\n",
              "      <td>290.82</td>\n",
              "      <td>0.00</td>\n",
              "      <td>0.0</td>\n",
              "      <td>1</td>\n",
              "      <td>Clear</td>\n",
              "      <td>sky is clear</td>\n",
              "    </tr>\n",
              "    <tr>\n",
              "      <th>2018-09-12 09:00:00</th>\n",
              "      <td>5551.0</td>\n",
              "      <td>293.20</td>\n",
              "      <td>2.79</td>\n",
              "      <td>0.0</td>\n",
              "      <td>90</td>\n",
              "      <td>Rain</td>\n",
              "      <td>moderate rain</td>\n",
              "    </tr>\n",
              "  </tbody>\n",
              "</table>\n",
              "</div>\n",
              "    <div class=\"colab-df-buttons\">\n",
              "\n",
              "  <div class=\"colab-df-container\">\n",
              "    <button class=\"colab-df-convert\" onclick=\"convertToInteractive('df-99cac0d3-2324-4a71-a14b-cd2e1cef87b6')\"\n",
              "            title=\"Convert this dataframe to an interactive table.\"\n",
              "            style=\"display:none;\">\n",
              "\n",
              "  <svg xmlns=\"http://www.w3.org/2000/svg\" height=\"24px\" viewBox=\"0 -960 960 960\">\n",
              "    <path d=\"M120-120v-720h720v720H120Zm60-500h600v-160H180v160Zm220 220h160v-160H400v160Zm0 220h160v-160H400v160ZM180-400h160v-160H180v160Zm440 0h160v-160H620v160ZM180-180h160v-160H180v160Zm440 0h160v-160H620v160Z\"/>\n",
              "  </svg>\n",
              "    </button>\n",
              "\n",
              "  <style>\n",
              "    .colab-df-container {\n",
              "      display:flex;\n",
              "      gap: 12px;\n",
              "    }\n",
              "\n",
              "    .colab-df-convert {\n",
              "      background-color: #E8F0FE;\n",
              "      border: none;\n",
              "      border-radius: 50%;\n",
              "      cursor: pointer;\n",
              "      display: none;\n",
              "      fill: #1967D2;\n",
              "      height: 32px;\n",
              "      padding: 0 0 0 0;\n",
              "      width: 32px;\n",
              "    }\n",
              "\n",
              "    .colab-df-convert:hover {\n",
              "      background-color: #E2EBFA;\n",
              "      box-shadow: 0px 1px 2px rgba(60, 64, 67, 0.3), 0px 1px 3px 1px rgba(60, 64, 67, 0.15);\n",
              "      fill: #174EA6;\n",
              "    }\n",
              "\n",
              "    .colab-df-buttons div {\n",
              "      margin-bottom: 4px;\n",
              "    }\n",
              "\n",
              "    [theme=dark] .colab-df-convert {\n",
              "      background-color: #3B4455;\n",
              "      fill: #D2E3FC;\n",
              "    }\n",
              "\n",
              "    [theme=dark] .colab-df-convert:hover {\n",
              "      background-color: #434B5C;\n",
              "      box-shadow: 0px 1px 3px 1px rgba(0, 0, 0, 0.15);\n",
              "      filter: drop-shadow(0px 1px 2px rgba(0, 0, 0, 0.3));\n",
              "      fill: #FFFFFF;\n",
              "    }\n",
              "  </style>\n",
              "\n",
              "    <script>\n",
              "      const buttonEl =\n",
              "        document.querySelector('#df-99cac0d3-2324-4a71-a14b-cd2e1cef87b6 button.colab-df-convert');\n",
              "      buttonEl.style.display =\n",
              "        google.colab.kernel.accessAllowed ? 'block' : 'none';\n",
              "\n",
              "      async function convertToInteractive(key) {\n",
              "        const element = document.querySelector('#df-99cac0d3-2324-4a71-a14b-cd2e1cef87b6');\n",
              "        const dataTable =\n",
              "          await google.colab.kernel.invokeFunction('convertToInteractive',\n",
              "                                                    [key], {});\n",
              "        if (!dataTable) return;\n",
              "\n",
              "        const docLinkHtml = 'Like what you see? Visit the ' +\n",
              "          '<a target=\"_blank\" href=https://colab.research.google.com/notebooks/data_table.ipynb>data table notebook</a>'\n",
              "          + ' to learn more about interactive tables.';\n",
              "        element.innerHTML = '';\n",
              "        dataTable['output_type'] = 'display_data';\n",
              "        await google.colab.output.renderOutput(dataTable, element);\n",
              "        const docLink = document.createElement('div');\n",
              "        docLink.innerHTML = docLinkHtml;\n",
              "        element.appendChild(docLink);\n",
              "      }\n",
              "    </script>\n",
              "  </div>\n",
              "\n",
              "\n",
              "<div id=\"df-7b8186a0-20d5-4283-a953-7a9bbf4120e6\">\n",
              "  <button class=\"colab-df-quickchart\" onclick=\"quickchart('df-7b8186a0-20d5-4283-a953-7a9bbf4120e6')\"\n",
              "            title=\"Suggest charts\"\n",
              "            style=\"display:none;\">\n",
              "\n",
              "<svg xmlns=\"http://www.w3.org/2000/svg\" height=\"24px\"viewBox=\"0 0 24 24\"\n",
              "     width=\"24px\">\n",
              "    <g>\n",
              "        <path d=\"M19 3H5c-1.1 0-2 .9-2 2v14c0 1.1.9 2 2 2h14c1.1 0 2-.9 2-2V5c0-1.1-.9-2-2-2zM9 17H7v-7h2v7zm4 0h-2V7h2v10zm4 0h-2v-4h2v4z\"/>\n",
              "    </g>\n",
              "</svg>\n",
              "  </button>\n",
              "\n",
              "<style>\n",
              "  .colab-df-quickchart {\n",
              "      --bg-color: #E8F0FE;\n",
              "      --fill-color: #1967D2;\n",
              "      --hover-bg-color: #E2EBFA;\n",
              "      --hover-fill-color: #174EA6;\n",
              "      --disabled-fill-color: #AAA;\n",
              "      --disabled-bg-color: #DDD;\n",
              "  }\n",
              "\n",
              "  [theme=dark] .colab-df-quickchart {\n",
              "      --bg-color: #3B4455;\n",
              "      --fill-color: #D2E3FC;\n",
              "      --hover-bg-color: #434B5C;\n",
              "      --hover-fill-color: #FFFFFF;\n",
              "      --disabled-bg-color: #3B4455;\n",
              "      --disabled-fill-color: #666;\n",
              "  }\n",
              "\n",
              "  .colab-df-quickchart {\n",
              "    background-color: var(--bg-color);\n",
              "    border: none;\n",
              "    border-radius: 50%;\n",
              "    cursor: pointer;\n",
              "    display: none;\n",
              "    fill: var(--fill-color);\n",
              "    height: 32px;\n",
              "    padding: 0;\n",
              "    width: 32px;\n",
              "  }\n",
              "\n",
              "  .colab-df-quickchart:hover {\n",
              "    background-color: var(--hover-bg-color);\n",
              "    box-shadow: 0 1px 2px rgba(60, 64, 67, 0.3), 0 1px 3px 1px rgba(60, 64, 67, 0.15);\n",
              "    fill: var(--button-hover-fill-color);\n",
              "  }\n",
              "\n",
              "  .colab-df-quickchart-complete:disabled,\n",
              "  .colab-df-quickchart-complete:disabled:hover {\n",
              "    background-color: var(--disabled-bg-color);\n",
              "    fill: var(--disabled-fill-color);\n",
              "    box-shadow: none;\n",
              "  }\n",
              "\n",
              "  .colab-df-spinner {\n",
              "    border: 2px solid var(--fill-color);\n",
              "    border-color: transparent;\n",
              "    border-bottom-color: var(--fill-color);\n",
              "    animation:\n",
              "      spin 1s steps(1) infinite;\n",
              "  }\n",
              "\n",
              "  @keyframes spin {\n",
              "    0% {\n",
              "      border-color: transparent;\n",
              "      border-bottom-color: var(--fill-color);\n",
              "      border-left-color: var(--fill-color);\n",
              "    }\n",
              "    20% {\n",
              "      border-color: transparent;\n",
              "      border-left-color: var(--fill-color);\n",
              "      border-top-color: var(--fill-color);\n",
              "    }\n",
              "    30% {\n",
              "      border-color: transparent;\n",
              "      border-left-color: var(--fill-color);\n",
              "      border-top-color: var(--fill-color);\n",
              "      border-right-color: var(--fill-color);\n",
              "    }\n",
              "    40% {\n",
              "      border-color: transparent;\n",
              "      border-right-color: var(--fill-color);\n",
              "      border-top-color: var(--fill-color);\n",
              "    }\n",
              "    60% {\n",
              "      border-color: transparent;\n",
              "      border-right-color: var(--fill-color);\n",
              "    }\n",
              "    80% {\n",
              "      border-color: transparent;\n",
              "      border-right-color: var(--fill-color);\n",
              "      border-bottom-color: var(--fill-color);\n",
              "    }\n",
              "    90% {\n",
              "      border-color: transparent;\n",
              "      border-bottom-color: var(--fill-color);\n",
              "    }\n",
              "  }\n",
              "</style>\n",
              "\n",
              "  <script>\n",
              "    async function quickchart(key) {\n",
              "      const quickchartButtonEl =\n",
              "        document.querySelector('#' + key + ' button');\n",
              "      quickchartButtonEl.disabled = true;  // To prevent multiple clicks.\n",
              "      quickchartButtonEl.classList.add('colab-df-spinner');\n",
              "      try {\n",
              "        const charts = await google.colab.kernel.invokeFunction(\n",
              "            'suggestCharts', [key], {});\n",
              "      } catch (error) {\n",
              "        console.error('Error during call to suggestCharts:', error);\n",
              "      }\n",
              "      quickchartButtonEl.classList.remove('colab-df-spinner');\n",
              "      quickchartButtonEl.classList.add('colab-df-quickchart-complete');\n",
              "    }\n",
              "    (() => {\n",
              "      let quickchartButtonEl =\n",
              "        document.querySelector('#df-7b8186a0-20d5-4283-a953-7a9bbf4120e6 button');\n",
              "      quickchartButtonEl.style.display =\n",
              "        google.colab.kernel.accessAllowed ? 'block' : 'none';\n",
              "    })();\n",
              "  </script>\n",
              "</div>\n",
              "\n",
              "    </div>\n",
              "  </div>\n"
            ],
            "application/vnd.google.colaboratory.intrinsic+json": {
              "type": "dataframe",
              "summary": "{\n  \"name\": \"traffic\",\n  \"rows\": 10,\n  \"fields\": [\n    {\n      \"column\": \"date_time\",\n      \"properties\": {\n        \"dtype\": \"date\",\n        \"min\": \"2017-04-19 03:00:00\",\n        \"max\": \"2018-09-14 14:00:00\",\n        \"num_unique_values\": 10,\n        \"samples\": [\n          \"2018-06-01 05:00:00\",\n          \"2017-06-02 09:00:00\",\n          \"2017-10-17 16:00:00\"\n        ],\n        \"semantic_type\": \"\",\n        \"description\": \"\"\n      }\n    },\n    {\n      \"column\": \"traffic_volume\",\n      \"properties\": {\n        \"dtype\": \"number\",\n        \"std\": 2529.7250179943803,\n        \"min\": 348.0,\n        \"max\": 6700.0,\n        \"num_unique_values\": 10,\n        \"samples\": [\n          2965.0,\n          4961.0,\n          6700.0\n        ],\n        \"semantic_type\": \"\",\n        \"description\": \"\"\n      }\n    },\n    {\n      \"column\": \"temp\",\n      \"properties\": {\n        \"dtype\": \"number\",\n        \"std\": 12.90184831719858,\n        \"min\": 265.58,\n        \"max\": 301.26,\n        \"num_unique_values\": 10,\n        \"samples\": [\n          290.82,\n          292.28,\n          295.61\n        ],\n        \"semantic_type\": \"\",\n        \"description\": \"\"\n      }\n    },\n    {\n      \"column\": \"rain_1h\",\n      \"properties\": {\n        \"dtype\": \"number\",\n        \"std\": 0.8822754671869779,\n        \"min\": 0.0,\n        \"max\": 2.79,\n        \"num_unique_values\": 2,\n        \"samples\": [\n          2.79,\n          0.0\n        ],\n        \"semantic_type\": \"\",\n        \"description\": \"\"\n      }\n    },\n    {\n      \"column\": \"snow_1h\",\n      \"properties\": {\n        \"dtype\": \"number\",\n        \"std\": 0.0,\n        \"min\": 0.0,\n        \"max\": 0.0,\n        \"num_unique_values\": 1,\n        \"samples\": [\n          0.0\n        ],\n        \"semantic_type\": \"\",\n        \"description\": \"\"\n      }\n    },\n    {\n      \"column\": \"clouds_all\",\n      \"properties\": {\n        \"dtype\": \"number\",\n        \"std\": 45,\n        \"min\": 1,\n        \"max\": 90,\n        \"num_unique_values\": 3,\n        \"samples\": [\n          90\n        ],\n        \"semantic_type\": \"\",\n        \"description\": \"\"\n      }\n    },\n    {\n      \"column\": \"weather_main\",\n      \"properties\": {\n        \"dtype\": \"string\",\n        \"num_unique_values\": 5,\n        \"samples\": [\n          \"Clear\"\n        ],\n        \"semantic_type\": \"\",\n        \"description\": \"\"\n      }\n    },\n    {\n      \"column\": \"weather_description\",\n      \"properties\": {\n        \"dtype\": \"string\",\n        \"num_unique_values\": 6,\n        \"samples\": [\n          \"overcast clouds\"\n        ],\n        \"semantic_type\": \"\",\n        \"description\": \"\"\n      }\n    }\n  ]\n}"
            }
          },
          "metadata": {},
          "execution_count": 71
        }
      ]
    },
    {
      "cell_type": "code",
      "source": [
        "traffic.sort_index(inplace=True)"
      ],
      "metadata": {
        "id": "mw29PiuJ7QcV"
      },
      "id": "mw29PiuJ7QcV",
      "execution_count": 72,
      "outputs": []
    },
    {
      "cell_type": "code",
      "source": [
        "traffic.dropna(inplace=True)"
      ],
      "metadata": {
        "id": "b0pzZoYf7ZrP"
      },
      "id": "b0pzZoYf7ZrP",
      "execution_count": 73,
      "outputs": []
    },
    {
      "cell_type": "code",
      "source": [
        "traffic.isna().sum()"
      ],
      "metadata": {
        "colab": {
          "base_uri": "https://localhost:8080/",
          "height": 303
        },
        "id": "5v6cNNWy7eZv",
        "outputId": "b99fca64-0790-4b8c-8987-b9af06433ef0"
      },
      "id": "5v6cNNWy7eZv",
      "execution_count": 74,
      "outputs": [
        {
          "output_type": "execute_result",
          "data": {
            "text/plain": [
              "traffic_volume         0\n",
              "temp                   0\n",
              "rain_1h                0\n",
              "snow_1h                0\n",
              "clouds_all             0\n",
              "weather_main           0\n",
              "weather_description    0\n",
              "dtype: int64"
            ],
            "text/html": [
              "<div>\n",
              "<style scoped>\n",
              "    .dataframe tbody tr th:only-of-type {\n",
              "        vertical-align: middle;\n",
              "    }\n",
              "\n",
              "    .dataframe tbody tr th {\n",
              "        vertical-align: top;\n",
              "    }\n",
              "\n",
              "    .dataframe thead th {\n",
              "        text-align: right;\n",
              "    }\n",
              "</style>\n",
              "<table border=\"1\" class=\"dataframe\">\n",
              "  <thead>\n",
              "    <tr style=\"text-align: right;\">\n",
              "      <th></th>\n",
              "      <th>0</th>\n",
              "    </tr>\n",
              "  </thead>\n",
              "  <tbody>\n",
              "    <tr>\n",
              "      <th>traffic_volume</th>\n",
              "      <td>0</td>\n",
              "    </tr>\n",
              "    <tr>\n",
              "      <th>temp</th>\n",
              "      <td>0</td>\n",
              "    </tr>\n",
              "    <tr>\n",
              "      <th>rain_1h</th>\n",
              "      <td>0</td>\n",
              "    </tr>\n",
              "    <tr>\n",
              "      <th>snow_1h</th>\n",
              "      <td>0</td>\n",
              "    </tr>\n",
              "    <tr>\n",
              "      <th>clouds_all</th>\n",
              "      <td>0</td>\n",
              "    </tr>\n",
              "    <tr>\n",
              "      <th>weather_main</th>\n",
              "      <td>0</td>\n",
              "    </tr>\n",
              "    <tr>\n",
              "      <th>weather_description</th>\n",
              "      <td>0</td>\n",
              "    </tr>\n",
              "  </tbody>\n",
              "</table>\n",
              "</div><br><label><b>dtype:</b> int64</label>"
            ]
          },
          "metadata": {},
          "execution_count": 74
        }
      ]
    },
    {
      "cell_type": "code",
      "source": [
        "traffic.info()"
      ],
      "metadata": {
        "colab": {
          "base_uri": "https://localhost:8080/"
        },
        "id": "g6I458JK70ve",
        "outputId": "e7e6dd24-de28-4dd6-e617-11b2fdabc368"
      },
      "id": "g6I458JK70ve",
      "execution_count": 75,
      "outputs": [
        {
          "output_type": "stream",
          "name": "stdout",
          "text": [
            "<class 'pandas.core.frame.DataFrame'>\n",
            "DatetimeIndex: 19980 entries, 2016-11-18 15:00:00 to 2018-09-30 23:00:00\n",
            "Data columns (total 7 columns):\n",
            " #   Column               Non-Null Count  Dtype  \n",
            "---  ------               --------------  -----  \n",
            " 0   traffic_volume       19980 non-null  float64\n",
            " 1   temp                 19980 non-null  float64\n",
            " 2   rain_1h              19980 non-null  float64\n",
            " 3   snow_1h              19980 non-null  float64\n",
            " 4   clouds_all           19980 non-null  int64  \n",
            " 5   weather_main         19980 non-null  object \n",
            " 6   weather_description  19980 non-null  object \n",
            "dtypes: float64(4), int64(1), object(2)\n",
            "memory usage: 1.2+ MB\n"
          ]
        }
      ]
    },
    {
      "cell_type": "code",
      "source": [
        "traffic.index"
      ],
      "metadata": {
        "colab": {
          "base_uri": "https://localhost:8080/"
        },
        "id": "NCQbMToS9NeA",
        "outputId": "28e53940-7124-4e8c-a673-f12a95b8050d"
      },
      "id": "NCQbMToS9NeA",
      "execution_count": 76,
      "outputs": [
        {
          "output_type": "execute_result",
          "data": {
            "text/plain": [
              "DatetimeIndex(['2016-11-18 15:00:00', '2016-11-18 15:00:00',\n",
              "               '2016-11-18 15:00:00', '2016-11-18 16:00:00',\n",
              "               '2016-11-18 16:00:00', '2016-11-18 16:00:00',\n",
              "               '2016-11-18 17:00:00', '2016-11-18 17:00:00',\n",
              "               '2016-11-18 17:00:00', '2016-11-18 18:00:00',\n",
              "               ...\n",
              "               '2018-09-30 15:00:00', '2018-09-30 15:00:00',\n",
              "               '2018-09-30 16:00:00', '2018-09-30 17:00:00',\n",
              "               '2018-09-30 18:00:00', '2018-09-30 19:00:00',\n",
              "               '2018-09-30 20:00:00', '2018-09-30 21:00:00',\n",
              "               '2018-09-30 22:00:00', '2018-09-30 23:00:00'],\n",
              "              dtype='datetime64[ns]', name='date_time', length=19980, freq=None)"
            ]
          },
          "metadata": {},
          "execution_count": 76
        }
      ]
    },
    {
      "cell_type": "code",
      "source": [
        "traffic.duplicated().sum()"
      ],
      "metadata": {
        "colab": {
          "base_uri": "https://localhost:8080/"
        },
        "id": "JZhQXTAe9VLe",
        "outputId": "23cb27b1-e886-4c19-bd88-cf41b5c514c5"
      },
      "id": "JZhQXTAe9VLe",
      "execution_count": 77,
      "outputs": [
        {
          "output_type": "execute_result",
          "data": {
            "text/plain": [
              "18"
            ]
          },
          "metadata": {},
          "execution_count": 77
        }
      ]
    },
    {
      "cell_type": "code",
      "source": [
        "traffic.drop_duplicates(inplace=True)"
      ],
      "metadata": {
        "id": "YMQySxb29anF"
      },
      "id": "YMQySxb29anF",
      "execution_count": 78,
      "outputs": []
    },
    {
      "cell_type": "code",
      "source": [
        "traffic.columns"
      ],
      "metadata": {
        "colab": {
          "base_uri": "https://localhost:8080/"
        },
        "id": "5OkR2q8-9iAL",
        "outputId": "bf59d980-a6c8-44e5-9cb4-2325be1ce539"
      },
      "id": "5OkR2q8-9iAL",
      "execution_count": 79,
      "outputs": [
        {
          "output_type": "execute_result",
          "data": {
            "text/plain": [
              "Index(['traffic_volume', 'temp', 'rain_1h', 'snow_1h', 'clouds_all',\n",
              "       'weather_main', 'weather_description'],\n",
              "      dtype='object')"
            ]
          },
          "metadata": {},
          "execution_count": 79
        }
      ]
    },
    {
      "cell_type": "markdown",
      "id": "c3122466",
      "metadata": {
        "id": "c3122466"
      },
      "source": [
        "## Exploratory Data Analysis (EDA)\n",
        "\n",
        "Perform exploratory data analysis on the dataset.\n",
        "\n",
        "**Instructions:**\n",
        "- Plot the time series data.\n",
        "- Analyze trends, seasonality, and potential outliers.\n",
        "- Plot boxplots or scatter plots to identify any outliers or anomalies in the data.\n",
        "- Seasonal Decomposition: Use `seasonal_decompose` from the `statsmodels` library to break down the time series data into trend, seasonality, and residual components. Analyze each component to gain insights into the long-term movement (trend), regular patterns (seasonality), and remaining fluctuations (residuals).\n",
        "\n",
        "Do more if needed!"
      ]
    },
    {
      "cell_type": "code",
      "execution_count": 267,
      "id": "05f6fffa",
      "metadata": {
        "id": "05f6fffa",
        "colab": {
          "base_uri": "https://localhost:8080/",
          "height": 469
        },
        "outputId": "5be5631a-7e3c-410d-a02a-b453ff52c735"
      },
      "outputs": [
        {
          "output_type": "display_data",
          "data": {
            "text/plain": [
              "<Figure size 1200x500 with 1 Axes>"
            ],
            "image/png": "[encoded data removed]"
          },
          "metadata": {}
        }
      ],
      "source": [
        "traffic.plot(y=['traffic_volume'] , figsize=(12,5) , title='Time Series')\n",
        "plt.show()"
      ]
    },
    {
      "cell_type": "code",
      "source": [
        "result = seasonal_decompose(traffic['traffic_volume'] , model='additive' , period=365)\n",
        "result.plot()\n",
        "plt.show()"
      ],
      "metadata": {
        "colab": {
          "base_uri": "https://localhost:8080/",
          "height": 487
        },
        "id": "7qoleLFI8nZq",
        "outputId": "f9a1636b-d8f9-44d5-e7e8-169f6b910d12"
      },
      "id": "7qoleLFI8nZq",
      "execution_count": 274,
      "outputs": [
        {
          "output_type": "display_data",
          "data": {
            "text/plain": [
              "<Figure size 640x480 with 4 Axes>"
            ],
            "image/png": "[encoded data removed]"
          },
          "metadata": {}
        }
      ]
    },
    {
      "cell_type": "code",
      "source": [
        "plt.scatter(traffic.index , traffic['traffic_volume'])\n",
        "plt.show()"
      ],
      "metadata": {
        "colab": {
          "base_uri": "https://localhost:8080/",
          "height": 433
        },
        "id": "ONY0K5pc86ZS",
        "outputId": "7c782115-dd35-466a-abc6-3cd6c5f9cfdb"
      },
      "id": "ONY0K5pc86ZS",
      "execution_count": 272,
      "outputs": [
        {
          "output_type": "display_data",
          "data": {
            "text/plain": [
              "<Figure size 640x480 with 1 Axes>"
            ],
            "image/png": "[encoded data removed]"
          },
          "metadata": {}
        }
      ]
    },
    {
      "cell_type": "markdown",
      "id": "5827fb18",
      "metadata": {
        "id": "5827fb18"
      },
      "source": [
        "## Data Preprocessing\n",
        "\n",
        "Clean and preprocess the data.\n",
        "\n",
        "**Instructions:**\n",
        "- Handle any missing values in the dataset.\n",
        "- If necessary, resample the data to ensure consistent time intervals.\n",
        "- Create any additional features needed, such as lags or moving averages.\n",
        "- Make sure that the dates are sorted correctly.\n",
        "\n",
        "Do more if needed!"
      ]
    },
    {
      "cell_type": "code",
      "source": [
        "traffic.drop(columns=['weather_main' , 'weather_description'] , inplace=True)"
      ],
      "metadata": {
        "id": "kDA96C2K_at9"
      },
      "id": "kDA96C2K_at9",
      "execution_count": 84,
      "outputs": []
    },
    {
      "cell_type": "code",
      "source": [
        "traffic.head()"
      ],
      "metadata": {
        "colab": {
          "base_uri": "https://localhost:8080/",
          "height": 237
        },
        "id": "7V-0Eelc_o8F",
        "outputId": "41f7b9c7-3b7e-4272-f9ad-5eff7f1ce12e"
      },
      "id": "7V-0Eelc_o8F",
      "execution_count": 85,
      "outputs": [
        {
          "output_type": "execute_result",
          "data": {
            "text/plain": [
              "                     traffic_volume    temp  rain_1h  snow_1h  clouds_all\n",
              "date_time                                                                \n",
              "2016-11-18 15:00:00          4872.0  274.08      0.0      0.0          90\n",
              "2016-11-18 15:00:00          4872.0  274.08      0.0      0.0          90\n",
              "2016-11-18 15:00:00          4872.0  274.08      0.0      0.0          90\n",
              "2016-11-18 16:00:00          5074.0  273.84      0.0      0.0          90\n",
              "2016-11-18 16:00:00          5074.0  273.84      0.0      0.0          90"
            ],
            "text/html": [
              "\n",
              "  <div id=\"df-c71b3e74-a0e1-4497-b562-32b8bb01376a\" class=\"colab-df-container\">\n",
              "    <div>\n",
              "<style scoped>\n",
              "    .dataframe tbody tr th:only-of-type {\n",
              "        vertical-align: middle;\n",
              "    }\n",
              "\n",
              "    .dataframe tbody tr th {\n",
              "        vertical-align: top;\n",
              "    }\n",
              "\n",
              "    .dataframe thead th {\n",
              "        text-align: right;\n",
              "    }\n",
              "</style>\n",
              "<table border=\"1\" class=\"dataframe\">\n",
              "  <thead>\n",
              "    <tr style=\"text-align: right;\">\n",
              "      <th></th>\n",
              "      <th>traffic_volume</th>\n",
              "      <th>temp</th>\n",
              "      <th>rain_1h</th>\n",
              "      <th>snow_1h</th>\n",
              "      <th>clouds_all</th>\n",
              "    </tr>\n",
              "    <tr>\n",
              "      <th>date_time</th>\n",
              "      <th></th>\n",
              "      <th></th>\n",
              "      <th></th>\n",
              "      <th></th>\n",
              "      <th></th>\n",
              "    </tr>\n",
              "  </thead>\n",
              "  <tbody>\n",
              "    <tr>\n",
              "      <th>2016-11-18 15:00:00</th>\n",
              "      <td>4872.0</td>\n",
              "      <td>274.08</td>\n",
              "      <td>0.0</td>\n",
              "      <td>0.0</td>\n",
              "      <td>90</td>\n",
              "    </tr>\n",
              "    <tr>\n",
              "      <th>2016-11-18 15:00:00</th>\n",
              "      <td>4872.0</td>\n",
              "      <td>274.08</td>\n",
              "      <td>0.0</td>\n",
              "      <td>0.0</td>\n",
              "      <td>90</td>\n",
              "    </tr>\n",
              "    <tr>\n",
              "      <th>2016-11-18 15:00:00</th>\n",
              "      <td>4872.0</td>\n",
              "      <td>274.08</td>\n",
              "      <td>0.0</td>\n",
              "      <td>0.0</td>\n",
              "      <td>90</td>\n",
              "    </tr>\n",
              "    <tr>\n",
              "      <th>2016-11-18 16:00:00</th>\n",
              "      <td>5074.0</td>\n",
              "      <td>273.84</td>\n",
              "      <td>0.0</td>\n",
              "      <td>0.0</td>\n",
              "      <td>90</td>\n",
              "    </tr>\n",
              "    <tr>\n",
              "      <th>2016-11-18 16:00:00</th>\n",
              "      <td>5074.0</td>\n",
              "      <td>273.84</td>\n",
              "      <td>0.0</td>\n",
              "      <td>0.0</td>\n",
              "      <td>90</td>\n",
              "    </tr>\n",
              "  </tbody>\n",
              "</table>\n",
              "</div>\n",
              "    <div class=\"colab-df-buttons\">\n",
              "\n",
              "  <div class=\"colab-df-container\">\n",
              "    <button class=\"colab-df-convert\" onclick=\"convertToInteractive('df-c71b3e74-a0e1-4497-b562-32b8bb01376a')\"\n",
              "            title=\"Convert this dataframe to an interactive table.\"\n",
              "            style=\"display:none;\">\n",
              "\n",
              "  <svg xmlns=\"http://www.w3.org/2000/svg\" height=\"24px\" viewBox=\"0 -960 960 960\">\n",
              "    <path d=\"M120-120v-720h720v720H120Zm60-500h600v-160H180v160Zm220 220h160v-160H400v160Zm0 220h160v-160H400v160ZM180-400h160v-160H180v160Zm440 0h160v-160H620v160ZM180-180h160v-160H180v160Zm440 0h160v-160H620v160Z\"/>\n",
              "  </svg>\n",
              "    </button>\n",
              "\n",
              "  <style>\n",
              "    .colab-df-container {\n",
              "      display:flex;\n",
              "      gap: 12px;\n",
              "    }\n",
              "\n",
              "    .colab-df-convert {\n",
              "      background-color: #E8F0FE;\n",
              "      border: none;\n",
              "      border-radius: 50%;\n",
              "      cursor: pointer;\n",
              "      display: none;\n",
              "      fill: #1967D2;\n",
              "      height: 32px;\n",
              "      padding: 0 0 0 0;\n",
              "      width: 32px;\n",
              "    }\n",
              "\n",
              "    .colab-df-convert:hover {\n",
              "      background-color: #E2EBFA;\n",
              "      box-shadow: 0px 1px 2px rgba(60, 64, 67, 0.3), 0px 1px 3px 1px rgba(60, 64, 67, 0.15);\n",
              "      fill: #174EA6;\n",
              "    }\n",
              "\n",
              "    .colab-df-buttons div {\n",
              "      margin-bottom: 4px;\n",
              "    }\n",
              "\n",
              "    [theme=dark] .colab-df-convert {\n",
              "      background-color: #3B4455;\n",
              "      fill: #D2E3FC;\n",
              "    }\n",
              "\n",
              "    [theme=dark] .colab-df-convert:hover {\n",
              "      background-color: #434B5C;\n",
              "      box-shadow: 0px 1px 3px 1px rgba(0, 0, 0, 0.15);\n",
              "      filter: drop-shadow(0px 1px 2px rgba(0, 0, 0, 0.3));\n",
              "      fill: #FFFFFF;\n",
              "    }\n",
              "  </style>\n",
              "\n",
              "    <script>\n",
              "      const buttonEl =\n",
              "        document.querySelector('#df-c71b3e74-a0e1-4497-b562-32b8bb01376a button.colab-df-convert');\n",
              "      buttonEl.style.display =\n",
              "        google.colab.kernel.accessAllowed ? 'block' : 'none';\n",
              "\n",
              "      async function convertToInteractive(key) {\n",
              "        const element = document.querySelector('#df-c71b3e74-a0e1-4497-b562-32b8bb01376a');\n",
              "        const dataTable =\n",
              "          await google.colab.kernel.invokeFunction('convertToInteractive',\n",
              "                                                    [key], {});\n",
              "        if (!dataTable) return;\n",
              "\n",
              "        const docLinkHtml = 'Like what you see? Visit the ' +\n",
              "          '<a target=\"_blank\" href=https://colab.research.google.com/notebooks/data_table.ipynb>data table notebook</a>'\n",
              "          + ' to learn more about interactive tables.';\n",
              "        element.innerHTML = '';\n",
              "        dataTable['output_type'] = 'display_data';\n",
              "        await google.colab.output.renderOutput(dataTable, element);\n",
              "        const docLink = document.createElement('div');\n",
              "        docLink.innerHTML = docLinkHtml;\n",
              "        element.appendChild(docLink);\n",
              "      }\n",
              "    </script>\n",
              "  </div>\n",
              "\n",
              "\n",
              "<div id=\"df-bd58c99a-21da-4068-ba59-0c1fbcf16266\">\n",
              "  <button class=\"colab-df-quickchart\" onclick=\"quickchart('df-bd58c99a-21da-4068-ba59-0c1fbcf16266')\"\n",
              "            title=\"Suggest charts\"\n",
              "            style=\"display:none;\">\n",
              "\n",
              "<svg xmlns=\"http://www.w3.org/2000/svg\" height=\"24px\"viewBox=\"0 0 24 24\"\n",
              "     width=\"24px\">\n",
              "    <g>\n",
              "        <path d=\"M19 3H5c-1.1 0-2 .9-2 2v14c0 1.1.9 2 2 2h14c1.1 0 2-.9 2-2V5c0-1.1-.9-2-2-2zM9 17H7v-7h2v7zm4 0h-2V7h2v10zm4 0h-2v-4h2v4z\"/>\n",
              "    </g>\n",
              "</svg>\n",
              "  </button>\n",
              "\n",
              "<style>\n",
              "  .colab-df-quickchart {\n",
              "      --bg-color: #E8F0FE;\n",
              "      --fill-color: #1967D2;\n",
              "      --hover-bg-color: #E2EBFA;\n",
              "      --hover-fill-color: #174EA6;\n",
              "      --disabled-fill-color: #AAA;\n",
              "      --disabled-bg-color: #DDD;\n",
              "  }\n",
              "\n",
              "  [theme=dark] .colab-df-quickchart {\n",
              "      --bg-color: #3B4455;\n",
              "      --fill-color: #D2E3FC;\n",
              "      --hover-bg-color: #434B5C;\n",
              "      --hover-fill-color: #FFFFFF;\n",
              "      --disabled-bg-color: #3B4455;\n",
              "      --disabled-fill-color: #666;\n",
              "  }\n",
              "\n",
              "  .colab-df-quickchart {\n",
              "    background-color: var(--bg-color);\n",
              "    border: none;\n",
              "    border-radius: 50%;\n",
              "    cursor: pointer;\n",
              "    display: none;\n",
              "    fill: var(--fill-color);\n",
              "    height: 32px;\n",
              "    padding: 0;\n",
              "    width: 32px;\n",
              "  }\n",
              "\n",
              "  .colab-df-quickchart:hover {\n",
              "    background-color: var(--hover-bg-color);\n",
              "    box-shadow: 0 1px 2px rgba(60, 64, 67, 0.3), 0 1px 3px 1px rgba(60, 64, 67, 0.15);\n",
              "    fill: var(--button-hover-fill-color);\n",
              "  }\n",
              "\n",
              "  .colab-df-quickchart-complete:disabled,\n",
              "  .colab-df-quickchart-complete:disabled:hover {\n",
              "    background-color: var(--disabled-bg-color);\n",
              "    fill: var(--disabled-fill-color);\n",
              "    box-shadow: none;\n",
              "  }\n",
              "\n",
              "  .colab-df-spinner {\n",
              "    border: 2px solid var(--fill-color);\n",
              "    border-color: transparent;\n",
              "    border-bottom-color: var(--fill-color);\n",
              "    animation:\n",
              "      spin 1s steps(1) infinite;\n",
              "  }\n",
              "\n",
              "  @keyframes spin {\n",
              "    0% {\n",
              "      border-color: transparent;\n",
              "      border-bottom-color: var(--fill-color);\n",
              "      border-left-color: var(--fill-color);\n",
              "    }\n",
              "    20% {\n",
              "      border-color: transparent;\n",
              "      border-left-color: var(--fill-color);\n",
              "      border-top-color: var(--fill-color);\n",
              "    }\n",
              "    30% {\n",
              "      border-color: transparent;\n",
              "      border-left-color: var(--fill-color);\n",
              "      border-top-color: var(--fill-color);\n",
              "      border-right-color: var(--fill-color);\n",
              "    }\n",
              "    40% {\n",
              "      border-color: transparent;\n",
              "      border-right-color: var(--fill-color);\n",
              "      border-top-color: var(--fill-color);\n",
              "    }\n",
              "    60% {\n",
              "      border-color: transparent;\n",
              "      border-right-color: var(--fill-color);\n",
              "    }\n",
              "    80% {\n",
              "      border-color: transparent;\n",
              "      border-right-color: var(--fill-color);\n",
              "      border-bottom-color: var(--fill-color);\n",
              "    }\n",
              "    90% {\n",
              "      border-color: transparent;\n",
              "      border-bottom-color: var(--fill-color);\n",
              "    }\n",
              "  }\n",
              "</style>\n",
              "\n",
              "  <script>\n",
              "    async function quickchart(key) {\n",
              "      const quickchartButtonEl =\n",
              "        document.querySelector('#' + key + ' button');\n",
              "      quickchartButtonEl.disabled = true;  // To prevent multiple clicks.\n",
              "      quickchartButtonEl.classList.add('colab-df-spinner');\n",
              "      try {\n",
              "        const charts = await google.colab.kernel.invokeFunction(\n",
              "            'suggestCharts', [key], {});\n",
              "      } catch (error) {\n",
              "        console.error('Error during call to suggestCharts:', error);\n",
              "      }\n",
              "      quickchartButtonEl.classList.remove('colab-df-spinner');\n",
              "      quickchartButtonEl.classList.add('colab-df-quickchart-complete');\n",
              "    }\n",
              "    (() => {\n",
              "      let quickchartButtonEl =\n",
              "        document.querySelector('#df-bd58c99a-21da-4068-ba59-0c1fbcf16266 button');\n",
              "      quickchartButtonEl.style.display =\n",
              "        google.colab.kernel.accessAllowed ? 'block' : 'none';\n",
              "    })();\n",
              "  </script>\n",
              "</div>\n",
              "\n",
              "    </div>\n",
              "  </div>\n"
            ],
            "application/vnd.google.colaboratory.intrinsic+json": {
              "type": "dataframe",
              "variable_name": "traffic",
              "summary": "{\n  \"name\": \"traffic\",\n  \"rows\": 19962,\n  \"fields\": [\n    {\n      \"column\": \"date_time\",\n      \"properties\": {\n        \"dtype\": \"date\",\n        \"min\": \"2016-11-18 15:00:00\",\n        \"max\": \"2018-09-30 23:00:00\",\n        \"num_unique_values\": 16252,\n        \"samples\": [\n          \"2016-12-01 09:00:00\",\n          \"2017-02-14 20:00:00\",\n          \"2017-01-08 23:00:00\"\n        ],\n        \"semantic_type\": \"\",\n        \"description\": \"\"\n      }\n    },\n    {\n      \"column\": \"traffic_volume\",\n      \"properties\": {\n        \"dtype\": \"number\",\n        \"std\": 1977.0854107013693,\n        \"min\": 113.0,\n        \"max\": 16781.0,\n        \"num_unique_values\": 5754,\n        \"samples\": [\n          4815.0,\n          2199.0,\n          6517.0\n        ],\n        \"semantic_type\": \"\",\n        \"description\": \"\"\n      }\n    },\n    {\n      \"column\": \"temp\",\n      \"properties\": {\n        \"dtype\": \"number\",\n        \"std\": 12.661489503874144,\n        \"min\": 243.39,\n        \"max\": 310.07,\n        \"num_unique_values\": 3900,\n        \"samples\": [\n          270.58,\n          290.79,\n          262.35\n        ],\n        \"semantic_type\": \"\",\n        \"description\": \"\"\n      }\n    },\n    {\n      \"column\": \"rain_1h\",\n      \"properties\": {\n        \"dtype\": \"number\",\n        \"std\": 0.39837979324827805,\n        \"min\": 0.0,\n        \"max\": 10.6,\n        \"num_unique_values\": 87,\n        \"samples\": [\n          0.86,\n          0.0,\n          1.52\n        ],\n        \"semantic_type\": \"\",\n        \"description\": \"\"\n      }\n    },\n    {\n      \"column\": \"snow_1h\",\n      \"properties\": {\n        \"dtype\": \"number\",\n        \"std\": 0.0,\n        \"min\": 0.0,\n        \"max\": 0.0,\n        \"num_unique_values\": 1,\n        \"samples\": [\n          0.0\n        ],\n        \"semantic_type\": \"\",\n        \"description\": \"\"\n      }\n    },\n    {\n      \"column\": \"clouds_all\",\n      \"properties\": {\n        \"dtype\": \"number\",\n        \"std\": 39,\n        \"min\": 0,\n        \"max\": 92,\n        \"num_unique_values\": 21,\n        \"samples\": [\n          90\n        ],\n        \"semantic_type\": \"\",\n        \"description\": \"\"\n      }\n    }\n  ]\n}"
            }
          },
          "metadata": {},
          "execution_count": 85
        }
      ]
    },
    {
      "cell_type": "code",
      "execution_count": 99,
      "id": "c27410bc",
      "metadata": {
        "id": "c27410bc"
      },
      "outputs": [],
      "source": [
        "traffic_day = traffic.resample('D').mean()"
      ]
    },
    {
      "cell_type": "code",
      "source": [
        "traffic_day['leg1'] = traffic_day['traffic_volume'].shift(1)\n",
        "traffic_day['leg2'] = traffic_day['traffic_volume'].shift(2)\n",
        "traffic_day['leg3'] = traffic_day['traffic_volume'].shift(3)\n",
        "traffic_day['leg4'] = traffic_day['traffic_volume'].shift(4)\n",
        "traffic_day['leg5'] = traffic_day['traffic_volume'].shift(5)"
      ],
      "metadata": {
        "id": "bnhBSOX__w1T"
      },
      "id": "bnhBSOX__w1T",
      "execution_count": 100,
      "outputs": []
    },
    {
      "cell_type": "code",
      "source": [
        "traffic_day['avg'] = traffic_day['traffic_volume'].rolling(window=30).mean()"
      ],
      "metadata": {
        "id": "njRIikM4_-UZ"
      },
      "id": "njRIikM4_-UZ",
      "execution_count": 101,
      "outputs": []
    },
    {
      "cell_type": "code",
      "source": [
        "traffic_day['avg'].unique()"
      ],
      "metadata": {
        "colab": {
          "base_uri": "https://localhost:8080/"
        },
        "id": "5wTeK1n7Bp2H",
        "outputId": "1f549ffe-05cf-43eb-895a-53419d99cc52"
      },
      "id": "5wTeK1n7Bp2H",
      "execution_count": 102,
      "outputs": [
        {
          "output_type": "execute_result",
          "data": {
            "text/plain": [
              "array([          nan, 3002.0628708 , 2953.77736355, 2974.63291911,\n",
              "       3020.98726693, 3030.74560027, 3039.56312163, 3057.30341108,\n",
              "       3065.01134759, 3047.93140224, 3056.62984278, 3094.50575187,\n",
              "       3109.1768303 , 3127.90909526, 3137.25476921, 3119.28106232,\n",
              "       3061.60328454, 3039.37998295, 3052.49919631, 3040.37164075,\n",
              "       3017.89959774, 2998.42011056, 2975.06058675, 2918.4079633 ,\n",
              "       2937.58114674, 2976.73428257, 2956.24161138, 2959.028043  ,\n",
              "       2951.40998745, 2921.89193189, 2902.92001492, 2939.36584825,\n",
              "       2984.7913555 , 2983.63857772, 2974.23422989, 2967.59168604,\n",
              "       2948.884876  , 2896.82123379, 2932.97361474, 2994.87956009,\n",
              "       3036.3603802 , 3057.61871353, 3072.20621353, 3058.70482464,\n",
              "       3026.00621353, 3033.03436394, 3051.97079556, 3093.24004159,\n",
              "       3124.99129607, 3139.94996274, 3144.26367242, 3113.97798866,\n",
              "       3137.0224331 , 3176.72937755, 3188.04010987, 3208.79007233,\n",
              "       3229.52112072, 3196.69163354, 3150.21696879, 3178.88294101,\n",
              "       3237.41420395, 3266.93587062, 3284.28337062, 3302.39031506,\n",
              "       3290.42799622, 3265.7427623 , 3269.95235012, 3332.6348235 ,\n",
              "       3327.57628691, 3345.4166758 , 3351.16420328, 3325.17809217,\n",
              "       3283.52253661, 3304.9364255 , 3350.46651809, 3366.29038381,\n",
              "       3403.71228552, 3410.95854621, 3389.40299065, 3349.60854621,\n",
              "       3371.94812954, 3416.50507398, 3428.97729621, 3444.8911851 ,\n",
              "       3452.33285176, 3438.7286851 , 3401.92035176, 3404.93529429,\n",
              "       3449.30995904, 3450.71367281, 3450.30304479, 3457.68871146,\n",
              "       3433.6831559 , 3392.6956559 , 3409.57741919, 3446.62174286,\n",
              "       3466.71757619, 3463.35327464, 3464.30726577, 3431.7951626 ,\n",
              "       3382.81670608, 3410.83453763, 3455.28403763, 3449.52259127,\n",
              "       3439.18201017, 3458.45499404, 3435.32721626, 3403.3954397 ,\n",
              "       3433.01210637, 3449.44103357, 3450.72783913, 3453.43478357,\n",
              "       3454.06702995, 3417.35869662, 3371.65619662, 3374.81679093,\n",
              "       3393.28332319, 3416.83226955, 3421.28983128, 3428.30435938,\n",
              "       3374.65523657, 3331.33623657, 3349.87373657, 3392.39484769,\n",
              "       3394.10123657, 3387.71852906, 3398.33967104, 3379.32720491,\n",
              "       3352.51925037, 3375.73896465, 3425.43921604, 3414.20295015,\n",
              "       3407.67011682, 3425.98295207, 3415.67399613, 3372.95366785,\n",
              "       3390.72923974, 3397.5621041 , 3393.89404854, 3417.78873245,\n",
              "       3423.80956579, 3402.7206769 , 3365.92037496, 3373.42940274,\n",
              "       3392.64479957, 3407.82053004, 3437.78316445, 3453.30538667,\n",
              "       3432.15060272, 3396.51083307, 3448.55440032, 3481.77860667,\n",
              "       3475.60770024, 3457.88817643, 3465.62623199, 3451.80386703,\n",
              "       3400.4196695 , 3402.2662507 , 3435.06023218, 3440.32206551,\n",
              "       3445.34642449, 3448.04541439, 3409.19958105, 3358.04093908,\n",
              "       3328.41390916, 3361.03273745, 3363.01966555, 3385.84037262,\n",
              "       3387.22787262, 3356.3056504 , 3326.07509484, 3339.39592818,\n",
              "       3368.85009484, 3382.86637571, 3403.93958999, 3398.52621207,\n",
              "       3366.06510096, 3321.9558417 , 3331.94158731, 3361.6929762 ,\n",
              "       3336.68846231, 3343.34897818, 3345.45910684, 3329.96392979,\n",
              "       3285.80233975, 3298.86031077, 3337.46673052, 3353.08403821,\n",
              "       3376.04160435, 3381.83049324, 3361.34633573, 3334.97719993,\n",
              "       3366.20497771, 3402.63306413, 3459.23574219, 3463.89418663,\n",
              "       3463.85172632, 3425.86711093, 3387.05766649, 3385.4437776 ,\n",
              "       3356.13683315, 3340.92869823, 3346.40215502, 3352.71529083,\n",
              "       3309.11606243, 3264.97248065, 3273.30581398, 3302.74050059,\n",
              "       3305.57815242, 3301.96882702, 3329.01917424, 3296.40667424,\n",
              "       3267.2952298 , 3278.10310525, 3304.61292762, 3299.25205805,\n",
              "       3303.22119385, 3294.64941966, 3245.66237204, 3201.27764982,\n",
              "       3207.44039232, 3233.37949809, 3247.42778869, 3256.96945536,\n",
              "       3255.14575166, 3225.0151961 , 3193.98960086, 3225.14782736,\n",
              "       3260.32671625, 3287.66699402, 3360.3185681 , 3376.00275858,\n",
              "       3349.25280606, 3320.12991717, 3348.65733184, 3397.25435565,\n",
              "       3427.78880009, 3416.63706555, 3426.9689459 , 3407.67966018,\n",
              "       3363.86716018, 3374.95523208, 3410.53949134, 3431.68806276,\n",
              "       3446.01742303, 3473.85476319, 3436.0031292 , 3407.09723673,\n",
              "       3451.90786299, 3490.56758521, 3505.7719062 , 3515.20015845,\n",
              "       3513.09700674, 3475.0512213 , 3431.12892245, 3458.79003356,\n",
              "       3495.29197801, 3506.17531134, 3518.28642245, 3510.64096791,\n",
              "       3456.08205256, 3427.15183034, 3412.15650067, 3438.71594511,\n",
              "       3450.24331439, 3439.61692551, 3432.80886995, 3420.85739936,\n",
              "       3375.69934381, 3393.30201047, 3427.2066401 , 3446.30467932,\n",
              "       3451.47597561, 3458.48378514, 3435.01112086, 3380.82631694,\n",
              "       3419.27088022, 3457.11088022, 3442.07492062, 3440.20329364,\n",
              "       3450.72908729, 3428.95442062, 3392.92039285, 3413.49395606,\n",
              "       3445.67373239, 3450.88641355, 3448.948358  , 3453.623358  ,\n",
              "       3431.057358  , 3406.86824464, 3422.25390717, 3431.3620943 ,\n",
              "       3470.58253081, 3482.0155555 , 3491.31116661, 3468.27354035,\n",
              "       3424.03465146, 3445.01381813, 3492.6620959 , 3500.13581813,\n",
              "       3513.07947909, 3524.11003465, 3512.69059021, 3451.25931748,\n",
              "       3473.94605583, 3512.68077805, 3514.46562654, 3514.27968209,\n",
              "       3519.07245987, 3492.72880908, 3445.98773765, 3458.48084876,\n",
              "       3494.35307098, 3506.95168209, 3508.84827869, 3504.06781975,\n",
              "       3483.20809753, 3433.32615309, 3447.75993086, 3481.17227654,\n",
              "       3504.40239546, 3525.71320474, 3533.14111692, 3505.40141055,\n",
              "       3431.72570685, 3454.18555533, 3490.13833311, 3500.03344181,\n",
              "       3504.36167369, 3502.81584036, 3468.10466087, 3415.35359249,\n",
              "       3404.71048905, 3451.13921105, 3425.6947666 , 3431.85865549,\n",
              "       3455.96432925, 3423.66726135, 3380.01170579, 3403.36587246,\n",
              "       3436.81587246, 3439.28531691, 3380.17281691, 3351.97805195,\n",
              "       3323.04425565, 3285.88147787, 3296.22175565, 3347.28981121,\n",
              "       3347.3512001 , 3350.83139333, 3357.52156427, 3346.93867897,\n",
              "       3300.25104456, 3326.56050402, 3341.13191606, 3347.78295772,\n",
              "       3346.05934661, 3343.89340458, 3315.75161714, 3274.72245048,\n",
              "       3274.37527931, 3314.04718102, 3328.07105369, 3333.55806596,\n",
              "       3358.59063301, 3327.66598023, 3269.80157631, 3278.97024383,\n",
              "       3316.79246605, 3323.71792902, 3321.84987346, 3315.64292902,\n",
              "       3332.07620196, 3310.3649484 , 3277.98886815, 3281.97636815,\n",
              "       3273.84164593, 3239.47648893, 3224.08352916, 3177.72833592,\n",
              "       3115.21583592, 3061.91305814, 3089.95948671, 3068.08282005,\n",
              "       3110.90677838, 3108.92101449, 3077.68351449, 3027.97795894,\n",
              "       3036.26823671, 3075.65157005, 3097.13183213, 3066.62059475,\n",
              "       3058.91899219, 3021.30969732, 2978.87740127, 2965.97541263,\n",
              "       2987.03029664, 2996.33925258, 2999.18937335, 2995.70835483,\n",
              "       2965.41033896, 2928.38672785, 2915.9096586 , 2927.92539935,\n",
              "       2982.03320181, 3017.03110233, 3024.2323369 , 3028.90443835,\n",
              "       3006.03289812, 3040.86345367, 3093.26943194, 3142.87165416,\n",
              "       3154.20994781, 3172.69355892, 3149.82689225, 3096.31399543,\n",
              "       3127.04145269, 3169.13867491, 3163.41645269, 3165.29345887,\n",
              "       3172.66075684, 3185.72616089, 3157.24838311, 3182.92338311,\n",
              "       3228.75088988, 3257.15272971, 3264.70857586, 3276.67107586,\n",
              "       3249.46176706, 3204.40898928, 3201.32312981, 3229.68293373,\n",
              "       3277.23228559, 3303.43659593, 3286.65983403, 3235.24723044,\n",
              "       3181.27488477, 3189.93877365, 3229.7392585 , 3235.26842517,\n",
              "       3236.4763358 , 3253.88152098, 3232.89679876, 3180.4418151 ,\n",
              "       3160.77188756, 3192.56331614, 3192.37813665, 3204.06285887,\n",
              "       3232.64394861, 3219.7242492 , 3162.19619365, 3176.27258254,\n",
              "       3213.69758254, 3222.80869365, 3232.73495627, 3250.77020472,\n",
              "       3235.76264917, 3196.80014917, 3218.76350387, 3271.26396683,\n",
              "       3311.27134644, 3332.01848697, 3343.44904252, 3364.75491736,\n",
              "       3355.90170825, 3390.73446687, 3437.83386081, 3450.78599756,\n",
              "       3457.00562866, 3459.79512866, 3401.14734337, 3356.79271374,\n",
              "       3372.95313041, 3396.70714447, 3424.78725719, 3456.984781  ,\n",
              "       3468.20329382, 3446.67134937, 3391.27972042, 3392.32658032,\n",
              "       3446.80324699, 3444.13567036, 3445.99394813, 3440.60783702,\n",
              "       3346.32896002, 3251.31323538, 3240.03669217, 3280.78669217,\n",
              "       3294.46431563, 3292.284686  , 3296.16673728, 3275.96257061,\n",
              "       3234.46257061, 3221.11905209, 3256.92424533, 3271.65063422,\n",
              "       3292.19318473, 3299.51465908, 3272.11876536, 3234.72232092,\n",
              "       3287.14014589, 3324.652257  , 3301.09133528, 3327.06869377,\n",
              "       3356.17378637, 3326.09788513, 3275.10203898, 3287.5242612 ,\n",
              "       3326.68584208, 3342.53518849, 3346.70873921, 3363.73127616,\n",
              "       3335.64276334, 3299.03998556, 3374.17822085, 3447.16544308,\n",
              "       3478.44615295, 3480.97115295, 3475.78058505, 3440.98998676,\n",
              "       3385.76776454, 3400.32011496, 3435.07000813, 3442.43900813,\n",
              "       3433.42734146, 3416.41610409, 3372.36888186, 3317.99943742,\n",
              "       3285.64269139, 3307.749298  , 3308.71768424, 3307.56363546,\n",
              "       3344.21969606, 3334.47895532, 3291.8817331 , 3311.92046767,\n",
              "       3358.02774545, 3373.10155497, 3383.03734664, 3385.4109393 ,\n",
              "       3366.75579943, 3309.51195022, 3332.97174876, 3371.1526932 ,\n",
              "       3379.88929451, 3395.52957229, 3398.05019194, 3367.81639565,\n",
              "       3320.44916332, 3333.89725516, 3386.90796223, 3386.85411607,\n",
              "       3392.91883402, 3394.59150069, 3372.35019801, 3354.42314173,\n",
              "       3386.58841951, 3412.09799553, 3462.24779712, 3478.74845547,\n",
              "       3484.19475176, 3457.95680054, 3406.78087462, 3404.70494869,\n",
              "       3435.74407705, 3383.33768816, 3362.17707705, 3338.64910085,\n",
              "       3296.58382549, 3251.69144198, 3255.89418497, 3302.60579608,\n",
              "       3304.79567704, 3301.63050057, 3294.50194759, 3246.87376132,\n",
              "       3195.20965876, 3213.05456616, 3252.15279849, 3267.62308272,\n",
              "       3265.51978306, 3259.15405657, 3228.33944545, 3187.01166768,\n",
              "       3205.70297036, 3237.5801529 , 3252.57891833, 3275.95962008,\n",
              "       3273.80545342, 3236.24796624, 3202.73629957, 3230.25629957,\n",
              "       3267.9322255 , 3284.08567377, 3285.86876764, 3335.3199482 ,\n",
              "       3325.26932194, 3298.2234886 , 3329.86738762, 3368.30270508,\n",
              "       3373.39244867, 3370.58724437, 3370.04874437, 3339.89221969,\n",
              "       3297.80482284, 3334.64412023, 3380.54315869, 3385.09315869,\n",
              "       3391.33682536, 3392.5332698 , 3359.41058462, 3336.13891795,\n",
              "       3363.89586239, 3396.35002906, 3408.11725128, 3419.62153872,\n",
              "       3427.4198589 , 3387.89763668, 3341.85622254, 3362.10606162,\n",
              "       3394.56998926, 3407.13979879, 3413.13053953, 3397.77860641,\n",
              "       3379.04263897, 3338.85097231, 3312.04925748, 3349.09707169,\n",
              "       3345.1472397 , 3329.31398317, 3334.99197463, 3309.30779004,\n",
              "       3269.79490115, 3300.86065785, 3350.03771879, 3363.67308203,\n",
              "       3362.03280426, 3367.1647487 , 3336.40341537, 3293.43335981,\n",
              "       3327.48895505, 3348.29680529, 3346.22121005, 3345.69273783,\n",
              "       3346.07016839, 3316.79782539, 3260.61879534, 3274.63149375,\n",
              "       3312.44351721, 3325.98140035, 3327.13836159, 3324.46177429,\n",
              "       3300.75436688, 3274.65541583])"
            ]
          },
          "metadata": {},
          "execution_count": 102
        }
      ]
    },
    {
      "cell_type": "code",
      "source": [
        "traffic_day.dropna(inplace=True)"
      ],
      "metadata": {
        "id": "vr52FY01Acfw"
      },
      "id": "vr52FY01Acfw",
      "execution_count": 104,
      "outputs": []
    },
    {
      "cell_type": "code",
      "source": [
        "traffic_day.head(20)"
      ],
      "metadata": {
        "colab": {
          "base_uri": "https://localhost:8080/",
          "height": 707
        },
        "id": "-3B0YEGRAXQB",
        "outputId": "016b10bc-cb2e-40f3-c2b5-318444b017de"
      },
      "id": "-3B0YEGRAXQB",
      "execution_count": 105,
      "outputs": [
        {
          "output_type": "execute_result",
          "data": {
            "text/plain": [
              "            traffic_volume        temp  rain_1h  snow_1h  clouds_all  \\\n",
              "date_time                                                              \n",
              "2016-12-17     1696.725000  258.220500      0.0      0.0   64.500000   \n",
              "2016-12-18     1948.434783  249.040000      0.0      0.0    4.739130   \n",
              "2016-12-19     3336.000000  263.247200      0.0      0.0   19.640000   \n",
              "2016-12-20     3622.130435  272.243478      0.0      0.0   13.304348   \n",
              "2016-12-21     3558.416667  273.563333      0.0      0.0   60.333333   \n",
              "2016-12-22     3538.333333  271.119583      0.0      0.0    4.916667   \n",
              "2016-12-23     3607.071429  273.999524      0.0      0.0   72.690476   \n",
              "2016-12-24     2450.428571  274.166857      0.0      0.0   90.000000   \n",
              "2016-12-25     1498.901639  274.274918      0.0      0.0   90.000000   \n",
              "2016-12-26     2197.111111  269.460000      0.0      0.0   86.851852   \n",
              "2016-12-27     3150.750000  266.088333      0.0      0.0   55.208333   \n",
              "2016-12-28     3375.916667  271.282500      0.0      0.0   35.625000   \n",
              "2016-12-29     3431.916667  271.375000      0.0      0.0   61.916667   \n",
              "2016-12-30     3405.583333  268.326667      0.0      0.0   49.750000   \n",
              "2016-12-31     2686.375000  268.996250      0.0      0.0   43.958333   \n",
              "2017-01-01     2127.625000  270.087500      0.0      0.0   42.250000   \n",
              "2017-01-02     2376.380952  272.263095      0.0      0.0   90.000000   \n",
              "2017-01-03     2675.129032  266.727097      0.0      0.0   55.225806   \n",
              "2017-01-04     3405.240000  254.552400      0.0      0.0   13.560000   \n",
              "2017-01-05     2900.838710  253.624194      0.0      0.0   48.193548   \n",
              "\n",
              "                   leg1         leg2         leg3         leg4         leg5  \\\n",
              "date_time                                                                     \n",
              "2016-12-17  2682.871795  3637.625000  3868.333333  3639.291667  3556.973684   \n",
              "2016-12-18  1696.725000  2682.871795  3637.625000  3868.333333  3639.291667   \n",
              "2016-12-19  1948.434783  1696.725000  2682.871795  3637.625000  3868.333333   \n",
              "2016-12-20  3336.000000  1948.434783  1696.725000  2682.871795  3637.625000   \n",
              "2016-12-21  3622.130435  3336.000000  1948.434783  1696.725000  2682.871795   \n",
              "2016-12-22  3558.416667  3622.130435  3336.000000  1948.434783  1696.725000   \n",
              "2016-12-23  3538.333333  3558.416667  3622.130435  3336.000000  1948.434783   \n",
              "2016-12-24  3607.071429  3538.333333  3558.416667  3622.130435  3336.000000   \n",
              "2016-12-25  2450.428571  3607.071429  3538.333333  3558.416667  3622.130435   \n",
              "2016-12-26  1498.901639  2450.428571  3607.071429  3538.333333  3558.416667   \n",
              "2016-12-27  2197.111111  1498.901639  2450.428571  3607.071429  3538.333333   \n",
              "2016-12-28  3150.750000  2197.111111  1498.901639  2450.428571  3607.071429   \n",
              "2016-12-29  3375.916667  3150.750000  2197.111111  1498.901639  2450.428571   \n",
              "2016-12-30  3431.916667  3375.916667  3150.750000  2197.111111  1498.901639   \n",
              "2016-12-31  3405.583333  3431.916667  3375.916667  3150.750000  2197.111111   \n",
              "2017-01-01  2686.375000  3405.583333  3431.916667  3375.916667  3150.750000   \n",
              "2017-01-02  2127.625000  2686.375000  3405.583333  3431.916667  3375.916667   \n",
              "2017-01-03  2376.380952  2127.625000  2686.375000  3405.583333  3431.916667   \n",
              "2017-01-04  2675.129032  2376.380952  2127.625000  2686.375000  3405.583333   \n",
              "2017-01-05  3405.240000  2675.129032  2376.380952  2127.625000  2686.375000   \n",
              "\n",
              "                    avg  \n",
              "date_time                \n",
              "2016-12-17  3002.062871  \n",
              "2016-12-18  2953.777364  \n",
              "2016-12-19  2974.632919  \n",
              "2016-12-20  3020.987267  \n",
              "2016-12-21  3030.745600  \n",
              "2016-12-22  3039.563122  \n",
              "2016-12-23  3057.303411  \n",
              "2016-12-24  3065.011348  \n",
              "2016-12-25  3047.931402  \n",
              "2016-12-26  3056.629843  \n",
              "2016-12-27  3094.505752  \n",
              "2016-12-28  3109.176830  \n",
              "2016-12-29  3127.909095  \n",
              "2016-12-30  3137.254769  \n",
              "2016-12-31  3119.281062  \n",
              "2017-01-01  3061.603285  \n",
              "2017-01-02  3039.379983  \n",
              "2017-01-03  3052.499196  \n",
              "2017-01-04  3040.371641  \n",
              "2017-01-05  3017.899598  "
            ],
            "text/html": [
              "\n",
              "  <div id=\"df-5bb6e0b7-d9e3-4bf7-bb77-fd2dcec52ce7\" class=\"colab-df-container\">\n",
              "    <div>\n",
              "<style scoped>\n",
              "    .dataframe tbody tr th:only-of-type {\n",
              "        vertical-align: middle;\n",
              "    }\n",
              "\n",
              "    .dataframe tbody tr th {\n",
              "        vertical-align: top;\n",
              "    }\n",
              "\n",
              "    .dataframe thead th {\n",
              "        text-align: right;\n",
              "    }\n",
              "</style>\n",
              "<table border=\"1\" class=\"dataframe\">\n",
              "  <thead>\n",
              "    <tr style=\"text-align: right;\">\n",
              "      <th></th>\n",
              "      <th>traffic_volume</th>\n",
              "      <th>temp</th>\n",
              "      <th>rain_1h</th>\n",
              "      <th>snow_1h</th>\n",
              "      <th>clouds_all</th>\n",
              "      <th>leg1</th>\n",
              "      <th>leg2</th>\n",
              "      <th>leg3</th>\n",
              "      <th>leg4</th>\n",
              "      <th>leg5</th>\n",
              "      <th>avg</th>\n",
              "    </tr>\n",
              "    <tr>\n",
              "      <th>date_time</th>\n",
              "      <th></th>\n",
              "      <th></th>\n",
              "      <th></th>\n",
              "      <th></th>\n",
              "      <th></th>\n",
              "      <th></th>\n",
              "      <th></th>\n",
              "      <th></th>\n",
              "      <th></th>\n",
              "      <th></th>\n",
              "      <th></th>\n",
              "    </tr>\n",
              "  </thead>\n",
              "  <tbody>\n",
              "    <tr>\n",
              "      <th>2016-12-17</th>\n",
              "      <td>1696.725000</td>\n",
              "      <td>258.220500</td>\n",
              "      <td>0.0</td>\n",
              "      <td>0.0</td>\n",
              "      <td>64.500000</td>\n",
              "      <td>2682.871795</td>\n",
              "      <td>3637.625000</td>\n",
              "      <td>3868.333333</td>\n",
              "      <td>3639.291667</td>\n",
              "      <td>3556.973684</td>\n",
              "      <td>3002.062871</td>\n",
              "    </tr>\n",
              "    <tr>\n",
              "      <th>2016-12-18</th>\n",
              "      <td>1948.434783</td>\n",
              "      <td>249.040000</td>\n",
              "      <td>0.0</td>\n",
              "      <td>0.0</td>\n",
              "      <td>4.739130</td>\n",
              "      <td>1696.725000</td>\n",
              "      <td>2682.871795</td>\n",
              "      <td>3637.625000</td>\n",
              "      <td>3868.333333</td>\n",
              "      <td>3639.291667</td>\n",
              "      <td>2953.777364</td>\n",
              "    </tr>\n",
              "    <tr>\n",
              "      <th>2016-12-19</th>\n",
              "      <td>3336.000000</td>\n",
              "      <td>263.247200</td>\n",
              "      <td>0.0</td>\n",
              "      <td>0.0</td>\n",
              "      <td>19.640000</td>\n",
              "      <td>1948.434783</td>\n",
              "      <td>1696.725000</td>\n",
              "      <td>2682.871795</td>\n",
              "      <td>3637.625000</td>\n",
              "      <td>3868.333333</td>\n",
              "      <td>2974.632919</td>\n",
              "    </tr>\n",
              "    <tr>\n",
              "      <th>2016-12-20</th>\n",
              "      <td>3622.130435</td>\n",
              "      <td>272.243478</td>\n",
              "      <td>0.0</td>\n",
              "      <td>0.0</td>\n",
              "      <td>13.304348</td>\n",
              "      <td>3336.000000</td>\n",
              "      <td>1948.434783</td>\n",
              "      <td>1696.725000</td>\n",
              "      <td>2682.871795</td>\n",
              "      <td>3637.625000</td>\n",
              "      <td>3020.987267</td>\n",
              "    </tr>\n",
              "    <tr>\n",
              "      <th>2016-12-21</th>\n",
              "      <td>3558.416667</td>\n",
              "      <td>273.563333</td>\n",
              "      <td>0.0</td>\n",
              "      <td>0.0</td>\n",
              "      <td>60.333333</td>\n",
              "      <td>3622.130435</td>\n",
              "      <td>3336.000000</td>\n",
              "      <td>1948.434783</td>\n",
              "      <td>1696.725000</td>\n",
              "      <td>2682.871795</td>\n",
              "      <td>3030.745600</td>\n",
              "    </tr>\n",
              "    <tr>\n",
              "      <th>2016-12-22</th>\n",
              "      <td>3538.333333</td>\n",
              "      <td>271.119583</td>\n",
              "      <td>0.0</td>\n",
              "      <td>0.0</td>\n",
              "      <td>4.916667</td>\n",
              "      <td>3558.416667</td>\n",
              "      <td>3622.130435</td>\n",
              "      <td>3336.000000</td>\n",
              "      <td>1948.434783</td>\n",
              "      <td>1696.725000</td>\n",
              "      <td>3039.563122</td>\n",
              "    </tr>\n",
              "    <tr>\n",
              "      <th>2016-12-23</th>\n",
              "      <td>3607.071429</td>\n",
              "      <td>273.999524</td>\n",
              "      <td>0.0</td>\n",
              "      <td>0.0</td>\n",
              "      <td>72.690476</td>\n",
              "      <td>3538.333333</td>\n",
              "      <td>3558.416667</td>\n",
              "      <td>3622.130435</td>\n",
              "      <td>3336.000000</td>\n",
              "      <td>1948.434783</td>\n",
              "      <td>3057.303411</td>\n",
              "    </tr>\n",
              "    <tr>\n",
              "      <th>2016-12-24</th>\n",
              "      <td>2450.428571</td>\n",
              "      <td>274.166857</td>\n",
              "      <td>0.0</td>\n",
              "      <td>0.0</td>\n",
              "      <td>90.000000</td>\n",
              "      <td>3607.071429</td>\n",
              "      <td>3538.333333</td>\n",
              "      <td>3558.416667</td>\n",
              "      <td>3622.130435</td>\n",
              "      <td>3336.000000</td>\n",
              "      <td>3065.011348</td>\n",
              "    </tr>\n",
              "    <tr>\n",
              "      <th>2016-12-25</th>\n",
              "      <td>1498.901639</td>\n",
              "      <td>274.274918</td>\n",
              "      <td>0.0</td>\n",
              "      <td>0.0</td>\n",
              "      <td>90.000000</td>\n",
              "      <td>2450.428571</td>\n",
              "      <td>3607.071429</td>\n",
              "      <td>3538.333333</td>\n",
              "      <td>3558.416667</td>\n",
              "      <td>3622.130435</td>\n",
              "      <td>3047.931402</td>\n",
              "    </tr>\n",
              "    <tr>\n",
              "      <th>2016-12-26</th>\n",
              "      <td>2197.111111</td>\n",
              "      <td>269.460000</td>\n",
              "      <td>0.0</td>\n",
              "      <td>0.0</td>\n",
              "      <td>86.851852</td>\n",
              "      <td>1498.901639</td>\n",
              "      <td>2450.428571</td>\n",
              "      <td>3607.071429</td>\n",
              "      <td>3538.333333</td>\n",
              "      <td>3558.416667</td>\n",
              "      <td>3056.629843</td>\n",
              "    </tr>\n",
              "    <tr>\n",
              "      <th>2016-12-27</th>\n",
              "      <td>3150.750000</td>\n",
              "      <td>266.088333</td>\n",
              "      <td>0.0</td>\n",
              "      <td>0.0</td>\n",
              "      <td>55.208333</td>\n",
              "      <td>2197.111111</td>\n",
              "      <td>1498.901639</td>\n",
              "      <td>2450.428571</td>\n",
              "      <td>3607.071429</td>\n",
              "      <td>3538.333333</td>\n",
              "      <td>3094.505752</td>\n",
              "    </tr>\n",
              "    <tr>\n",
              "      <th>2016-12-28</th>\n",
              "      <td>3375.916667</td>\n",
              "      <td>271.282500</td>\n",
              "      <td>0.0</td>\n",
              "      <td>0.0</td>\n",
              "      <td>35.625000</td>\n",
              "      <td>3150.750000</td>\n",
              "      <td>2197.111111</td>\n",
              "      <td>1498.901639</td>\n",
              "      <td>2450.428571</td>\n",
              "      <td>3607.071429</td>\n",
              "      <td>3109.176830</td>\n",
              "    </tr>\n",
              "    <tr>\n",
              "      <th>2016-12-29</th>\n",
              "      <td>3431.916667</td>\n",
              "      <td>271.375000</td>\n",
              "      <td>0.0</td>\n",
              "      <td>0.0</td>\n",
              "      <td>61.916667</td>\n",
              "      <td>3375.916667</td>\n",
              "      <td>3150.750000</td>\n",
              "      <td>2197.111111</td>\n",
              "      <td>1498.901639</td>\n",
              "      <td>2450.428571</td>\n",
              "      <td>3127.909095</td>\n",
              "    </tr>\n",
              "    <tr>\n",
              "      <th>2016-12-30</th>\n",
              "      <td>3405.583333</td>\n",
              "      <td>268.326667</td>\n",
              "      <td>0.0</td>\n",
              "      <td>0.0</td>\n",
              "      <td>49.750000</td>\n",
              "      <td>3431.916667</td>\n",
              "      <td>3375.916667</td>\n",
              "      <td>3150.750000</td>\n",
              "      <td>2197.111111</td>\n",
              "      <td>1498.901639</td>\n",
              "      <td>3137.254769</td>\n",
              "    </tr>\n",
              "    <tr>\n",
              "      <th>2016-12-31</th>\n",
              "      <td>2686.375000</td>\n",
              "      <td>268.996250</td>\n",
              "      <td>0.0</td>\n",
              "      <td>0.0</td>\n",
              "      <td>43.958333</td>\n",
              "      <td>3405.583333</td>\n",
              "      <td>3431.916667</td>\n",
              "      <td>3375.916667</td>\n",
              "      <td>3150.750000</td>\n",
              "      <td>2197.111111</td>\n",
              "      <td>3119.281062</td>\n",
              "    </tr>\n",
              "    <tr>\n",
              "      <th>2017-01-01</th>\n",
              "      <td>2127.625000</td>\n",
              "      <td>270.087500</td>\n",
              "      <td>0.0</td>\n",
              "      <td>0.0</td>\n",
              "      <td>42.250000</td>\n",
              "      <td>2686.375000</td>\n",
              "      <td>3405.583333</td>\n",
              "      <td>3431.916667</td>\n",
              "      <td>3375.916667</td>\n",
              "      <td>3150.750000</td>\n",
              "      <td>3061.603285</td>\n",
              "    </tr>\n",
              "    <tr>\n",
              "      <th>2017-01-02</th>\n",
              "      <td>2376.380952</td>\n",
              "      <td>272.263095</td>\n",
              "      <td>0.0</td>\n",
              "      <td>0.0</td>\n",
              "      <td>90.000000</td>\n",
              "      <td>2127.625000</td>\n",
              "      <td>2686.375000</td>\n",
              "      <td>3405.583333</td>\n",
              "      <td>3431.916667</td>\n",
              "      <td>3375.916667</td>\n",
              "      <td>3039.379983</td>\n",
              "    </tr>\n",
              "    <tr>\n",
              "      <th>2017-01-03</th>\n",
              "      <td>2675.129032</td>\n",
              "      <td>266.727097</td>\n",
              "      <td>0.0</td>\n",
              "      <td>0.0</td>\n",
              "      <td>55.225806</td>\n",
              "      <td>2376.380952</td>\n",
              "      <td>2127.625000</td>\n",
              "      <td>2686.375000</td>\n",
              "      <td>3405.583333</td>\n",
              "      <td>3431.916667</td>\n",
              "      <td>3052.499196</td>\n",
              "    </tr>\n",
              "    <tr>\n",
              "      <th>2017-01-04</th>\n",
              "      <td>3405.240000</td>\n",
              "      <td>254.552400</td>\n",
              "      <td>0.0</td>\n",
              "      <td>0.0</td>\n",
              "      <td>13.560000</td>\n",
              "      <td>2675.129032</td>\n",
              "      <td>2376.380952</td>\n",
              "      <td>2127.625000</td>\n",
              "      <td>2686.375000</td>\n",
              "      <td>3405.583333</td>\n",
              "      <td>3040.371641</td>\n",
              "    </tr>\n",
              "    <tr>\n",
              "      <th>2017-01-05</th>\n",
              "      <td>2900.838710</td>\n",
              "      <td>253.624194</td>\n",
              "      <td>0.0</td>\n",
              "      <td>0.0</td>\n",
              "      <td>48.193548</td>\n",
              "      <td>3405.240000</td>\n",
              "      <td>2675.129032</td>\n",
              "      <td>2376.380952</td>\n",
              "      <td>2127.625000</td>\n",
              "      <td>2686.375000</td>\n",
              "      <td>3017.899598</td>\n",
              "    </tr>\n",
              "  </tbody>\n",
              "</table>\n",
              "</div>\n",
              "    <div class=\"colab-df-buttons\">\n",
              "\n",
              "  <div class=\"colab-df-container\">\n",
              "    <button class=\"colab-df-convert\" onclick=\"convertToInteractive('df-5bb6e0b7-d9e3-4bf7-bb77-fd2dcec52ce7')\"\n",
              "            title=\"Convert this dataframe to an interactive table.\"\n",
              "            style=\"display:none;\">\n",
              "\n",
              "  <svg xmlns=\"http://www.w3.org/2000/svg\" height=\"24px\" viewBox=\"0 -960 960 960\">\n",
              "    <path d=\"M120-120v-720h720v720H120Zm60-500h600v-160H180v160Zm220 220h160v-160H400v160Zm0 220h160v-160H400v160ZM180-400h160v-160H180v160Zm440 0h160v-160H620v160ZM180-180h160v-160H180v160Zm440 0h160v-160H620v160Z\"/>\n",
              "  </svg>\n",
              "    </button>\n",
              "\n",
              "  <style>\n",
              "    .colab-df-container {\n",
              "      display:flex;\n",
              "      gap: 12px;\n",
              "    }\n",
              "\n",
              "    .colab-df-convert {\n",
              "      background-color: #E8F0FE;\n",
              "      border: none;\n",
              "      border-radius: 50%;\n",
              "      cursor: pointer;\n",
              "      display: none;\n",
              "      fill: #1967D2;\n",
              "      height: 32px;\n",
              "      padding: 0 0 0 0;\n",
              "      width: 32px;\n",
              "    }\n",
              "\n",
              "    .colab-df-convert:hover {\n",
              "      background-color: #E2EBFA;\n",
              "      box-shadow: 0px 1px 2px rgba(60, 64, 67, 0.3), 0px 1px 3px 1px rgba(60, 64, 67, 0.15);\n",
              "      fill: #174EA6;\n",
              "    }\n",
              "\n",
              "    .colab-df-buttons div {\n",
              "      margin-bottom: 4px;\n",
              "    }\n",
              "\n",
              "    [theme=dark] .colab-df-convert {\n",
              "      background-color: #3B4455;\n",
              "      fill: #D2E3FC;\n",
              "    }\n",
              "\n",
              "    [theme=dark] .colab-df-convert:hover {\n",
              "      background-color: #434B5C;\n",
              "      box-shadow: 0px 1px 3px 1px rgba(0, 0, 0, 0.15);\n",
              "      filter: drop-shadow(0px 1px 2px rgba(0, 0, 0, 0.3));\n",
              "      fill: #FFFFFF;\n",
              "    }\n",
              "  </style>\n",
              "\n",
              "    <script>\n",
              "      const buttonEl =\n",
              "        document.querySelector('#df-5bb6e0b7-d9e3-4bf7-bb77-fd2dcec52ce7 button.colab-df-convert');\n",
              "      buttonEl.style.display =\n",
              "        google.colab.kernel.accessAllowed ? 'block' : 'none';\n",
              "\n",
              "      async function convertToInteractive(key) {\n",
              "        const element = document.querySelector('#df-5bb6e0b7-d9e3-4bf7-bb77-fd2dcec52ce7');\n",
              "        const dataTable =\n",
              "          await google.colab.kernel.invokeFunction('convertToInteractive',\n",
              "                                                    [key], {});\n",
              "        if (!dataTable) return;\n",
              "\n",
              "        const docLinkHtml = 'Like what you see? Visit the ' +\n",
              "          '<a target=\"_blank\" href=https://colab.research.google.com/notebooks/data_table.ipynb>data table notebook</a>'\n",
              "          + ' to learn more about interactive tables.';\n",
              "        element.innerHTML = '';\n",
              "        dataTable['output_type'] = 'display_data';\n",
              "        await google.colab.output.renderOutput(dataTable, element);\n",
              "        const docLink = document.createElement('div');\n",
              "        docLink.innerHTML = docLinkHtml;\n",
              "        element.appendChild(docLink);\n",
              "      }\n",
              "    </script>\n",
              "  </div>\n",
              "\n",
              "\n",
              "<div id=\"df-5a272d26-15bf-4b39-8969-36b9f7f99773\">\n",
              "  <button class=\"colab-df-quickchart\" onclick=\"quickchart('df-5a272d26-15bf-4b39-8969-36b9f7f99773')\"\n",
              "            title=\"Suggest charts\"\n",
              "            style=\"display:none;\">\n",
              "\n",
              "<svg xmlns=\"http://www.w3.org/2000/svg\" height=\"24px\"viewBox=\"0 0 24 24\"\n",
              "     width=\"24px\">\n",
              "    <g>\n",
              "        <path d=\"M19 3H5c-1.1 0-2 .9-2 2v14c0 1.1.9 2 2 2h14c1.1 0 2-.9 2-2V5c0-1.1-.9-2-2-2zM9 17H7v-7h2v7zm4 0h-2V7h2v10zm4 0h-2v-4h2v4z\"/>\n",
              "    </g>\n",
              "</svg>\n",
              "  </button>\n",
              "\n",
              "<style>\n",
              "  .colab-df-quickchart {\n",
              "      --bg-color: #E8F0FE;\n",
              "      --fill-color: #1967D2;\n",
              "      --hover-bg-color: #E2EBFA;\n",
              "      --hover-fill-color: #174EA6;\n",
              "      --disabled-fill-color: #AAA;\n",
              "      --disabled-bg-color: #DDD;\n",
              "  }\n",
              "\n",
              "  [theme=dark] .colab-df-quickchart {\n",
              "      --bg-color: #3B4455;\n",
              "      --fill-color: #D2E3FC;\n",
              "      --hover-bg-color: #434B5C;\n",
              "      --hover-fill-color: #FFFFFF;\n",
              "      --disabled-bg-color: #3B4455;\n",
              "      --disabled-fill-color: #666;\n",
              "  }\n",
              "\n",
              "  .colab-df-quickchart {\n",
              "    background-color: var(--bg-color);\n",
              "    border: none;\n",
              "    border-radius: 50%;\n",
              "    cursor: pointer;\n",
              "    display: none;\n",
              "    fill: var(--fill-color);\n",
              "    height: 32px;\n",
              "    padding: 0;\n",
              "    width: 32px;\n",
              "  }\n",
              "\n",
              "  .colab-df-quickchart:hover {\n",
              "    background-color: var(--hover-bg-color);\n",
              "    box-shadow: 0 1px 2px rgba(60, 64, 67, 0.3), 0 1px 3px 1px rgba(60, 64, 67, 0.15);\n",
              "    fill: var(--button-hover-fill-color);\n",
              "  }\n",
              "\n",
              "  .colab-df-quickchart-complete:disabled,\n",
              "  .colab-df-quickchart-complete:disabled:hover {\n",
              "    background-color: var(--disabled-bg-color);\n",
              "    fill: var(--disabled-fill-color);\n",
              "    box-shadow: none;\n",
              "  }\n",
              "\n",
              "  .colab-df-spinner {\n",
              "    border: 2px solid var(--fill-color);\n",
              "    border-color: transparent;\n",
              "    border-bottom-color: var(--fill-color);\n",
              "    animation:\n",
              "      spin 1s steps(1) infinite;\n",
              "  }\n",
              "\n",
              "  @keyframes spin {\n",
              "    0% {\n",
              "      border-color: transparent;\n",
              "      border-bottom-color: var(--fill-color);\n",
              "      border-left-color: var(--fill-color);\n",
              "    }\n",
              "    20% {\n",
              "      border-color: transparent;\n",
              "      border-left-color: var(--fill-color);\n",
              "      border-top-color: var(--fill-color);\n",
              "    }\n",
              "    30% {\n",
              "      border-color: transparent;\n",
              "      border-left-color: var(--fill-color);\n",
              "      border-top-color: var(--fill-color);\n",
              "      border-right-color: var(--fill-color);\n",
              "    }\n",
              "    40% {\n",
              "      border-color: transparent;\n",
              "      border-right-color: var(--fill-color);\n",
              "      border-top-color: var(--fill-color);\n",
              "    }\n",
              "    60% {\n",
              "      border-color: transparent;\n",
              "      border-right-color: var(--fill-color);\n",
              "    }\n",
              "    80% {\n",
              "      border-color: transparent;\n",
              "      border-right-color: var(--fill-color);\n",
              "      border-bottom-color: var(--fill-color);\n",
              "    }\n",
              "    90% {\n",
              "      border-color: transparent;\n",
              "      border-bottom-color: var(--fill-color);\n",
              "    }\n",
              "  }\n",
              "</style>\n",
              "\n",
              "  <script>\n",
              "    async function quickchart(key) {\n",
              "      const quickchartButtonEl =\n",
              "        document.querySelector('#' + key + ' button');\n",
              "      quickchartButtonEl.disabled = true;  // To prevent multiple clicks.\n",
              "      quickchartButtonEl.classList.add('colab-df-spinner');\n",
              "      try {\n",
              "        const charts = await google.colab.kernel.invokeFunction(\n",
              "            'suggestCharts', [key], {});\n",
              "      } catch (error) {\n",
              "        console.error('Error during call to suggestCharts:', error);\n",
              "      }\n",
              "      quickchartButtonEl.classList.remove('colab-df-spinner');\n",
              "      quickchartButtonEl.classList.add('colab-df-quickchart-complete');\n",
              "    }\n",
              "    (() => {\n",
              "      let quickchartButtonEl =\n",
              "        document.querySelector('#df-5a272d26-15bf-4b39-8969-36b9f7f99773 button');\n",
              "      quickchartButtonEl.style.display =\n",
              "        google.colab.kernel.accessAllowed ? 'block' : 'none';\n",
              "    })();\n",
              "  </script>\n",
              "</div>\n",
              "\n",
              "    </div>\n",
              "  </div>\n"
            ],
            "application/vnd.google.colaboratory.intrinsic+json": {
              "type": "dataframe",
              "variable_name": "traffic_day",
              "summary": "{\n  \"name\": \"traffic_day\",\n  \"rows\": 653,\n  \"fields\": [\n    {\n      \"column\": \"date_time\",\n      \"properties\": {\n        \"dtype\": \"date\",\n        \"min\": \"2016-12-17 00:00:00\",\n        \"max\": \"2018-09-30 00:00:00\",\n        \"num_unique_values\": 653,\n        \"samples\": [\n          \"2017-04-05 00:00:00\",\n          \"2017-09-17 00:00:00\",\n          \"2017-07-04 00:00:00\"\n        ],\n        \"semantic_type\": \"\",\n        \"description\": \"\"\n      }\n    },\n    {\n      \"column\": \"traffic_volume\",\n      \"properties\": {\n        \"dtype\": \"number\",\n        \"std\": 562.6308475578463,\n        \"min\": 1139.05,\n        \"max\": 4555.170212765957,\n        \"num_unique_values\": 652,\n        \"samples\": [\n          3399.1521739130435,\n          3900.7083333333335,\n          2753.3333333333335\n        ],\n        \"semantic_type\": \"\",\n        \"description\": \"\"\n      }\n    },\n    {\n      \"column\": \"temp\",\n      \"properties\": {\n        \"dtype\": \"number\",\n        \"std\": 12.443767268857098,\n        \"min\": 249.04,\n        \"max\": 302.58750000000003,\n        \"num_unique_values\": 651,\n        \"samples\": [\n          288.8163043478261,\n          287.7375,\n          294.1558333333333\n        ],\n        \"semantic_type\": \"\",\n        \"description\": \"\"\n      }\n    },\n    {\n      \"column\": \"rain_1h\",\n      \"properties\": {\n        \"dtype\": \"number\",\n        \"std\": 0.2269331702705857,\n        \"min\": 0.0,\n        \"max\": 3.31359375,\n        \"num_unique_values\": 28,\n        \"samples\": [\n          0.2413793103448276,\n          0.7896428571428571,\n          0.4354545454545454\n        ],\n        \"semantic_type\": \"\",\n        \"description\": \"\"\n      }\n    },\n    {\n      \"column\": \"snow_1h\",\n      \"properties\": {\n        \"dtype\": \"number\",\n        \"std\": 0.0,\n        \"min\": 0.0,\n        \"max\": 0.0,\n        \"num_unique_values\": 1,\n        \"samples\": [\n          0.0\n        ],\n        \"semantic_type\": \"\",\n        \"description\": \"\"\n      }\n    },\n    {\n      \"column\": \"clouds_all\",\n      \"properties\": {\n        \"dtype\": \"number\",\n        \"std\": 26.26532394206377,\n        \"min\": 1.0,\n        \"max\": 90.22727272727273,\n        \"num_unique_values\": 597,\n        \"samples\": [\n          15.75\n        ],\n        \"semantic_type\": \"\",\n        \"description\": \"\"\n      }\n    },\n    {\n      \"column\": \"leg1\",\n      \"properties\": {\n        \"dtype\": \"number\",\n        \"std\": 562.5642836537884,\n        \"min\": 1139.05,\n        \"max\": 4555.170212765957,\n        \"num_unique_values\": 652,\n        \"samples\": [\n          3887.542857142857\n        ],\n        \"semantic_type\": \"\",\n        \"description\": \"\"\n      }\n    },\n    {\n      \"column\": \"leg2\",\n      \"properties\": {\n        \"dtype\": \"number\",\n        \"std\": 562.5781924820601,\n        \"min\": 1139.05,\n        \"max\": 4555.170212765957,\n        \"num_unique_values\": 652,\n        \"samples\": [\n          2458.4583333333335\n        ],\n        \"semantic_type\": \"\",\n        \"description\": \"\"\n      }\n    },\n    {\n      \"column\": \"leg3\",\n      \"properties\": {\n        \"dtype\": \"number\",\n        \"std\": 562.5980070230158,\n        \"min\": 1139.05,\n        \"max\": 4555.170212765957,\n        \"num_unique_values\": 652,\n        \"samples\": [\n          2871.72\n        ],\n        \"semantic_type\": \"\",\n        \"description\": \"\"\n      }\n    },\n    {\n      \"column\": \"leg4\",\n      \"properties\": {\n        \"dtype\": \"number\",\n        \"std\": 562.4517496827068,\n        \"min\": 1139.05,\n        \"max\": 4555.170212765957,\n        \"num_unique_values\": 652,\n        \"samples\": [\n          3776.0\n        ],\n        \"semantic_type\": \"\",\n        \"description\": \"\"\n      }\n    },\n    {\n      \"column\": \"leg5\",\n      \"properties\": {\n        \"dtype\": \"number\",\n        \"std\": 562.3386724534683,\n        \"min\": 1139.05,\n        \"max\": 4555.170212765957,\n        \"num_unique_values\": 652,\n        \"samples\": [\n          3680.9166666666665\n        ],\n        \"semantic_type\": \"\",\n        \"description\": \"\"\n      }\n    },\n    {\n      \"column\": \"avg\",\n      \"properties\": {\n        \"dtype\": \"number\",\n        \"std\": 139.60290695462623,\n        \"min\": 2896.82123378556,\n        \"max\": 3533.141116924692,\n        \"num_unique_values\": 653,\n        \"samples\": [\n          3450.72783912936\n        ],\n        \"semantic_type\": \"\",\n        \"description\": \"\"\n      }\n    }\n  ]\n}"
            }
          },
          "metadata": {},
          "execution_count": 105
        }
      ]
    },
    {
      "cell_type": "markdown",
      "id": "10def3f0",
      "metadata": {
        "id": "10def3f0"
      },
      "source": [
        "## Feature Engineering\n",
        "\n",
        "### Instructions:\n",
        "  \n",
        "- **Shift Method**: Use the `shift` method to create a new column `prev_traffic_volume`, which represents the previous day's traffic volume.\n",
        "\n",
        "- **Difference between traffic_volume**: Calculate the difference between the values in `traffic_volume` column to highlight short-term volume.\n",
        "\n",
        "- **Date Features**: Extract meaningful time-based features from the `date_time` column to enhance the model's ability to detect temporal patterns. These features include:\n",
        "  - **Day of the week**: To capture weekly seasonality.\n",
        "  - **Month**: To capture monthly trends.\n",
        "  - **Day of the year**: Useful for modeling yearly seasonality.\n"
      ]
    },
    {
      "cell_type": "code",
      "execution_count": 106,
      "id": "d62cd837",
      "metadata": {
        "id": "d62cd837"
      },
      "outputs": [],
      "source": [
        "traffic_day['Difference'] = traffic_day['traffic_volume'].diff()"
      ]
    },
    {
      "cell_type": "code",
      "source": [
        "traffic_day['dayofweek']= traffic_day.index.dayofweek\n",
        "traffic_day['month']= traffic_day.index.month\n",
        "traffic_day['dayodyear']= traffic_day.index.dayofyear"
      ],
      "metadata": {
        "id": "CieZFdWYCG-s"
      },
      "id": "CieZFdWYCG-s",
      "execution_count": 107,
      "outputs": []
    },
    {
      "cell_type": "code",
      "source": [
        "traffic_day.dropna(inplace=True)"
      ],
      "metadata": {
        "id": "jvehCovII7nM"
      },
      "id": "jvehCovII7nM",
      "execution_count": 136,
      "outputs": []
    },
    {
      "cell_type": "code",
      "source": [
        "traffic_day.head()"
      ],
      "metadata": {
        "colab": {
          "base_uri": "https://localhost:8080/",
          "height": 344
        },
        "id": "Qegq7RPjIy2w",
        "outputId": "cd437ec0-a45a-40bf-8178-8102f165ba46"
      },
      "id": "Qegq7RPjIy2w",
      "execution_count": 137,
      "outputs": [
        {
          "output_type": "execute_result",
          "data": {
            "text/plain": [
              "            traffic_volume        temp  rain_1h  snow_1h  clouds_all  \\\n",
              "date_time                                                              \n",
              "2016-12-18     1948.434783  249.040000      0.0      0.0    4.739130   \n",
              "2016-12-19     3336.000000  263.247200      0.0      0.0   19.640000   \n",
              "2016-12-20     3622.130435  272.243478      0.0      0.0   13.304348   \n",
              "2016-12-21     3558.416667  273.563333      0.0      0.0   60.333333   \n",
              "2016-12-22     3538.333333  271.119583      0.0      0.0    4.916667   \n",
              "\n",
              "                   leg1         leg2         leg3         leg4         leg5  \\\n",
              "date_time                                                                     \n",
              "2016-12-18  1696.725000  2682.871795  3637.625000  3868.333333  3639.291667   \n",
              "2016-12-19  1948.434783  1696.725000  2682.871795  3637.625000  3868.333333   \n",
              "2016-12-20  3336.000000  1948.434783  1696.725000  2682.871795  3637.625000   \n",
              "2016-12-21  3622.130435  3336.000000  1948.434783  1696.725000  2682.871795   \n",
              "2016-12-22  3558.416667  3622.130435  3336.000000  1948.434783  1696.725000   \n",
              "\n",
              "                    avg   Difference  dayofweek  month  dayodyear  \n",
              "date_time                                                          \n",
              "2016-12-18  2953.777364   251.709783          6     12        353  \n",
              "2016-12-19  2974.632919  1387.565217          0     12        354  \n",
              "2016-12-20  3020.987267   286.130435          1     12        355  \n",
              "2016-12-21  3030.745600   -63.713768          2     12        356  \n",
              "2016-12-22  3039.563122   -20.083333          3     12        357  "
            ],
            "text/html": [
              "\n",
              "  <div id=\"df-73892444-ad5d-4e1f-b5d2-7bca66e8e980\" class=\"colab-df-container\">\n",
              "    <div>\n",
              "<style scoped>\n",
              "    .dataframe tbody tr th:only-of-type {\n",
              "        vertical-align: middle;\n",
              "    }\n",
              "\n",
              "    .dataframe tbody tr th {\n",
              "        vertical-align: top;\n",
              "    }\n",
              "\n",
              "    .dataframe thead th {\n",
              "        text-align: right;\n",
              "    }\n",
              "</style>\n",
              "<table border=\"1\" class=\"dataframe\">\n",
              "  <thead>\n",
              "    <tr style=\"text-align: right;\">\n",
              "      <th></th>\n",
              "      <th>traffic_volume</th>\n",
              "      <th>temp</th>\n",
              "      <th>rain_1h</th>\n",
              "      <th>snow_1h</th>\n",
              "      <th>clouds_all</th>\n",
              "      <th>leg1</th>\n",
              "      <th>leg2</th>\n",
              "      <th>leg3</th>\n",
              "      <th>leg4</th>\n",
              "      <th>leg5</th>\n",
              "      <th>avg</th>\n",
              "      <th>Difference</th>\n",
              "      <th>dayofweek</th>\n",
              "      <th>month</th>\n",
              "      <th>dayodyear</th>\n",
              "    </tr>\n",
              "    <tr>\n",
              "      <th>date_time</th>\n",
              "      <th></th>\n",
              "      <th></th>\n",
              "      <th></th>\n",
              "      <th></th>\n",
              "      <th></th>\n",
              "      <th></th>\n",
              "      <th></th>\n",
              "      <th></th>\n",
              "      <th></th>\n",
              "      <th></th>\n",
              "      <th></th>\n",
              "      <th></th>\n",
              "      <th></th>\n",
              "      <th></th>\n",
              "      <th></th>\n",
              "    </tr>\n",
              "  </thead>\n",
              "  <tbody>\n",
              "    <tr>\n",
              "      <th>2016-12-18</th>\n",
              "      <td>1948.434783</td>\n",
              "      <td>249.040000</td>\n",
              "      <td>0.0</td>\n",
              "      <td>0.0</td>\n",
              "      <td>4.739130</td>\n",
              "      <td>1696.725000</td>\n",
              "      <td>2682.871795</td>\n",
              "      <td>3637.625000</td>\n",
              "      <td>3868.333333</td>\n",
              "      <td>3639.291667</td>\n",
              "      <td>2953.777364</td>\n",
              "      <td>251.709783</td>\n",
              "      <td>6</td>\n",
              "      <td>12</td>\n",
              "      <td>353</td>\n",
              "    </tr>\n",
              "    <tr>\n",
              "      <th>2016-12-19</th>\n",
              "      <td>3336.000000</td>\n",
              "      <td>263.247200</td>\n",
              "      <td>0.0</td>\n",
              "      <td>0.0</td>\n",
              "      <td>19.640000</td>\n",
              "      <td>1948.434783</td>\n",
              "      <td>1696.725000</td>\n",
              "      <td>2682.871795</td>\n",
              "      <td>3637.625000</td>\n",
              "      <td>3868.333333</td>\n",
              "      <td>2974.632919</td>\n",
              "      <td>1387.565217</td>\n",
              "      <td>0</td>\n",
              "      <td>12</td>\n",
              "      <td>354</td>\n",
              "    </tr>\n",
              "    <tr>\n",
              "      <th>2016-12-20</th>\n",
              "      <td>3622.130435</td>\n",
              "      <td>272.243478</td>\n",
              "      <td>0.0</td>\n",
              "      <td>0.0</td>\n",
              "      <td>13.304348</td>\n",
              "      <td>3336.000000</td>\n",
              "      <td>1948.434783</td>\n",
              "      <td>1696.725000</td>\n",
              "      <td>2682.871795</td>\n",
              "      <td>3637.625000</td>\n",
              "      <td>3020.987267</td>\n",
              "      <td>286.130435</td>\n",
              "      <td>1</td>\n",
              "      <td>12</td>\n",
              "      <td>355</td>\n",
              "    </tr>\n",
              "    <tr>\n",
              "      <th>2016-12-21</th>\n",
              "      <td>3558.416667</td>\n",
              "      <td>273.563333</td>\n",
              "      <td>0.0</td>\n",
              "      <td>0.0</td>\n",
              "      <td>60.333333</td>\n",
              "      <td>3622.130435</td>\n",
              "      <td>3336.000000</td>\n",
              "      <td>1948.434783</td>\n",
              "      <td>1696.725000</td>\n",
              "      <td>2682.871795</td>\n",
              "      <td>3030.745600</td>\n",
              "      <td>-63.713768</td>\n",
              "      <td>2</td>\n",
              "      <td>12</td>\n",
              "      <td>356</td>\n",
              "    </tr>\n",
              "    <tr>\n",
              "      <th>2016-12-22</th>\n",
              "      <td>3538.333333</td>\n",
              "      <td>271.119583</td>\n",
              "      <td>0.0</td>\n",
              "      <td>0.0</td>\n",
              "      <td>4.916667</td>\n",
              "      <td>3558.416667</td>\n",
              "      <td>3622.130435</td>\n",
              "      <td>3336.000000</td>\n",
              "      <td>1948.434783</td>\n",
              "      <td>1696.725000</td>\n",
              "      <td>3039.563122</td>\n",
              "      <td>-20.083333</td>\n",
              "      <td>3</td>\n",
              "      <td>12</td>\n",
              "      <td>357</td>\n",
              "    </tr>\n",
              "  </tbody>\n",
              "</table>\n",
              "</div>\n",
              "    <div class=\"colab-df-buttons\">\n",
              "\n",
              "  <div class=\"colab-df-container\">\n",
              "    <button class=\"colab-df-convert\" onclick=\"convertToInteractive('df-73892444-ad5d-4e1f-b5d2-7bca66e8e980')\"\n",
              "            title=\"Convert this dataframe to an interactive table.\"\n",
              "            style=\"display:none;\">\n",
              "\n",
              "  <svg xmlns=\"http://www.w3.org/2000/svg\" height=\"24px\" viewBox=\"0 -960 960 960\">\n",
              "    <path d=\"M120-120v-720h720v720H120Zm60-500h600v-160H180v160Zm220 220h160v-160H400v160Zm0 220h160v-160H400v160ZM180-400h160v-160H180v160Zm440 0h160v-160H620v160ZM180-180h160v-160H180v160Zm440 0h160v-160H620v160Z\"/>\n",
              "  </svg>\n",
              "    </button>\n",
              "\n",
              "  <style>\n",
              "    .colab-df-container {\n",
              "      display:flex;\n",
              "      gap: 12px;\n",
              "    }\n",
              "\n",
              "    .colab-df-convert {\n",
              "      background-color: #E8F0FE;\n",
              "      border: none;\n",
              "      border-radius: 50%;\n",
              "      cursor: pointer;\n",
              "      display: none;\n",
              "      fill: #1967D2;\n",
              "      height: 32px;\n",
              "      padding: 0 0 0 0;\n",
              "      width: 32px;\n",
              "    }\n",
              "\n",
              "    .colab-df-convert:hover {\n",
              "      background-color: #E2EBFA;\n",
              "      box-shadow: 0px 1px 2px rgba(60, 64, 67, 0.3), 0px 1px 3px 1px rgba(60, 64, 67, 0.15);\n",
              "      fill: #174EA6;\n",
              "    }\n",
              "\n",
              "    .colab-df-buttons div {\n",
              "      margin-bottom: 4px;\n",
              "    }\n",
              "\n",
              "    [theme=dark] .colab-df-convert {\n",
              "      background-color: #3B4455;\n",
              "      fill: #D2E3FC;\n",
              "    }\n",
              "\n",
              "    [theme=dark] .colab-df-convert:hover {\n",
              "      background-color: #434B5C;\n",
              "      box-shadow: 0px 1px 3px 1px rgba(0, 0, 0, 0.15);\n",
              "      filter: drop-shadow(0px 1px 2px rgba(0, 0, 0, 0.3));\n",
              "      fill: #FFFFFF;\n",
              "    }\n",
              "  </style>\n",
              "\n",
              "    <script>\n",
              "      const buttonEl =\n",
              "        document.querySelector('#df-73892444-ad5d-4e1f-b5d2-7bca66e8e980 button.colab-df-convert');\n",
              "      buttonEl.style.display =\n",
              "        google.colab.kernel.accessAllowed ? 'block' : 'none';\n",
              "\n",
              "      async function convertToInteractive(key) {\n",
              "        const element = document.querySelector('#df-73892444-ad5d-4e1f-b5d2-7bca66e8e980');\n",
              "        const dataTable =\n",
              "          await google.colab.kernel.invokeFunction('convertToInteractive',\n",
              "                                                    [key], {});\n",
              "        if (!dataTable) return;\n",
              "\n",
              "        const docLinkHtml = 'Like what you see? Visit the ' +\n",
              "          '<a target=\"_blank\" href=https://colab.research.google.com/notebooks/data_table.ipynb>data table notebook</a>'\n",
              "          + ' to learn more about interactive tables.';\n",
              "        element.innerHTML = '';\n",
              "        dataTable['output_type'] = 'display_data';\n",
              "        await google.colab.output.renderOutput(dataTable, element);\n",
              "        const docLink = document.createElement('div');\n",
              "        docLink.innerHTML = docLinkHtml;\n",
              "        element.appendChild(docLink);\n",
              "      }\n",
              "    </script>\n",
              "  </div>\n",
              "\n",
              "\n",
              "<div id=\"df-98f2b093-93af-4131-8eae-6abb78fefed3\">\n",
              "  <button class=\"colab-df-quickchart\" onclick=\"quickchart('df-98f2b093-93af-4131-8eae-6abb78fefed3')\"\n",
              "            title=\"Suggest charts\"\n",
              "            style=\"display:none;\">\n",
              "\n",
              "<svg xmlns=\"http://www.w3.org/2000/svg\" height=\"24px\"viewBox=\"0 0 24 24\"\n",
              "     width=\"24px\">\n",
              "    <g>\n",
              "        <path d=\"M19 3H5c-1.1 0-2 .9-2 2v14c0 1.1.9 2 2 2h14c1.1 0 2-.9 2-2V5c0-1.1-.9-2-2-2zM9 17H7v-7h2v7zm4 0h-2V7h2v10zm4 0h-2v-4h2v4z\"/>\n",
              "    </g>\n",
              "</svg>\n",
              "  </button>\n",
              "\n",
              "<style>\n",
              "  .colab-df-quickchart {\n",
              "      --bg-color: #E8F0FE;\n",
              "      --fill-color: #1967D2;\n",
              "      --hover-bg-color: #E2EBFA;\n",
              "      --hover-fill-color: #174EA6;\n",
              "      --disabled-fill-color: #AAA;\n",
              "      --disabled-bg-color: #DDD;\n",
              "  }\n",
              "\n",
              "  [theme=dark] .colab-df-quickchart {\n",
              "      --bg-color: #3B4455;\n",
              "      --fill-color: #D2E3FC;\n",
              "      --hover-bg-color: #434B5C;\n",
              "      --hover-fill-color: #FFFFFF;\n",
              "      --disabled-bg-color: #3B4455;\n",
              "      --disabled-fill-color: #666;\n",
              "  }\n",
              "\n",
              "  .colab-df-quickchart {\n",
              "    background-color: var(--bg-color);\n",
              "    border: none;\n",
              "    border-radius: 50%;\n",
              "    cursor: pointer;\n",
              "    display: none;\n",
              "    fill: var(--fill-color);\n",
              "    height: 32px;\n",
              "    padding: 0;\n",
              "    width: 32px;\n",
              "  }\n",
              "\n",
              "  .colab-df-quickchart:hover {\n",
              "    background-color: var(--hover-bg-color);\n",
              "    box-shadow: 0 1px 2px rgba(60, 64, 67, 0.3), 0 1px 3px 1px rgba(60, 64, 67, 0.15);\n",
              "    fill: var(--button-hover-fill-color);\n",
              "  }\n",
              "\n",
              "  .colab-df-quickchart-complete:disabled,\n",
              "  .colab-df-quickchart-complete:disabled:hover {\n",
              "    background-color: var(--disabled-bg-color);\n",
              "    fill: var(--disabled-fill-color);\n",
              "    box-shadow: none;\n",
              "  }\n",
              "\n",
              "  .colab-df-spinner {\n",
              "    border: 2px solid var(--fill-color);\n",
              "    border-color: transparent;\n",
              "    border-bottom-color: var(--fill-color);\n",
              "    animation:\n",
              "      spin 1s steps(1) infinite;\n",
              "  }\n",
              "\n",
              "  @keyframes spin {\n",
              "    0% {\n",
              "      border-color: transparent;\n",
              "      border-bottom-color: var(--fill-color);\n",
              "      border-left-color: var(--fill-color);\n",
              "    }\n",
              "    20% {\n",
              "      border-color: transparent;\n",
              "      border-left-color: var(--fill-color);\n",
              "      border-top-color: var(--fill-color);\n",
              "    }\n",
              "    30% {\n",
              "      border-color: transparent;\n",
              "      border-left-color: var(--fill-color);\n",
              "      border-top-color: var(--fill-color);\n",
              "      border-right-color: var(--fill-color);\n",
              "    }\n",
              "    40% {\n",
              "      border-color: transparent;\n",
              "      border-right-color: var(--fill-color);\n",
              "      border-top-color: var(--fill-color);\n",
              "    }\n",
              "    60% {\n",
              "      border-color: transparent;\n",
              "      border-right-color: var(--fill-color);\n",
              "    }\n",
              "    80% {\n",
              "      border-color: transparent;\n",
              "      border-right-color: var(--fill-color);\n",
              "      border-bottom-color: var(--fill-color);\n",
              "    }\n",
              "    90% {\n",
              "      border-color: transparent;\n",
              "      border-bottom-color: var(--fill-color);\n",
              "    }\n",
              "  }\n",
              "</style>\n",
              "\n",
              "  <script>\n",
              "    async function quickchart(key) {\n",
              "      const quickchartButtonEl =\n",
              "        document.querySelector('#' + key + ' button');\n",
              "      quickchartButtonEl.disabled = true;  // To prevent multiple clicks.\n",
              "      quickchartButtonEl.classList.add('colab-df-spinner');\n",
              "      try {\n",
              "        const charts = await google.colab.kernel.invokeFunction(\n",
              "            'suggestCharts', [key], {});\n",
              "      } catch (error) {\n",
              "        console.error('Error during call to suggestCharts:', error);\n",
              "      }\n",
              "      quickchartButtonEl.classList.remove('colab-df-spinner');\n",
              "      quickchartButtonEl.classList.add('colab-df-quickchart-complete');\n",
              "    }\n",
              "    (() => {\n",
              "      let quickchartButtonEl =\n",
              "        document.querySelector('#df-98f2b093-93af-4131-8eae-6abb78fefed3 button');\n",
              "      quickchartButtonEl.style.display =\n",
              "        google.colab.kernel.accessAllowed ? 'block' : 'none';\n",
              "    })();\n",
              "  </script>\n",
              "</div>\n",
              "\n",
              "    </div>\n",
              "  </div>\n"
            ],
            "application/vnd.google.colaboratory.intrinsic+json": {
              "type": "dataframe",
              "variable_name": "traffic_day",
              "summary": "{\n  \"name\": \"traffic_day\",\n  \"rows\": 652,\n  \"fields\": [\n    {\n      \"column\": \"date_time\",\n      \"properties\": {\n        \"dtype\": \"date\",\n        \"min\": \"2016-12-18 00:00:00\",\n        \"max\": \"2018-09-30 00:00:00\",\n        \"num_unique_values\": 652,\n        \"samples\": [\n          \"2018-09-18 00:00:00\",\n          \"2017-09-09 00:00:00\",\n          \"2017-09-04 00:00:00\"\n        ],\n        \"semantic_type\": \"\",\n        \"description\": \"\"\n      }\n    },\n    {\n      \"column\": \"traffic_volume\",\n      \"properties\": {\n        \"dtype\": \"number\",\n        \"std\": 559.4563745445477,\n        \"min\": 1139.05,\n        \"max\": 4555.170212765957,\n        \"num_unique_values\": 651,\n        \"samples\": [\n          3399.1521739130435,\n          3900.7083333333335,\n          2753.3333333333335\n        ],\n        \"semantic_type\": \"\",\n        \"description\": \"\"\n      }\n    },\n    {\n      \"column\": \"temp\",\n      \"properties\": {\n        \"dtype\": \"number\",\n        \"std\": 12.419234835784499,\n        \"min\": 249.04,\n        \"max\": 302.58750000000003,\n        \"num_unique_values\": 650,\n        \"samples\": [\n          288.8163043478261,\n          296.2970833333333,\n          265.55529411764707\n        ],\n        \"semantic_type\": \"\",\n        \"description\": \"\"\n      }\n    },\n    {\n      \"column\": \"rain_1h\",\n      \"properties\": {\n        \"dtype\": \"number\",\n        \"std\": 0.22710367406553778,\n        \"min\": 0.0,\n        \"max\": 3.31359375,\n        \"num_unique_values\": 28,\n        \"samples\": [\n          0.2413793103448276,\n          0.7896428571428571,\n          0.4354545454545454\n        ],\n        \"semantic_type\": \"\",\n        \"description\": \"\"\n      }\n    },\n    {\n      \"column\": \"snow_1h\",\n      \"properties\": {\n        \"dtype\": \"number\",\n        \"std\": 0.0,\n        \"min\": 0.0,\n        \"max\": 0.0,\n        \"num_unique_values\": 1,\n        \"samples\": [\n          0.0\n        ],\n        \"semantic_type\": \"\",\n        \"description\": \"\"\n      }\n    },\n    {\n      \"column\": \"clouds_all\",\n      \"properties\": {\n        \"dtype\": \"number\",\n        \"std\": 26.27282377523132,\n        \"min\": 1.0,\n        \"max\": 90.22727272727273,\n        \"num_unique_values\": 596,\n        \"samples\": [\n          48.73076923076923\n        ],\n        \"semantic_type\": \"\",\n        \"description\": \"\"\n      }\n    },\n    {\n      \"column\": \"leg1\",\n      \"properties\": {\n        \"dtype\": \"number\",\n        \"std\": 562.4431343796729,\n        \"min\": 1139.05,\n        \"max\": 4555.170212765957,\n        \"num_unique_values\": 651,\n        \"samples\": [\n          3887.542857142857\n        ],\n        \"semantic_type\": \"\",\n        \"description\": \"\"\n      }\n    },\n    {\n      \"column\": \"leg2\",\n      \"properties\": {\n        \"dtype\": \"number\",\n        \"std\": 562.8721656065841,\n        \"min\": 1139.05,\n        \"max\": 4555.170212765957,\n        \"num_unique_values\": 651,\n        \"samples\": [\n          2458.4583333333335\n        ],\n        \"semantic_type\": \"\",\n        \"description\": \"\"\n      }\n    },\n    {\n      \"column\": \"leg3\",\n      \"properties\": {\n        \"dtype\": \"number\",\n        \"std\": 562.618879219152,\n        \"min\": 1139.05,\n        \"max\": 4555.170212765957,\n        \"num_unique_values\": 651,\n        \"samples\": [\n          2871.72\n        ],\n        \"semantic_type\": \"\",\n        \"description\": \"\"\n      }\n    },\n    {\n      \"column\": \"leg4\",\n      \"properties\": {\n        \"dtype\": \"number\",\n        \"std\": 562.743976458891,\n        \"min\": 1139.05,\n        \"max\": 4555.170212765957,\n        \"num_unique_values\": 651,\n        \"samples\": [\n          3776.0\n        ],\n        \"semantic_type\": \"\",\n        \"description\": \"\"\n      }\n    },\n    {\n      \"column\": \"leg5\",\n      \"properties\": {\n        \"dtype\": \"number\",\n        \"std\": 562.6933180956614,\n        \"min\": 1139.05,\n        \"max\": 4555.170212765957,\n        \"num_unique_values\": 651,\n        \"samples\": [\n          3680.9166666666665\n        ],\n        \"semantic_type\": \"\",\n        \"description\": \"\"\n      }\n    },\n    {\n      \"column\": \"avg\",\n      \"properties\": {\n        \"dtype\": \"number\",\n        \"std\": 139.16833406319049,\n        \"min\": 2896.82123378556,\n        \"max\": 3533.141116924692,\n        \"num_unique_values\": 652,\n        \"samples\": [\n          3348.296805291225\n        ],\n        \"semantic_type\": \"\",\n        \"description\": \"\"\n      }\n    },\n    {\n      \"column\": \"Difference\",\n      \"properties\": {\n        \"dtype\": \"number\",\n        \"std\": 625.6818945110081,\n        \"min\": -2324.7867647058824,\n        \"max\": 1749.987037037037,\n        \"num_unique_values\": 652,\n        \"samples\": [\n          -488.3906832298135\n        ],\n        \"semantic_type\": \"\",\n        \"description\": \"\"\n      }\n    },\n    {\n      \"column\": \"dayofweek\",\n      \"properties\": {\n        \"dtype\": \"int32\",\n        \"num_unique_values\": 7,\n        \"samples\": [\n          6\n        ],\n        \"semantic_type\": \"\",\n        \"description\": \"\"\n      }\n    },\n    {\n      \"column\": \"month\",\n      \"properties\": {\n        \"dtype\": \"int32\",\n        \"num_unique_values\": 12,\n        \"samples\": [\n          10\n        ],\n        \"semantic_type\": \"\",\n        \"description\": \"\"\n      }\n    },\n    {\n      \"column\": \"dayodyear\",\n      \"properties\": {\n        \"dtype\": \"int32\",\n        \"num_unique_values\": 366,\n        \"samples\": [\n          180\n        ],\n        \"semantic_type\": \"\",\n        \"description\": \"\"\n      }\n    }\n  ]\n}"
            }
          },
          "metadata": {},
          "execution_count": 137
        }
      ]
    },
    {
      "cell_type": "markdown",
      "id": "3f9fe326",
      "metadata": {
        "id": "3f9fe326"
      },
      "source": [
        "## Train-Test Split\n",
        "\n",
        "Split the dataset into training and testing sets.\n",
        "\n",
        "**Instructions:**\n",
        "- Ensure the split maintains the time order of the data.\n",
        "- Decide on an appropriate ratio for splitting the data."
      ]
    },
    {
      "cell_type": "code",
      "source": [
        "traffic_uni = traffic['traffic_volume']"
      ],
      "metadata": {
        "id": "jm2ZbKlfC8Ul"
      },
      "id": "jm2ZbKlfC8Ul",
      "execution_count": 195,
      "outputs": []
    },
    {
      "cell_type": "code",
      "execution_count": 196,
      "id": "38bd86e0",
      "metadata": {
        "id": "38bd86e0"
      },
      "outputs": [],
      "source": [
        "train , test_val = train_test_split(traffic_uni , test_size=0.3 , random_state=42 , shuffle=False)\n",
        "test , val = train_test_split(test_val , test_size=0.5 , random_state=42 , shuffle=False)"
      ]
    },
    {
      "cell_type": "markdown",
      "id": "4bd267bb",
      "metadata": {
        "id": "4bd267bb"
      },
      "source": [
        "## Feature Scaling\n",
        "\n",
        "Apply feature scaling to the data if needed.\n",
        "\n",
        "**Instructions:**\n",
        "- Use a scaling method such as MinMaxScaler or StandardScaler.\n",
        "- Ensure scaling is applied correctly to both training and testing data."
      ]
    },
    {
      "cell_type": "code",
      "execution_count": 197,
      "id": "2a8387e5",
      "metadata": {
        "id": "2a8387e5"
      },
      "outputs": [],
      "source": [
        "scaler = MinMaxScaler()\n",
        "train_pre = scaler.fit_transform(train.values.reshape(-1,1))\n",
        "test_pre = scaler.transform(test.values.reshape(-1,1))\n",
        "val_pre = scaler.transform(val.values.reshape(-1,1))"
      ]
    },
    {
      "cell_type": "code",
      "source": [
        "window_size=30\n",
        "\n",
        "train_xy = timeseries_dataset_from_array(train_pre , targets=train_pre[window_size:] , sequence_length=window_size)\n",
        "test_xy = timeseries_dataset_from_array(test_pre , targets=test_pre[window_size:] , sequence_length=window_size)\n",
        "val_xy = timeseries_dataset_from_array(val_pre , targets=val_pre[window_size:] , sequence_length=window_size)"
      ],
      "metadata": {
        "id": "Z-bHYAUmDkLk"
      },
      "id": "Z-bHYAUmDkLk",
      "execution_count": 198,
      "outputs": []
    },
    {
      "cell_type": "markdown",
      "id": "4f0be6e9",
      "metadata": {
        "id": "4f0be6e9"
      },
      "source": [
        "## Models Selection\n",
        "\n",
        "Choose two models for time series forecasting.\n",
        "\n",
        "**Instructions:**\n",
        "- Select two models such as ARIMA, SARIMA, RNN, LSTM, or GRU.\n",
        "- Train these models and then compare their performance."
      ]
    },
    {
      "cell_type": "code",
      "execution_count": 357,
      "id": "ffceef22",
      "metadata": {
        "id": "ffceef22"
      },
      "outputs": [],
      "source": [
        "model_rnn = Sequential()\n",
        "model_rnn.add(SimpleRNN(1 , activation='tanh' , return_sequences=True , input_shape=(30, 1)))\n",
        "model_rnn.add(SimpleRNN(20 , activation='tanh' , return_sequences=True))\n",
        "model_rnn.add(SimpleRNN(60 , activation='tanh'))\n",
        "model_rnn.add(Dense(1 , activation='relu'))"
      ]
    },
    {
      "cell_type": "code",
      "source": [
        "model_rnn.summary()"
      ],
      "metadata": {
        "colab": {
          "base_uri": "https://localhost:8080/",
          "height": 257
        },
        "id": "vzqfSRoOEj_B",
        "outputId": "01b85572-5e84-4373-e89a-9c6507b80d9e"
      },
      "id": "vzqfSRoOEj_B",
      "execution_count": 358,
      "outputs": [
        {
          "output_type": "display_data",
          "data": {
            "text/plain": [
              "\u001b[1mModel: \"sequential_33\"\u001b[0m\n"
            ],
            "text/html": [
              "<pre style=\"white-space:pre;overflow-x:auto;line-height:normal;font-family:Menlo,'DejaVu Sans Mono',consolas,'Courier New',monospace\"><span style=\"font-weight: bold\">Model: \"sequential_33\"</span>\n",
              "</pre>\n"
            ]
          },
          "metadata": {}
        },
        {
          "output_type": "display_data",
          "data": {
            "text/plain": [
              "┏━━━━━━━━━━━━━━━━━━━━━━━━━━━━━━━━━━━━━━┳━━━━━━━━━━━━━━━━━━━━━━━━━━━━━┳━━━━━━━━━━━━━━━━━┓\n",
              "┃\u001b[1m \u001b[0m\u001b[1mLayer (type)                        \u001b[0m\u001b[1m \u001b[0m┃\u001b[1m \u001b[0m\u001b[1mOutput Shape               \u001b[0m\u001b[1m \u001b[0m┃\u001b[1m \u001b[0m\u001b[1m        Param #\u001b[0m\u001b[1m \u001b[0m┃\n",
              "┡━━━━━━━━━━━━━━━━━━━━━━━━━━━━━━━━━━━━━━╇━━━━━━━━━━━━━━━━━━━━━━━━━━━━━╇━━━━━━━━━━━━━━━━━┩\n",
              "│ simple_rnn_67 (\u001b[38;5;33mSimpleRNN\u001b[0m)            │ (\u001b[38;5;45mNone\u001b[0m, \u001b[38;5;34m30\u001b[0m, \u001b[38;5;34m1\u001b[0m)               │               \u001b[38;5;34m3\u001b[0m │\n",
              "├──────────────────────────────────────┼─────────────────────────────┼─────────────────┤\n",
              "│ simple_rnn_68 (\u001b[38;5;33mSimpleRNN\u001b[0m)            │ (\u001b[38;5;45mNone\u001b[0m, \u001b[38;5;34m30\u001b[0m, \u001b[38;5;34m20\u001b[0m)              │             \u001b[38;5;34m440\u001b[0m │\n",
              "├──────────────────────────────────────┼─────────────────────────────┼─────────────────┤\n",
              "│ simple_rnn_69 (\u001b[38;5;33mSimpleRNN\u001b[0m)            │ (\u001b[38;5;45mNone\u001b[0m, \u001b[38;5;34m60\u001b[0m)                  │           \u001b[38;5;34m4,860\u001b[0m │\n",
              "├──────────────────────────────────────┼─────────────────────────────┼─────────────────┤\n",
              "│ dense_30 (\u001b[38;5;33mDense\u001b[0m)                     │ (\u001b[38;5;45mNone\u001b[0m, \u001b[38;5;34m1\u001b[0m)                   │              \u001b[38;5;34m61\u001b[0m │\n",
              "└──────────────────────────────────────┴─────────────────────────────┴─────────────────┘\n"
            ],
            "text/html": [
              "<pre style=\"white-space:pre;overflow-x:auto;line-height:normal;font-family:Menlo,'DejaVu Sans Mono',consolas,'Courier New',monospace\">┏━━━━━━━━━━━━━━━━━━━━━━━━━━━━━━━━━━━━━━┳━━━━━━━━━━━━━━━━━━━━━━━━━━━━━┳━━━━━━━━━━━━━━━━━┓\n",
              "┃<span style=\"font-weight: bold\"> Layer (type)                         </span>┃<span style=\"font-weight: bold\"> Output Shape                </span>┃<span style=\"font-weight: bold\">         Param # </span>┃\n",
              "┡━━━━━━━━━━━━━━━━━━━━━━━━━━━━━━━━━━━━━━╇━━━━━━━━━━━━━━━━━━━━━━━━━━━━━╇━━━━━━━━━━━━━━━━━┩\n",
              "│ simple_rnn_67 (<span style=\"color: #0087ff; text-decoration-color: #0087ff\">SimpleRNN</span>)            │ (<span style=\"color: #00d7ff; text-decoration-color: #00d7ff\">None</span>, <span style=\"color: #00af00; text-decoration-color: #00af00\">30</span>, <span style=\"color: #00af00; text-decoration-color: #00af00\">1</span>)               │               <span style=\"color: #00af00; text-decoration-color: #00af00\">3</span> │\n",
              "├──────────────────────────────────────┼─────────────────────────────┼─────────────────┤\n",
              "│ simple_rnn_68 (<span style=\"color: #0087ff; text-decoration-color: #0087ff\">SimpleRNN</span>)            │ (<span style=\"color: #00d7ff; text-decoration-color: #00d7ff\">None</span>, <span style=\"color: #00af00; text-decoration-color: #00af00\">30</span>, <span style=\"color: #00af00; text-decoration-color: #00af00\">20</span>)              │             <span style=\"color: #00af00; text-decoration-color: #00af00\">440</span> │\n",
              "├──────────────────────────────────────┼─────────────────────────────┼─────────────────┤\n",
              "│ simple_rnn_69 (<span style=\"color: #0087ff; text-decoration-color: #0087ff\">SimpleRNN</span>)            │ (<span style=\"color: #00d7ff; text-decoration-color: #00d7ff\">None</span>, <span style=\"color: #00af00; text-decoration-color: #00af00\">60</span>)                  │           <span style=\"color: #00af00; text-decoration-color: #00af00\">4,860</span> │\n",
              "├──────────────────────────────────────┼─────────────────────────────┼─────────────────┤\n",
              "│ dense_30 (<span style=\"color: #0087ff; text-decoration-color: #0087ff\">Dense</span>)                     │ (<span style=\"color: #00d7ff; text-decoration-color: #00d7ff\">None</span>, <span style=\"color: #00af00; text-decoration-color: #00af00\">1</span>)                   │              <span style=\"color: #00af00; text-decoration-color: #00af00\">61</span> │\n",
              "└──────────────────────────────────────┴─────────────────────────────┴─────────────────┘\n",
              "</pre>\n"
            ]
          },
          "metadata": {}
        },
        {
          "output_type": "display_data",
          "data": {
            "text/plain": [
              "\u001b[1m Total params: \u001b[0m\u001b[38;5;34m5,364\u001b[0m (20.95 KB)\n"
            ],
            "text/html": [
              "<pre style=\"white-space:pre;overflow-x:auto;line-height:normal;font-family:Menlo,'DejaVu Sans Mono',consolas,'Courier New',monospace\"><span style=\"font-weight: bold\"> Total params: </span><span style=\"color: #00af00; text-decoration-color: #00af00\">5,364</span> (20.95 KB)\n",
              "</pre>\n"
            ]
          },
          "metadata": {}
        },
        {
          "output_type": "display_data",
          "data": {
            "text/plain": [
              "\u001b[1m Trainable params: \u001b[0m\u001b[38;5;34m5,364\u001b[0m (20.95 KB)\n"
            ],
            "text/html": [
              "<pre style=\"white-space:pre;overflow-x:auto;line-height:normal;font-family:Menlo,'DejaVu Sans Mono',consolas,'Courier New',monospace\"><span style=\"font-weight: bold\"> Trainable params: </span><span style=\"color: #00af00; text-decoration-color: #00af00\">5,364</span> (20.95 KB)\n",
              "</pre>\n"
            ]
          },
          "metadata": {}
        },
        {
          "output_type": "display_data",
          "data": {
            "text/plain": [
              "\u001b[1m Non-trainable params: \u001b[0m\u001b[38;5;34m0\u001b[0m (0.00 B)\n"
            ],
            "text/html": [
              "<pre style=\"white-space:pre;overflow-x:auto;line-height:normal;font-family:Menlo,'DejaVu Sans Mono',consolas,'Courier New',monospace\"><span style=\"font-weight: bold\"> Non-trainable params: </span><span style=\"color: #00af00; text-decoration-color: #00af00\">0</span> (0.00 B)\n",
              "</pre>\n"
            ]
          },
          "metadata": {}
        }
      ]
    },
    {
      "cell_type": "code",
      "source": [
        "model_rnn.compile(optimizer='adam' , loss='mse' , metrics=['mae'])"
      ],
      "metadata": {
        "id": "eKhqPQRdEZNm"
      },
      "id": "eKhqPQRdEZNm",
      "execution_count": 359,
      "outputs": []
    },
    {
      "cell_type": "markdown",
      "id": "0981f787",
      "metadata": {
        "id": "0981f787"
      },
      "source": [
        "### Model 1 Training\n",
        "\n",
        "Train your first model on the training dataset.\n",
        "\n",
        "**Instructions:**\n",
        "- Fit the first model to the training data.\n",
        "- Ensure to monitor the training process."
      ]
    },
    {
      "cell_type": "code",
      "execution_count": 360,
      "id": "8205ed7f",
      "metadata": {
        "id": "8205ed7f",
        "colab": {
          "base_uri": "https://localhost:8080/"
        },
        "outputId": "07430309-fe13-4583-bbcb-e1e41bc90e61"
      },
      "outputs": [
        {
          "output_type": "stream",
          "name": "stdout",
          "text": [
            "Epoch 1/10\n",
            "\u001b[1m109/109\u001b[0m \u001b[32m━━━━━━━━━━━━━━━━━━━━\u001b[0m\u001b[37m\u001b[0m \u001b[1m9s\u001b[0m 46ms/step - loss: 0.0206 - mae: 0.1123 - val_loss: 0.0046 - val_mae: 0.0556\n",
            "Epoch 2/10\n",
            "\u001b[1m109/109\u001b[0m \u001b[32m━━━━━━━━━━━━━━━━━━━━\u001b[0m\u001b[37m\u001b[0m \u001b[1m6s\u001b[0m 51ms/step - loss: 0.0055 - mae: 0.0578 - val_loss: 0.0023 - val_mae: 0.0345\n",
            "Epoch 3/10\n",
            "\u001b[1m109/109\u001b[0m \u001b[32m━━━━━━━━━━━━━━━━━━━━\u001b[0m\u001b[37m\u001b[0m \u001b[1m6s\u001b[0m 53ms/step - loss: 0.0023 - mae: 0.0357 - val_loss: 0.0014 - val_mae: 0.0271\n",
            "Epoch 4/10\n",
            "\u001b[1m109/109\u001b[0m \u001b[32m━━━━━━━━━━━━━━━━━━━━\u001b[0m\u001b[37m\u001b[0m \u001b[1m5s\u001b[0m 43ms/step - loss: 0.0016 - mae: 0.0289 - val_loss: 0.0012 - val_mae: 0.0248\n",
            "Epoch 5/10\n",
            "\u001b[1m109/109\u001b[0m \u001b[32m━━━━━━━━━━━━━━━━━━━━\u001b[0m\u001b[37m\u001b[0m \u001b[1m6s\u001b[0m 58ms/step - loss: 0.0014 - mae: 0.0264 - val_loss: 0.0011 - val_mae: 0.0244\n",
            "Epoch 6/10\n",
            "\u001b[1m109/109\u001b[0m \u001b[32m━━━━━━━━━━━━━━━━━━━━\u001b[0m\u001b[37m\u001b[0m \u001b[1m5s\u001b[0m 43ms/step - loss: 0.0014 - mae: 0.0258 - val_loss: 0.0011 - val_mae: 0.0246\n",
            "Epoch 7/10\n",
            "\u001b[1m109/109\u001b[0m \u001b[32m━━━━━━━━━━━━━━━━━━━━\u001b[0m\u001b[37m\u001b[0m \u001b[1m5s\u001b[0m 43ms/step - loss: 0.0014 - mae: 0.0256 - val_loss: 0.0011 - val_mae: 0.0243\n",
            "Epoch 8/10\n",
            "\u001b[1m109/109\u001b[0m \u001b[32m━━━━━━━━━━━━━━━━━━━━\u001b[0m\u001b[37m\u001b[0m \u001b[1m6s\u001b[0m 58ms/step - loss: 0.0013 - mae: 0.0253 - val_loss: 0.0010 - val_mae: 0.0237\n",
            "Epoch 9/10\n",
            "\u001b[1m109/109\u001b[0m \u001b[32m━━━━━━━━━━━━━━━━━━━━\u001b[0m\u001b[37m\u001b[0m \u001b[1m5s\u001b[0m 43ms/step - loss: 0.0013 - mae: 0.0249 - val_loss: 0.0010 - val_mae: 0.0229\n",
            "Epoch 10/10\n",
            "\u001b[1m109/109\u001b[0m \u001b[32m━━━━━━━━━━━━━━━━━━━━\u001b[0m\u001b[37m\u001b[0m \u001b[1m6s\u001b[0m 57ms/step - loss: 0.0013 - mae: 0.0246 - val_loss: 0.0010 - val_mae: 0.0227\n"
          ]
        }
      ],
      "source": [
        "history_rnn = model_rnn.fit(train_xy , validation_data=val_xy , epochs=10 , batch_size=32)"
      ]
    },
    {
      "cell_type": "markdown",
      "id": "5f5b3fe3",
      "metadata": {
        "id": "5f5b3fe3"
      },
      "source": [
        "### Make 1 Predictions\n",
        "\n",
        "Generate predictions on the test dataset.\n",
        "\n",
        "### Instructions:\n",
        "- Use the trained model to make predictions on the test data.\n",
        "- Store the predictions for further analysis."
      ]
    },
    {
      "cell_type": "code",
      "execution_count": 361,
      "id": "d1d5cca3",
      "metadata": {
        "id": "d1d5cca3",
        "colab": {
          "base_uri": "https://localhost:8080/"
        },
        "outputId": "16408c90-7014-48a1-8c80-8e1fc280ca36"
      },
      "outputs": [
        {
          "output_type": "stream",
          "name": "stdout",
          "text": [
            "\u001b[1m24/24\u001b[0m \u001b[32m━━━━━━━━━━━━━━━━━━━━\u001b[0m\u001b[37m\u001b[0m \u001b[1m1s\u001b[0m 37ms/step\n"
          ]
        }
      ],
      "source": [
        "pred_rnn = model_rnn.predict(test_xy)"
      ]
    },
    {
      "cell_type": "code",
      "source": [
        "true_xy = np.concatenate([y for x,y in test_xy] , axis=0)"
      ],
      "metadata": {
        "id": "dsIdMf9aE-uQ"
      },
      "id": "dsIdMf9aE-uQ",
      "execution_count": 362,
      "outputs": []
    },
    {
      "cell_type": "code",
      "source": [
        "pd.DataFrame(history_rnn.history)[['loss' , 'val_loss']].plot()"
      ],
      "metadata": {
        "colab": {
          "base_uri": "https://localhost:8080/",
          "height": 447
        },
        "id": "vK-DmtIFFKgJ",
        "outputId": "c68ec893-f7c8-4ae6-92c7-28de8d7e60b6"
      },
      "id": "vK-DmtIFFKgJ",
      "execution_count": 363,
      "outputs": [
        {
          "output_type": "execute_result",
          "data": {
            "text/plain": [
              "<Axes: >"
            ]
          },
          "metadata": {},
          "execution_count": 363
        },
        {
          "output_type": "display_data",
          "data": {
            "text/plain": [
              "<Figure size 640x480 with 1 Axes>"
            ],
            "image/png": "[encoded data removed]"
          },
          "metadata": {}
        }
      ]
    },
    {
      "cell_type": "markdown",
      "id": "6489cd08",
      "metadata": {
        "id": "6489cd08"
      },
      "source": [
        "### Model 1 Evaluation\n",
        "\n",
        "Evaluate the performance of your first model on the test dataset.\n",
        "\n",
        "**Instructions:**\n",
        "- Calculate evaluation metrics such as MAE, MSE, RMSE, or MAPE.\n",
        "- Plot the predicted vs actual values for the test set.\n",
        "- Plot the loss and the validation loss."
      ]
    },
    {
      "cell_type": "code",
      "source": [
        "true_xy.shape"
      ],
      "metadata": {
        "colab": {
          "base_uri": "https://localhost:8080/"
        },
        "id": "-24NYsakIkVv",
        "outputId": "7942e328-7758-49df-92ad-189b90301690"
      },
      "id": "-24NYsakIkVv",
      "execution_count": 212,
      "outputs": [
        {
          "output_type": "execute_result",
          "data": {
            "text/plain": [
              "(2964, 1)"
            ]
          },
          "metadata": {},
          "execution_count": 212
        }
      ]
    },
    {
      "cell_type": "code",
      "source": [
        "model_rnn.evaluate(test_xy)\n",
        "model_rnn.evaluate(train_xy)\n",
        "model_rnn.evaluate(val_xy)"
      ],
      "metadata": {
        "colab": {
          "base_uri": "https://localhost:8080/"
        },
        "id": "PDcNiCYdGTEG",
        "outputId": "955537ec-1971-4f5e-ebb3-5c2af94eb582"
      },
      "id": "PDcNiCYdGTEG",
      "execution_count": 213,
      "outputs": [
        {
          "output_type": "stream",
          "name": "stdout",
          "text": [
            "\u001b[1m24/24\u001b[0m \u001b[32m━━━━━━━━━━━━━━━━━━━━\u001b[0m\u001b[37m\u001b[0m \u001b[1m1s\u001b[0m 24ms/step - loss: 0.0015 - mae: 0.0283\n",
            "\u001b[1m109/109\u001b[0m \u001b[32m━━━━━━━━━━━━━━━━━━━━\u001b[0m\u001b[37m\u001b[0m \u001b[1m3s\u001b[0m 23ms/step - loss: 0.0014 - mae: 0.0283\n",
            "\u001b[1m24/24\u001b[0m \u001b[32m━━━━━━━━━━━━━━━━━━━━\u001b[0m\u001b[37m\u001b[0m \u001b[1m1s\u001b[0m 24ms/step - loss: 0.0012 - mae: 0.0268\n"
          ]
        },
        {
          "output_type": "execute_result",
          "data": {
            "text/plain": [
              "[0.001220465055666864, 0.02709479257464409]"
            ]
          },
          "metadata": {},
          "execution_count": 213
        }
      ]
    },
    {
      "cell_type": "code",
      "execution_count": 215,
      "id": "aad46e07",
      "metadata": {
        "id": "aad46e07",
        "colab": {
          "base_uri": "https://localhost:8080/"
        },
        "outputId": "4d532418-a244-45d5-9663-0f4a2e109a38"
      },
      "outputs": [
        {
          "output_type": "stream",
          "name": "stdout",
          "text": [
            "0.028359851093089673\n",
            "70009875198.51349\n",
            "0.0015513090920128468\n"
          ]
        }
      ],
      "source": [
        "print(mean_absolute_error(pred_rnn , true_xy))\n",
        "print(mean_absolute_percentage_error(pred_rnn , true_xy))\n",
        "print(mean_squared_error(pred_rnn ,true_xy))"
      ]
    },
    {
      "cell_type": "markdown",
      "id": "82dd396a",
      "metadata": {
        "id": "82dd396a"
      },
      "source": [
        "### Model 2 Training\n",
        "\n",
        "Train your second model on the training dataset.\n",
        "\n",
        "**Instructions:**\n",
        "- Fit the second model to the training data.\n",
        "- Ensure to monitor the training process."
      ]
    },
    {
      "cell_type": "code",
      "source": [
        "model_lstm = Sequential()\n",
        "model_lstm.add(LSTM(1 , activation='tanh' , return_sequences=True , input_shape=(30, 1)))\n",
        "model_lstm.add(LSTM(20 , activation='tanh'))\n",
        "model_lstm.add(Dense(1 , activation='relu'))"
      ],
      "metadata": {
        "id": "Vl1t2tijFqeg"
      },
      "id": "Vl1t2tijFqeg",
      "execution_count": 325,
      "outputs": []
    },
    {
      "cell_type": "code",
      "execution_count": 326,
      "id": "b8605884",
      "metadata": {
        "id": "b8605884",
        "colab": {
          "base_uri": "https://localhost:8080/",
          "height": 225
        },
        "outputId": "b3da14cf-3909-4e3c-df49-90f405e2ff5e"
      },
      "outputs": [
        {
          "output_type": "display_data",
          "data": {
            "text/plain": [
              "\u001b[1mModel: \"sequential_26\"\u001b[0m\n"
            ],
            "text/html": [
              "<pre style=\"white-space:pre;overflow-x:auto;line-height:normal;font-family:Menlo,'DejaVu Sans Mono',consolas,'Courier New',monospace\"><span style=\"font-weight: bold\">Model: \"sequential_26\"</span>\n",
              "</pre>\n"
            ]
          },
          "metadata": {}
        },
        {
          "output_type": "display_data",
          "data": {
            "text/plain": [
              "┏━━━━━━━━━━━━━━━━━━━━━━━━━━━━━━━━━━━━━━┳━━━━━━━━━━━━━━━━━━━━━━━━━━━━━┳━━━━━━━━━━━━━━━━━┓\n",
              "┃\u001b[1m \u001b[0m\u001b[1mLayer (type)                        \u001b[0m\u001b[1m \u001b[0m┃\u001b[1m \u001b[0m\u001b[1mOutput Shape               \u001b[0m\u001b[1m \u001b[0m┃\u001b[1m \u001b[0m\u001b[1m        Param #\u001b[0m\u001b[1m \u001b[0m┃\n",
              "┡━━━━━━━━━━━━━━━━━━━━━━━━━━━━━━━━━━━━━━╇━━━━━━━━━━━━━━━━━━━━━━━━━━━━━╇━━━━━━━━━━━━━━━━━┩\n",
              "│ lstm_11 (\u001b[38;5;33mLSTM\u001b[0m)                       │ (\u001b[38;5;45mNone\u001b[0m, \u001b[38;5;34m30\u001b[0m, \u001b[38;5;34m1\u001b[0m)               │              \u001b[38;5;34m12\u001b[0m │\n",
              "├──────────────────────────────────────┼─────────────────────────────┼─────────────────┤\n",
              "│ lstm_12 (\u001b[38;5;33mLSTM\u001b[0m)                       │ (\u001b[38;5;45mNone\u001b[0m, \u001b[38;5;34m20\u001b[0m)                  │           \u001b[38;5;34m1,760\u001b[0m │\n",
              "├──────────────────────────────────────┼─────────────────────────────┼─────────────────┤\n",
              "│ dense_23 (\u001b[38;5;33mDense\u001b[0m)                     │ (\u001b[38;5;45mNone\u001b[0m, \u001b[38;5;34m1\u001b[0m)                   │              \u001b[38;5;34m21\u001b[0m │\n",
              "└──────────────────────────────────────┴─────────────────────────────┴─────────────────┘\n"
            ],
            "text/html": [
              "<pre style=\"white-space:pre;overflow-x:auto;line-height:normal;font-family:Menlo,'DejaVu Sans Mono',consolas,'Courier New',monospace\">┏━━━━━━━━━━━━━━━━━━━━━━━━━━━━━━━━━━━━━━┳━━━━━━━━━━━━━━━━━━━━━━━━━━━━━┳━━━━━━━━━━━━━━━━━┓\n",
              "┃<span style=\"font-weight: bold\"> Layer (type)                         </span>┃<span style=\"font-weight: bold\"> Output Shape                </span>┃<span style=\"font-weight: bold\">         Param # </span>┃\n",
              "┡━━━━━━━━━━━━━━━━━━━━━━━━━━━━━━━━━━━━━━╇━━━━━━━━━━━━━━━━━━━━━━━━━━━━━╇━━━━━━━━━━━━━━━━━┩\n",
              "│ lstm_11 (<span style=\"color: #0087ff; text-decoration-color: #0087ff\">LSTM</span>)                       │ (<span style=\"color: #00d7ff; text-decoration-color: #00d7ff\">None</span>, <span style=\"color: #00af00; text-decoration-color: #00af00\">30</span>, <span style=\"color: #00af00; text-decoration-color: #00af00\">1</span>)               │              <span style=\"color: #00af00; text-decoration-color: #00af00\">12</span> │\n",
              "├──────────────────────────────────────┼─────────────────────────────┼─────────────────┤\n",
              "│ lstm_12 (<span style=\"color: #0087ff; text-decoration-color: #0087ff\">LSTM</span>)                       │ (<span style=\"color: #00d7ff; text-decoration-color: #00d7ff\">None</span>, <span style=\"color: #00af00; text-decoration-color: #00af00\">20</span>)                  │           <span style=\"color: #00af00; text-decoration-color: #00af00\">1,760</span> │\n",
              "├──────────────────────────────────────┼─────────────────────────────┼─────────────────┤\n",
              "│ dense_23 (<span style=\"color: #0087ff; text-decoration-color: #0087ff\">Dense</span>)                     │ (<span style=\"color: #00d7ff; text-decoration-color: #00d7ff\">None</span>, <span style=\"color: #00af00; text-decoration-color: #00af00\">1</span>)                   │              <span style=\"color: #00af00; text-decoration-color: #00af00\">21</span> │\n",
              "└──────────────────────────────────────┴─────────────────────────────┴─────────────────┘\n",
              "</pre>\n"
            ]
          },
          "metadata": {}
        },
        {
          "output_type": "display_data",
          "data": {
            "text/plain": [
              "\u001b[1m Total params: \u001b[0m\u001b[38;5;34m1,793\u001b[0m (7.00 KB)\n"
            ],
            "text/html": [
              "<pre style=\"white-space:pre;overflow-x:auto;line-height:normal;font-family:Menlo,'DejaVu Sans Mono',consolas,'Courier New',monospace\"><span style=\"font-weight: bold\"> Total params: </span><span style=\"color: #00af00; text-decoration-color: #00af00\">1,793</span> (7.00 KB)\n",
              "</pre>\n"
            ]
          },
          "metadata": {}
        },
        {
          "output_type": "display_data",
          "data": {
            "text/plain": [
              "\u001b[1m Trainable params: \u001b[0m\u001b[38;5;34m1,793\u001b[0m (7.00 KB)\n"
            ],
            "text/html": [
              "<pre style=\"white-space:pre;overflow-x:auto;line-height:normal;font-family:Menlo,'DejaVu Sans Mono',consolas,'Courier New',monospace\"><span style=\"font-weight: bold\"> Trainable params: </span><span style=\"color: #00af00; text-decoration-color: #00af00\">1,793</span> (7.00 KB)\n",
              "</pre>\n"
            ]
          },
          "metadata": {}
        },
        {
          "output_type": "display_data",
          "data": {
            "text/plain": [
              "\u001b[1m Non-trainable params: \u001b[0m\u001b[38;5;34m0\u001b[0m (0.00 B)\n"
            ],
            "text/html": [
              "<pre style=\"white-space:pre;overflow-x:auto;line-height:normal;font-family:Menlo,'DejaVu Sans Mono',consolas,'Courier New',monospace\"><span style=\"font-weight: bold\"> Non-trainable params: </span><span style=\"color: #00af00; text-decoration-color: #00af00\">0</span> (0.00 B)\n",
              "</pre>\n"
            ]
          },
          "metadata": {}
        }
      ],
      "source": [
        "model_lstm.summary()"
      ]
    },
    {
      "cell_type": "code",
      "source": [
        "model_lstm.compile(optimizer='adam' , loss='mse' , metrics=['mae'])"
      ],
      "metadata": {
        "id": "_9eOzZ7kF41k"
      },
      "id": "_9eOzZ7kF41k",
      "execution_count": 327,
      "outputs": []
    },
    {
      "cell_type": "code",
      "source": [
        "history_lstm = model_lstm.fit(train_xy , validation_data=val_xy , epochs=5 , batch_size=32)"
      ],
      "metadata": {
        "colab": {
          "base_uri": "https://localhost:8080/"
        },
        "id": "E7WIiwZOGA7h",
        "outputId": "628f3b5f-2b08-4819-ba15-3bb1b8d91791"
      },
      "id": "E7WIiwZOGA7h",
      "execution_count": 328,
      "outputs": [
        {
          "output_type": "stream",
          "name": "stdout",
          "text": [
            "Epoch 1/5\n",
            "\u001b[1m109/109\u001b[0m \u001b[32m━━━━━━━━━━━━━━━━━━━━\u001b[0m\u001b[37m\u001b[0m \u001b[1m10s\u001b[0m 64ms/step - loss: 0.0148 - mae: 0.1031 - val_loss: 0.0083 - val_mae: 0.0756\n",
            "Epoch 2/5\n",
            "\u001b[1m109/109\u001b[0m \u001b[32m━━━━━━━━━━━━━━━━━━━━\u001b[0m\u001b[37m\u001b[0m \u001b[1m5s\u001b[0m 43ms/step - loss: 0.0082 - mae: 0.0736 - val_loss: 0.0064 - val_mae: 0.0639\n",
            "Epoch 3/5\n",
            "\u001b[1m109/109\u001b[0m \u001b[32m━━━━━━━━━━━━━━━━━━━━\u001b[0m\u001b[37m\u001b[0m \u001b[1m6s\u001b[0m 52ms/step - loss: 0.0066 - mae: 0.0643 - val_loss: 0.0054 - val_mae: 0.0587\n",
            "Epoch 4/5\n",
            "\u001b[1m109/109\u001b[0m \u001b[32m━━━━━━━━━━━━━━━━━━━━\u001b[0m\u001b[37m\u001b[0m \u001b[1m6s\u001b[0m 54ms/step - loss: 0.0055 - mae: 0.0582 - val_loss: 0.0047 - val_mae: 0.0540\n",
            "Epoch 5/5\n",
            "\u001b[1m109/109\u001b[0m \u001b[32m━━━━━━━━━━━━━━━━━━━━\u001b[0m\u001b[37m\u001b[0m \u001b[1m6s\u001b[0m 54ms/step - loss: 0.0047 - mae: 0.0530 - val_loss: 0.0038 - val_mae: 0.0462\n"
          ]
        }
      ]
    },
    {
      "cell_type": "markdown",
      "id": "3e811d93",
      "metadata": {
        "id": "3e811d93"
      },
      "source": [
        "### Make 2 Predictions\n",
        "\n",
        "Generate predictions on the test dataset.\n",
        "\n",
        "### Instructions:\n",
        "- Use the trained model to make predictions on the test data.\n",
        "- Store the predictions for further analysis."
      ]
    },
    {
      "cell_type": "code",
      "execution_count": 287,
      "id": "d1492fe0",
      "metadata": {
        "id": "d1492fe0",
        "colab": {
          "base_uri": "https://localhost:8080/"
        },
        "outputId": "e8aee9ec-a7da-4364-b91d-d51320085c1b"
      },
      "outputs": [
        {
          "output_type": "stream",
          "name": "stdout",
          "text": [
            "\u001b[1m24/24\u001b[0m \u001b[32m━━━━━━━━━━━━━━━━━━━━\u001b[0m\u001b[37m\u001b[0m \u001b[1m1s\u001b[0m 32ms/step\n"
          ]
        }
      ],
      "source": [
        "pred_lstm = model_lstm.predict(test_xy)"
      ]
    },
    {
      "cell_type": "markdown",
      "id": "9d7f7af2",
      "metadata": {
        "id": "9d7f7af2"
      },
      "source": [
        "### Model 2 Evaluation\n",
        "\n",
        "Evaluate the performance of your second model on the test dataset.\n",
        "\n",
        "**Instructions:**\n",
        "- Calculate evaluation metrics such as MAE, MSE, RMSE, or MAPE.\n",
        "- Plot the predicted vs actual values for the test set.\n",
        "- Plot the loss and the validation loss."
      ]
    },
    {
      "cell_type": "code",
      "execution_count": 288,
      "id": "7c3b85de",
      "metadata": {
        "id": "7c3b85de",
        "colab": {
          "base_uri": "https://localhost:8080/"
        },
        "outputId": "011b41d9-f878-4bd2-dd2e-145bd9b4586d"
      },
      "outputs": [
        {
          "output_type": "stream",
          "name": "stdout",
          "text": [
            "\u001b[1m24/24\u001b[0m \u001b[32m━━━━━━━━━━━━━━━━━━━━\u001b[0m\u001b[37m\u001b[0m \u001b[1m1s\u001b[0m 36ms/step - loss: 0.0037 - mae: 0.0452\n",
            "\u001b[1m109/109\u001b[0m \u001b[32m━━━━━━━━━━━━━━━━━━━━\u001b[0m\u001b[37m\u001b[0m \u001b[1m3s\u001b[0m 26ms/step - loss: 0.0030 - mae: 0.0409\n",
            "\u001b[1m24/24\u001b[0m \u001b[32m━━━━━━━━━━━━━━━━━━━━\u001b[0m\u001b[37m\u001b[0m \u001b[1m1s\u001b[0m 22ms/step - loss: 0.0028 - mae: 0.0384\n"
          ]
        },
        {
          "output_type": "execute_result",
          "data": {
            "text/plain": [
              "[0.0028416700661182404, 0.03925754129886627]"
            ]
          },
          "metadata": {},
          "execution_count": 288
        }
      ],
      "source": [
        "model_lstm.evaluate(test_xy)\n",
        "model_lstm.evaluate(train_xy)\n",
        "model_lstm.evaluate(val_xy)"
      ]
    },
    {
      "cell_type": "code",
      "source": [
        "print(mean_absolute_error(pred_lstm , true_xy))\n",
        "print(mean_absolute_percentage_error(pred_lstm , true_xy))\n",
        "print(mean_squared_error(pred_lstm , true_xy))"
      ],
      "metadata": {
        "colab": {
          "base_uri": "https://localhost:8080/"
        },
        "id": "dhivWvHQGgkO",
        "outputId": "e46d215b-47a9-4f71-c2d6-9290a5aa3859"
      },
      "id": "dhivWvHQGgkO",
      "execution_count": 289,
      "outputs": [
        {
          "output_type": "stream",
          "name": "stdout",
          "text": [
            "0.044044808833212545\n",
            "0.3443076323289438\n",
            "0.003648419280207445\n"
          ]
        }
      ]
    },
    {
      "cell_type": "code",
      "source": [
        "pd.DataFrame(history_lstm.history)[['loss' , 'val_loss']].plot()"
      ],
      "metadata": {
        "colab": {
          "base_uri": "https://localhost:8080/",
          "height": 447
        },
        "id": "1p_9B-IrGnxY",
        "outputId": "102c42d3-94c7-471f-a316-46960e5122b8"
      },
      "id": "1p_9B-IrGnxY",
      "execution_count": 290,
      "outputs": [
        {
          "output_type": "execute_result",
          "data": {
            "text/plain": [
              "<Axes: >"
            ]
          },
          "metadata": {},
          "execution_count": 290
        },
        {
          "output_type": "display_data",
          "data": {
            "text/plain": [
              "<Figure size 640x480 with 1 Axes>"
            ],
            "image/png": "[encoded data removed]"
          },
          "metadata": {}
        }
      ]
    },
    {
      "cell_type": "code",
      "source": [
        "model_gru = Sequential()\n",
        "model_gru.add(GRU(1 , activation='tanh' , return_sequences=True , input_shape=(30, 1)))\n",
        "model_gru.add(GRU(20 , activation='tanh' , return_sequences=True))\n",
        "model_gru.add(GRU(40 , activation='tanh' , return_sequences=True))\n",
        "model_gru.add(GRU(20 , activation='tanh'))\n",
        "model_gru.add(Dense(1 , activation='relu'))"
      ],
      "metadata": {
        "colab": {
          "base_uri": "https://localhost:8080/"
        },
        "id": "0UGMvOlJQuIU",
        "outputId": "60c3d182-d4ec-44a8-d011-a1f591b6496d"
      },
      "id": "0UGMvOlJQuIU",
      "execution_count": 307,
      "outputs": [
        {
          "output_type": "stream",
          "name": "stderr",
          "text": [
            "/usr/local/lib/python3.10/dist-packages/keras/src/layers/rnn/rnn.py:204: UserWarning: Do not pass an `input_shape`/`input_dim` argument to a layer. When using Sequential models, prefer using an `Input(shape)` object as the first layer in the model instead.\n",
            "  super().__init__(**kwargs)\n"
          ]
        }
      ]
    },
    {
      "cell_type": "code",
      "source": [
        "model_gru.summary()"
      ],
      "metadata": {
        "colab": {
          "base_uri": "https://localhost:8080/",
          "height": 289
        },
        "id": "OO1heePWRCIk",
        "outputId": "b5ba7279-7bdf-46d6-b97d-8628e2e7da0a"
      },
      "id": "OO1heePWRCIk",
      "execution_count": 308,
      "outputs": [
        {
          "output_type": "display_data",
          "data": {
            "text/plain": [
              "\u001b[1mModel: \"sequential_23\"\u001b[0m\n"
            ],
            "text/html": [
              "<pre style=\"white-space:pre;overflow-x:auto;line-height:normal;font-family:Menlo,'DejaVu Sans Mono',consolas,'Courier New',monospace\"><span style=\"font-weight: bold\">Model: \"sequential_23\"</span>\n",
              "</pre>\n"
            ]
          },
          "metadata": {}
        },
        {
          "output_type": "display_data",
          "data": {
            "text/plain": [
              "┏━━━━━━━━━━━━━━━━━━━━━━━━━━━━━━━━━━━━━━┳━━━━━━━━━━━━━━━━━━━━━━━━━━━━━┳━━━━━━━━━━━━━━━━━┓\n",
              "┃\u001b[1m \u001b[0m\u001b[1mLayer (type)                        \u001b[0m\u001b[1m \u001b[0m┃\u001b[1m \u001b[0m\u001b[1mOutput Shape               \u001b[0m\u001b[1m \u001b[0m┃\u001b[1m \u001b[0m\u001b[1m        Param #\u001b[0m\u001b[1m \u001b[0m┃\n",
              "┡━━━━━━━━━━━━━━━━━━━━━━━━━━━━━━━━━━━━━━╇━━━━━━━━━━━━━━━━━━━━━━━━━━━━━╇━━━━━━━━━━━━━━━━━┩\n",
              "│ gru_8 (\u001b[38;5;33mGRU\u001b[0m)                          │ (\u001b[38;5;45mNone\u001b[0m, \u001b[38;5;34m30\u001b[0m, \u001b[38;5;34m1\u001b[0m)               │              \u001b[38;5;34m12\u001b[0m │\n",
              "├──────────────────────────────────────┼─────────────────────────────┼─────────────────┤\n",
              "│ gru_9 (\u001b[38;5;33mGRU\u001b[0m)                          │ (\u001b[38;5;45mNone\u001b[0m, \u001b[38;5;34m30\u001b[0m, \u001b[38;5;34m20\u001b[0m)              │           \u001b[38;5;34m1,380\u001b[0m │\n",
              "├──────────────────────────────────────┼─────────────────────────────┼─────────────────┤\n",
              "│ gru_10 (\u001b[38;5;33mGRU\u001b[0m)                         │ (\u001b[38;5;45mNone\u001b[0m, \u001b[38;5;34m30\u001b[0m, \u001b[38;5;34m40\u001b[0m)              │           \u001b[38;5;34m7,440\u001b[0m │\n",
              "├──────────────────────────────────────┼─────────────────────────────┼─────────────────┤\n",
              "│ gru_11 (\u001b[38;5;33mGRU\u001b[0m)                         │ (\u001b[38;5;45mNone\u001b[0m, \u001b[38;5;34m20\u001b[0m)                  │           \u001b[38;5;34m3,720\u001b[0m │\n",
              "├──────────────────────────────────────┼─────────────────────────────┼─────────────────┤\n",
              "│ dense_20 (\u001b[38;5;33mDense\u001b[0m)                     │ (\u001b[38;5;45mNone\u001b[0m, \u001b[38;5;34m1\u001b[0m)                   │              \u001b[38;5;34m21\u001b[0m │\n",
              "└──────────────────────────────────────┴─────────────────────────────┴─────────────────┘\n"
            ],
            "text/html": [
              "<pre style=\"white-space:pre;overflow-x:auto;line-height:normal;font-family:Menlo,'DejaVu Sans Mono',consolas,'Courier New',monospace\">┏━━━━━━━━━━━━━━━━━━━━━━━━━━━━━━━━━━━━━━┳━━━━━━━━━━━━━━━━━━━━━━━━━━━━━┳━━━━━━━━━━━━━━━━━┓\n",
              "┃<span style=\"font-weight: bold\"> Layer (type)                         </span>┃<span style=\"font-weight: bold\"> Output Shape                </span>┃<span style=\"font-weight: bold\">         Param # </span>┃\n",
              "┡━━━━━━━━━━━━━━━━━━━━━━━━━━━━━━━━━━━━━━╇━━━━━━━━━━━━━━━━━━━━━━━━━━━━━╇━━━━━━━━━━━━━━━━━┩\n",
              "│ gru_8 (<span style=\"color: #0087ff; text-decoration-color: #0087ff\">GRU</span>)                          │ (<span style=\"color: #00d7ff; text-decoration-color: #00d7ff\">None</span>, <span style=\"color: #00af00; text-decoration-color: #00af00\">30</span>, <span style=\"color: #00af00; text-decoration-color: #00af00\">1</span>)               │              <span style=\"color: #00af00; text-decoration-color: #00af00\">12</span> │\n",
              "├──────────────────────────────────────┼─────────────────────────────┼─────────────────┤\n",
              "│ gru_9 (<span style=\"color: #0087ff; text-decoration-color: #0087ff\">GRU</span>)                          │ (<span style=\"color: #00d7ff; text-decoration-color: #00d7ff\">None</span>, <span style=\"color: #00af00; text-decoration-color: #00af00\">30</span>, <span style=\"color: #00af00; text-decoration-color: #00af00\">20</span>)              │           <span style=\"color: #00af00; text-decoration-color: #00af00\">1,380</span> │\n",
              "├──────────────────────────────────────┼─────────────────────────────┼─────────────────┤\n",
              "│ gru_10 (<span style=\"color: #0087ff; text-decoration-color: #0087ff\">GRU</span>)                         │ (<span style=\"color: #00d7ff; text-decoration-color: #00d7ff\">None</span>, <span style=\"color: #00af00; text-decoration-color: #00af00\">30</span>, <span style=\"color: #00af00; text-decoration-color: #00af00\">40</span>)              │           <span style=\"color: #00af00; text-decoration-color: #00af00\">7,440</span> │\n",
              "├──────────────────────────────────────┼─────────────────────────────┼─────────────────┤\n",
              "│ gru_11 (<span style=\"color: #0087ff; text-decoration-color: #0087ff\">GRU</span>)                         │ (<span style=\"color: #00d7ff; text-decoration-color: #00d7ff\">None</span>, <span style=\"color: #00af00; text-decoration-color: #00af00\">20</span>)                  │           <span style=\"color: #00af00; text-decoration-color: #00af00\">3,720</span> │\n",
              "├──────────────────────────────────────┼─────────────────────────────┼─────────────────┤\n",
              "│ dense_20 (<span style=\"color: #0087ff; text-decoration-color: #0087ff\">Dense</span>)                     │ (<span style=\"color: #00d7ff; text-decoration-color: #00d7ff\">None</span>, <span style=\"color: #00af00; text-decoration-color: #00af00\">1</span>)                   │              <span style=\"color: #00af00; text-decoration-color: #00af00\">21</span> │\n",
              "└──────────────────────────────────────┴─────────────────────────────┴─────────────────┘\n",
              "</pre>\n"
            ]
          },
          "metadata": {}
        },
        {
          "output_type": "display_data",
          "data": {
            "text/plain": [
              "\u001b[1m Total params: \u001b[0m\u001b[38;5;34m12,573\u001b[0m (49.11 KB)\n"
            ],
            "text/html": [
              "<pre style=\"white-space:pre;overflow-x:auto;line-height:normal;font-family:Menlo,'DejaVu Sans Mono',consolas,'Courier New',monospace\"><span style=\"font-weight: bold\"> Total params: </span><span style=\"color: #00af00; text-decoration-color: #00af00\">12,573</span> (49.11 KB)\n",
              "</pre>\n"
            ]
          },
          "metadata": {}
        },
        {
          "output_type": "display_data",
          "data": {
            "text/plain": [
              "\u001b[1m Trainable params: \u001b[0m\u001b[38;5;34m12,573\u001b[0m (49.11 KB)\n"
            ],
            "text/html": [
              "<pre style=\"white-space:pre;overflow-x:auto;line-height:normal;font-family:Menlo,'DejaVu Sans Mono',consolas,'Courier New',monospace\"><span style=\"font-weight: bold\"> Trainable params: </span><span style=\"color: #00af00; text-decoration-color: #00af00\">12,573</span> (49.11 KB)\n",
              "</pre>\n"
            ]
          },
          "metadata": {}
        },
        {
          "output_type": "display_data",
          "data": {
            "text/plain": [
              "\u001b[1m Non-trainable params: \u001b[0m\u001b[38;5;34m0\u001b[0m (0.00 B)\n"
            ],
            "text/html": [
              "<pre style=\"white-space:pre;overflow-x:auto;line-height:normal;font-family:Menlo,'DejaVu Sans Mono',consolas,'Courier New',monospace\"><span style=\"font-weight: bold\"> Non-trainable params: </span><span style=\"color: #00af00; text-decoration-color: #00af00\">0</span> (0.00 B)\n",
              "</pre>\n"
            ]
          },
          "metadata": {}
        }
      ]
    },
    {
      "cell_type": "code",
      "source": [
        "model_gru.compile(optimizer='adam' , loss='mse' , metrics=['mae'])"
      ],
      "metadata": {
        "id": "PFYfIS4MQ7wz"
      },
      "id": "PFYfIS4MQ7wz",
      "execution_count": 309,
      "outputs": []
    },
    {
      "cell_type": "code",
      "source": [
        "history_gru = model_gru.fit(train_xy , validation_data=val_xy , epochs=5 , batch_size=32)"
      ],
      "metadata": {
        "colab": {
          "base_uri": "https://localhost:8080/"
        },
        "id": "VoZhwwtSQ-OJ",
        "outputId": "cdbe7bd0-356d-4beb-ebfd-99207c2814b7"
      },
      "id": "VoZhwwtSQ-OJ",
      "execution_count": 310,
      "outputs": [
        {
          "output_type": "stream",
          "name": "stdout",
          "text": [
            "Epoch 1/5\n",
            "\u001b[1m109/109\u001b[0m \u001b[32m━━━━━━━━━━━━━━━━━━━━\u001b[0m\u001b[37m\u001b[0m \u001b[1m20s\u001b[0m 111ms/step - loss: 0.0151 - mae: 0.1039 - val_loss: 0.0056 - val_mae: 0.0573\n",
            "Epoch 2/5\n",
            "\u001b[1m109/109\u001b[0m \u001b[32m━━━━━━━━━━━━━━━━━━━━\u001b[0m\u001b[37m\u001b[0m \u001b[1m11s\u001b[0m 101ms/step - loss: 0.0049 - mae: 0.0543 - val_loss: 0.0032 - val_mae: 0.0421\n",
            "Epoch 3/5\n",
            "\u001b[1m109/109\u001b[0m \u001b[32m━━━━━━━━━━━━━━━━━━━━\u001b[0m\u001b[37m\u001b[0m \u001b[1m22s\u001b[0m 113ms/step - loss: 0.0028 - mae: 0.0399 - val_loss: 0.0016 - val_mae: 0.0299\n",
            "Epoch 4/5\n",
            "\u001b[1m109/109\u001b[0m \u001b[32m━━━━━━━━━━━━━━━━━━━━\u001b[0m\u001b[37m\u001b[0m \u001b[1m12s\u001b[0m 113ms/step - loss: 0.0017 - mae: 0.0291 - val_loss: 0.0012 - val_mae: 0.0251\n",
            "Epoch 5/5\n",
            "\u001b[1m109/109\u001b[0m \u001b[32m━━━━━━━━━━━━━━━━━━━━\u001b[0m\u001b[37m\u001b[0m \u001b[1m12s\u001b[0m 113ms/step - loss: 0.0014 - mae: 0.0258 - val_loss: 0.0012 - val_mae: 0.0243\n"
          ]
        }
      ]
    },
    {
      "cell_type": "code",
      "source": [
        "pred_rgu = model_gru.predict(test_xy)"
      ],
      "metadata": {
        "colab": {
          "base_uri": "https://localhost:8080/"
        },
        "id": "R75Uj24GRNMO",
        "outputId": "99ad688e-63af-4994-b39c-d08bbd597afe"
      },
      "id": "R75Uj24GRNMO",
      "execution_count": 311,
      "outputs": [
        {
          "output_type": "stream",
          "name": "stdout",
          "text": [
            "\u001b[1m24/24\u001b[0m \u001b[32m━━━━━━━━━━━━━━━━━━━━\u001b[0m\u001b[37m\u001b[0m \u001b[1m2s\u001b[0m 62ms/step\n"
          ]
        }
      ]
    },
    {
      "cell_type": "code",
      "source": [
        "model_rnn.evaluate(test_xy)\n",
        "model_rnn.evaluate(train_xy)\n",
        "model_rnn.evaluate(val_xy)"
      ],
      "metadata": {
        "colab": {
          "base_uri": "https://localhost:8080/"
        },
        "id": "ct_dQZ7ARRY6",
        "outputId": "0ead7108-fc04-46a1-c9cf-9e7f08d505d1"
      },
      "id": "ct_dQZ7ARRY6",
      "execution_count": 312,
      "outputs": [
        {
          "output_type": "stream",
          "name": "stdout",
          "text": [
            "\u001b[1m24/24\u001b[0m \u001b[32m━━━━━━━━━━━━━━━━━━━━\u001b[0m\u001b[37m\u001b[0m \u001b[1m1s\u001b[0m 35ms/step - loss: 0.0024 - mae: 0.0359\n",
            "\u001b[1m109/109\u001b[0m \u001b[32m━━━━━━━━━━━━━━━━━━━━\u001b[0m\u001b[37m\u001b[0m \u001b[1m3s\u001b[0m 27ms/step - loss: 0.0022 - mae: 0.0347\n",
            "\u001b[1m24/24\u001b[0m \u001b[32m━━━━━━━━━━━━━━━━━━━━\u001b[0m\u001b[37m\u001b[0m \u001b[1m1s\u001b[0m 23ms/step - loss: 0.0019 - mae: 0.0320\n"
          ]
        },
        {
          "output_type": "execute_result",
          "data": {
            "text/plain": [
              "[0.0019967814441770315, 0.033107858151197433]"
            ]
          },
          "metadata": {},
          "execution_count": 312
        }
      ]
    },
    {
      "cell_type": "code",
      "source": [
        "print(mean_absolute_error(pred_rgu , true_xy))\n",
        "print(mean_absolute_percentage_error(pred_rgu , true_xy))\n",
        "print(mean_squared_error(pred_rgu , true_xy))"
      ],
      "metadata": {
        "colab": {
          "base_uri": "https://localhost:8080/"
        },
        "id": "zAGWG6XDRUV9",
        "outputId": "0202c6ba-6075-4aaa-d1bb-bb4db6c9a7eb"
      },
      "id": "zAGWG6XDRUV9",
      "execution_count": 313,
      "outputs": [
        {
          "output_type": "stream",
          "name": "stdout",
          "text": [
            "0.0258248509547507\n",
            "98633704381.11108\n",
            "0.0015744411127573959\n"
          ]
        }
      ]
    },
    {
      "cell_type": "code",
      "source": [
        "pd.DataFrame(history_gru.history)[['loss' , 'val_loss']].plot()"
      ],
      "metadata": {
        "colab": {
          "base_uri": "https://localhost:8080/",
          "height": 447
        },
        "id": "V3dzorahRXPN",
        "outputId": "43534456-be4d-4200-ed3b-3f90f2ae3c5b"
      },
      "id": "V3dzorahRXPN",
      "execution_count": 314,
      "outputs": [
        {
          "output_type": "execute_result",
          "data": {
            "text/plain": [
              "<Axes: >"
            ]
          },
          "metadata": {},
          "execution_count": 314
        },
        {
          "output_type": "display_data",
          "data": {
            "text/plain": [
              "<Figure size 640x480 with 1 Axes>"
            ],
            "image/png": "[encoded data removed]"
          },
          "metadata": {}
        }
      ]
    },
    {
      "cell_type": "markdown",
      "id": "9cb9e77a",
      "metadata": {
        "id": "9cb9e77a"
      },
      "source": [
        "## Project Questions:\n",
        "\n",
        "1. **Data Preprocessing**: Explain why you chose your specific data preprocessing techniques (e.g., normalization, handling missing values). How did these techniques help prepare the data for training the model?\n",
        "2. **Feature Engineering**: Did you perform any feature engineering or transformations? Describe your decisions and how these new features (or transformed features) contributed to the forecasting model.\n",
        "3. **Model Architecture**: Describe the reasoning behind your model’s architecture (e.g., the type of model, layers, number of neurons, and activation functions). Why did you believe this architecture was appropriate for time series forecasting?\n",
        "4. **Training Process**: Discuss why you chose your batch size, number of epochs, and optimizer. How did these choices affect the training process? Did you experiment with different values, and what were the outcomes?\n",
        "5. **Loss Function and Metrics**: Why did you choose the specific loss function and evaluation metrics (e.g., MAE, RMSE, MAPE)? How do they align with the objective of forecasting?\n",
        "6. **Model Tuning (If Done)**: Describe any tuning you performed (e.g., hyperparameter tuning) and why you felt it was necessary. How did these adjustments improve model performance?\n",
        "7. **Overfitting and Underfitting**: Analyze whether the model encountered any overfitting or underfitting during training. What strategies could you implement to mitigate these issues?\n",
        "8. **Future Improvements**: Suggest potential improvements or further steps you could take to enhance model performance. Consider using different algorithms, feature engineering techniques, or tuning hyperparameters."
      ]
    },
    {
      "cell_type": "markdown",
      "id": "67ba7c70",
      "metadata": {
        "id": "67ba7c70"
      },
      "source": [
        "### Answer Here:"
      ]
    },
    {
      "cell_type": "markdown",
      "source": [
        "**I chose to delete the columns ['weather_main', 'weather_description'] because I found that they exist in detail , I also did not run this column prev_traffic_volume because I ran it before with the name leg1 ,  I faced a problem at the beginning in .resample ('D') because I put M and it was showing traffic_day['avg'] as null but when I modified it the problem was solved and I think that is because of the day or month, and I think it is useful when building new columns Such as month and day,  Because it is a regression we chose the matrix and loss mse and mae , When comparing the three models I found that GRU is the best and the more we increased the layer size it improved unlike LSTM and RNN the more the layer increased it got worse**"
      ],
      "metadata": {
        "id": "IhvX6DkubH2e"
      },
      "id": "IhvX6DkubH2e"
    },
    {
      "cell_type": "markdown",
      "source": [
        "**When increasing the size of the epochs and decreasing the layers in the RNN, the model began to improve.**"
      ],
      "metadata": {
        "id": "Hil-fbHihdSm"
      },
      "id": "Hil-fbHihdSm"
    },
    {
      "cell_type": "markdown",
      "source": [
        "**I tried used DROPOUT as well but the pattern was getting worse.**\n"
      ],
      "metadata": {
        "id": "FqguROighsk4"
      },
      "id": "FqguROighsk4"
    },
    {
      "cell_type": "code",
      "source": [],
      "metadata": {
        "id": "-h8VWRM3heeB"
      },
      "id": "-h8VWRM3heeB",
      "execution_count": null,
      "outputs": []
    }
  ],
  "metadata": {
    "kernelspec": {
      "display_name": "base",
      "language": "python",
      "name": "python3"
    },
    "language_info": {
      "codemirror_mode": {
        "name": "ipython",
        "version": 3
      },
      "file_extension": ".py",
      "mimetype": "text/x-python",
      "name": "python",
      "nbconvert_exporter": "python",
      "pygments_lexer": "ipython3",
      "version": "3.12.4"
    },
    "colab": {
      "provenance": [],
      "include_colab_link": true
    }
  },
  "nbformat": 4,
  "nbformat_minor": 5
}